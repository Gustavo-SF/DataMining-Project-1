{
 "cells": [
  {
   "cell_type": "markdown",
   "metadata": {},
   "source": [
    "# Data Mining / Prospecção de Dados\n",
    "\n",
    "## Sara C. Madeira and André Falcão, 2019/20\n",
    "\n",
    "# Project 1 - Pattern Mining"
   ]
  },
  {
   "cell_type": "markdown",
   "metadata": {},
   "source": [
    "## Dataset and Tools\n",
    "\n",
    "In this project you should use [Python 3](https://www.python.org), [Jupyter Notebook](http://jupyter.org) and **[MLxtend](http://rasbt.github.io/mlxtend/)**. When using MLxtend, frequent patterns can either be discovered using `Apriori` and `FP-Growth`. **Choose the pattern mining algorithm to be used.** \n",
    "\n",
    "The dataset to be analysed is **`Foodmart_2020_PD.csv`**, a modified version of the [Foodmart 2000(2005) dataset](https://github.com/neo4j-examples/neo4j-foodmart-dataset/tree/master/data). \n",
    "\n",
    "**`Foodmart_2020_PD.csv`** stores **69549 transactions** from **24 stores**, where **103 different products** can be bought. Each transaction (row) has a STORE_ID (integer from 1 to 24), and a list of products (items), together with the quantities bought. In the transation highlighted below, a customer bought 1 unit of soup, 2 of cheese and 1 of wine at store 2.\n",
    "\n",
    "<img src=\"Foodmart_2020_PD_Example.png\" alt=\"Foodmart_2020_PD_Example\" style=\"width: 1000px;\"/>"
   ]
  },
  {
   "cell_type": "markdown",
   "metadata": {},
   "source": [
    "**In what follows keep the following question in mind and be creative!**\n",
    "\n",
    "1. What are the most popular products?\n",
    "2. Which products are bought together?\n",
    "3. Can you find associations highliting that when people buy a product/set of products also buy other product(s)?"
   ]
  },
  {
   "cell_type": "markdown",
   "metadata": {},
   "source": [
    "## 0. Imports\n",
    "\n",
    "Imports are done here"
   ]
  },
  {
   "cell_type": "code",
   "execution_count": 17,
   "metadata": {},
   "outputs": [],
   "source": [
    "import pandas as pd\n",
    "import numpy as np\n",
    "from mlxtend.preprocessing import TransactionEncoder\n",
    "import matplotlib.pyplot as plt\n",
    "from mlxtend.frequent_patterns import apriori, fpgrowth\n",
    "from mlxtend.frequent_patterns import association_rules\n",
    "from mlxtend.frequent_patterns import fpmax"
   ]
  },
  {
   "cell_type": "markdown",
   "metadata": {},
   "source": [
    "## 1. Mining Frequent Itemsets and Association Rules: Ignoring Product Quantities and Stores\n",
    "\n",
    "In this first part of the project you should load and preprocessed the dataset **`Foodmart_2020_PD.csv`** in order to compute frequent itemsets and generate association rules considering all the transactions, regardeless of the store, and ignoring product quantities."
   ]
  },
  {
   "cell_type": "markdown",
   "metadata": {},
   "source": [
    "### 1.1. Load and Preprocess Dataset\n",
    "\n",
    " **Product quantities and stores should not be considered.**"
   ]
  },
  {
   "cell_type": "markdown",
   "metadata": {},
   "source": [
    "Load the data"
   ]
  },
  {
   "cell_type": "code",
   "execution_count": 18,
   "metadata": {},
   "outputs": [
    {
     "data": {
      "text/plain": [
       "(69549, 11)"
      ]
     },
     "execution_count": 18,
     "metadata": {},
     "output_type": "execute_result"
    }
   ],
   "source": [
    "df_itemset = pd.read_csv('./data/Foodmart_2020_PD.csv', delimiter = ';')\n",
    "df_itemset.shape"
   ]
  },
  {
   "cell_type": "markdown",
   "metadata": {},
   "source": [
    "Our dataset consists of 69549 transactions."
   ]
  },
  {
   "cell_type": "markdown",
   "metadata": {},
   "source": [
    "The Dataframe have 11 columns, which means that the transaction with most products has 11 products."
   ]
  },
  {
   "cell_type": "code",
   "execution_count": 19,
   "metadata": {},
   "outputs": [
    {
     "data": {
      "text/html": [
       "<div>\n",
       "<style scoped>\n",
       "    .dataframe tbody tr th:only-of-type {\n",
       "        vertical-align: middle;\n",
       "    }\n",
       "\n",
       "    .dataframe tbody tr th {\n",
       "        vertical-align: top;\n",
       "    }\n",
       "\n",
       "    .dataframe thead th {\n",
       "        text-align: right;\n",
       "    }\n",
       "</style>\n",
       "<table border=\"1\" class=\"dataframe\">\n",
       "  <thead>\n",
       "    <tr style=\"text-align: right;\">\n",
       "      <th></th>\n",
       "      <th>Column1</th>\n",
       "      <th>Column2</th>\n",
       "      <th>Column3</th>\n",
       "      <th>Column4</th>\n",
       "      <th>Column5</th>\n",
       "      <th>Column6</th>\n",
       "      <th>Column7</th>\n",
       "      <th>Column8</th>\n",
       "      <th>Column9</th>\n",
       "      <th>Column10</th>\n",
       "      <th>Column11</th>\n",
       "    </tr>\n",
       "  </thead>\n",
       "  <tbody>\n",
       "    <tr>\n",
       "      <th>0</th>\n",
       "      <td>STORE_ID=2</td>\n",
       "      <td>Pasta=3</td>\n",
       "      <td>Soup=2</td>\n",
       "      <td>NaN</td>\n",
       "      <td>NaN</td>\n",
       "      <td>NaN</td>\n",
       "      <td>NaN</td>\n",
       "      <td>NaN</td>\n",
       "      <td>NaN</td>\n",
       "      <td>NaN</td>\n",
       "      <td>NaN</td>\n",
       "    </tr>\n",
       "    <tr>\n",
       "      <th>1</th>\n",
       "      <td>STORE_ID=2</td>\n",
       "      <td>Soup=1</td>\n",
       "      <td>Fresh Vegetables=3</td>\n",
       "      <td>Milk=3</td>\n",
       "      <td>Plastic Utensils=2</td>\n",
       "      <td>NaN</td>\n",
       "      <td>NaN</td>\n",
       "      <td>NaN</td>\n",
       "      <td>NaN</td>\n",
       "      <td>NaN</td>\n",
       "      <td>NaN</td>\n",
       "    </tr>\n",
       "    <tr>\n",
       "      <th>2</th>\n",
       "      <td>STORE_ID=2</td>\n",
       "      <td>Cheese=2</td>\n",
       "      <td>Deodorizers=1</td>\n",
       "      <td>Hard Candy=2</td>\n",
       "      <td>Jam=2</td>\n",
       "      <td>NaN</td>\n",
       "      <td>NaN</td>\n",
       "      <td>NaN</td>\n",
       "      <td>NaN</td>\n",
       "      <td>NaN</td>\n",
       "      <td>NaN</td>\n",
       "    </tr>\n",
       "    <tr>\n",
       "      <th>3</th>\n",
       "      <td>STORE_ID=2</td>\n",
       "      <td>Fresh Vegetables=2</td>\n",
       "      <td>NaN</td>\n",
       "      <td>NaN</td>\n",
       "      <td>NaN</td>\n",
       "      <td>NaN</td>\n",
       "      <td>NaN</td>\n",
       "      <td>NaN</td>\n",
       "      <td>NaN</td>\n",
       "      <td>NaN</td>\n",
       "      <td>NaN</td>\n",
       "    </tr>\n",
       "    <tr>\n",
       "      <th>4</th>\n",
       "      <td>STORE_ID=2</td>\n",
       "      <td>Cleaners=1</td>\n",
       "      <td>Cookies=2</td>\n",
       "      <td>Eggs=2</td>\n",
       "      <td>Preserves=1</td>\n",
       "      <td>NaN</td>\n",
       "      <td>NaN</td>\n",
       "      <td>NaN</td>\n",
       "      <td>NaN</td>\n",
       "      <td>NaN</td>\n",
       "      <td>NaN</td>\n",
       "    </tr>\n",
       "  </tbody>\n",
       "</table>\n",
       "</div>"
      ],
      "text/plain": [
       "      Column1             Column2             Column3       Column4  \\\n",
       "0  STORE_ID=2             Pasta=3              Soup=2           NaN   \n",
       "1  STORE_ID=2              Soup=1  Fresh Vegetables=3        Milk=3   \n",
       "2  STORE_ID=2            Cheese=2       Deodorizers=1  Hard Candy=2   \n",
       "3  STORE_ID=2  Fresh Vegetables=2                 NaN           NaN   \n",
       "4  STORE_ID=2          Cleaners=1           Cookies=2        Eggs=2   \n",
       "\n",
       "              Column5 Column6 Column7 Column8 Column9 Column10 Column11  \n",
       "0                 NaN     NaN     NaN     NaN     NaN      NaN      NaN  \n",
       "1  Plastic Utensils=2     NaN     NaN     NaN     NaN      NaN      NaN  \n",
       "2               Jam=2     NaN     NaN     NaN     NaN      NaN      NaN  \n",
       "3                 NaN     NaN     NaN     NaN     NaN      NaN      NaN  \n",
       "4         Preserves=1     NaN     NaN     NaN     NaN      NaN      NaN  "
      ]
     },
     "execution_count": 19,
     "metadata": {},
     "output_type": "execute_result"
    }
   ],
   "source": [
    "df_itemset.head()"
   ]
  },
  {
   "cell_type": "markdown",
   "metadata": {},
   "source": [
    "**Preprocessing**"
   ]
  },
  {
   "cell_type": "markdown",
   "metadata": {},
   "source": [
    "In this section, preprocessing will be done in order to remove the store column and the quantities from the dataset."
   ]
  },
  {
   "cell_type": "code",
   "execution_count": 20,
   "metadata": {},
   "outputs": [],
   "source": [
    "def clear_quantities(x):\n",
    "    if isinstance(x,str):\n",
    "        item = x.split('=')\n",
    "        return item[0]\n",
    "    else:\n",
    "        return x\n",
    "    \n",
    "def remove_nan(transactions):\n",
    "    #remove nan values\n",
    "    transactions_cleaned = []\n",
    "    for i, t in enumerate(transactions):\n",
    "        transaction = []\n",
    "        for v in t: \n",
    "            if isinstance(v,str): transaction.append(v)\n",
    "        transactions_cleaned.append(transaction)\n",
    "    return transactions_cleaned"
   ]
  },
  {
   "cell_type": "markdown",
   "metadata": {},
   "source": [
    "Remove store column from dataset and clear quantities."
   ]
  },
  {
   "cell_type": "code",
   "execution_count": 21,
   "metadata": {},
   "outputs": [],
   "source": [
    "#remove store column\n",
    "df1 = df_itemset.loc[:,'Column2':'Column11']\n",
    "\n",
    "#clear quantities\n",
    "df1 = df1.applymap(clear_quantities)"
   ]
  },
  {
   "cell_type": "code",
   "execution_count": 22,
   "metadata": {},
   "outputs": [
    {
     "data": {
      "text/html": [
       "<div>\n",
       "<style scoped>\n",
       "    .dataframe tbody tr th:only-of-type {\n",
       "        vertical-align: middle;\n",
       "    }\n",
       "\n",
       "    .dataframe tbody tr th {\n",
       "        vertical-align: top;\n",
       "    }\n",
       "\n",
       "    .dataframe thead th {\n",
       "        text-align: right;\n",
       "    }\n",
       "</style>\n",
       "<table border=\"1\" class=\"dataframe\">\n",
       "  <thead>\n",
       "    <tr style=\"text-align: right;\">\n",
       "      <th></th>\n",
       "      <th>Column2</th>\n",
       "      <th>Column3</th>\n",
       "      <th>Column4</th>\n",
       "      <th>Column5</th>\n",
       "      <th>Column6</th>\n",
       "      <th>Column7</th>\n",
       "      <th>Column8</th>\n",
       "      <th>Column9</th>\n",
       "      <th>Column10</th>\n",
       "      <th>Column11</th>\n",
       "    </tr>\n",
       "  </thead>\n",
       "  <tbody>\n",
       "    <tr>\n",
       "      <th>0</th>\n",
       "      <td>Pasta</td>\n",
       "      <td>Soup</td>\n",
       "      <td>NaN</td>\n",
       "      <td>NaN</td>\n",
       "      <td>NaN</td>\n",
       "      <td>NaN</td>\n",
       "      <td>NaN</td>\n",
       "      <td>NaN</td>\n",
       "      <td>NaN</td>\n",
       "      <td>NaN</td>\n",
       "    </tr>\n",
       "    <tr>\n",
       "      <th>1</th>\n",
       "      <td>Soup</td>\n",
       "      <td>Fresh Vegetables</td>\n",
       "      <td>Milk</td>\n",
       "      <td>Plastic Utensils</td>\n",
       "      <td>NaN</td>\n",
       "      <td>NaN</td>\n",
       "      <td>NaN</td>\n",
       "      <td>NaN</td>\n",
       "      <td>NaN</td>\n",
       "      <td>NaN</td>\n",
       "    </tr>\n",
       "    <tr>\n",
       "      <th>2</th>\n",
       "      <td>Cheese</td>\n",
       "      <td>Deodorizers</td>\n",
       "      <td>Hard Candy</td>\n",
       "      <td>Jam</td>\n",
       "      <td>NaN</td>\n",
       "      <td>NaN</td>\n",
       "      <td>NaN</td>\n",
       "      <td>NaN</td>\n",
       "      <td>NaN</td>\n",
       "      <td>NaN</td>\n",
       "    </tr>\n",
       "    <tr>\n",
       "      <th>3</th>\n",
       "      <td>Fresh Vegetables</td>\n",
       "      <td>NaN</td>\n",
       "      <td>NaN</td>\n",
       "      <td>NaN</td>\n",
       "      <td>NaN</td>\n",
       "      <td>NaN</td>\n",
       "      <td>NaN</td>\n",
       "      <td>NaN</td>\n",
       "      <td>NaN</td>\n",
       "      <td>NaN</td>\n",
       "    </tr>\n",
       "    <tr>\n",
       "      <th>4</th>\n",
       "      <td>Cleaners</td>\n",
       "      <td>Cookies</td>\n",
       "      <td>Eggs</td>\n",
       "      <td>Preserves</td>\n",
       "      <td>NaN</td>\n",
       "      <td>NaN</td>\n",
       "      <td>NaN</td>\n",
       "      <td>NaN</td>\n",
       "      <td>NaN</td>\n",
       "      <td>NaN</td>\n",
       "    </tr>\n",
       "  </tbody>\n",
       "</table>\n",
       "</div>"
      ],
      "text/plain": [
       "            Column2           Column3     Column4           Column5 Column6  \\\n",
       "0             Pasta              Soup         NaN               NaN     NaN   \n",
       "1              Soup  Fresh Vegetables        Milk  Plastic Utensils     NaN   \n",
       "2            Cheese       Deodorizers  Hard Candy               Jam     NaN   \n",
       "3  Fresh Vegetables               NaN         NaN               NaN     NaN   \n",
       "4          Cleaners           Cookies        Eggs         Preserves     NaN   \n",
       "\n",
       "  Column7 Column8 Column9 Column10 Column11  \n",
       "0     NaN     NaN     NaN      NaN      NaN  \n",
       "1     NaN     NaN     NaN      NaN      NaN  \n",
       "2     NaN     NaN     NaN      NaN      NaN  \n",
       "3     NaN     NaN     NaN      NaN      NaN  \n",
       "4     NaN     NaN     NaN      NaN      NaN  "
      ]
     },
     "execution_count": 22,
     "metadata": {},
     "output_type": "execute_result"
    }
   ],
   "source": [
    "df1.head()"
   ]
  },
  {
   "cell_type": "markdown",
   "metadata": {},
   "source": [
    "After removing quantities and store column, we get the DataFrame above."
   ]
  },
  {
   "cell_type": "markdown",
   "metadata": {},
   "source": [
    "Now lets convert the Dataframe to a matrix and remove the 'NaN' values in each vector (transaction), before fed the matrix into the Transaction Encoder."
   ]
  },
  {
   "cell_type": "code",
   "execution_count": 23,
   "metadata": {},
   "outputs": [
    {
     "data": {
      "text/plain": [
       "[['Pasta', 'Soup'],\n",
       " ['Soup', 'Fresh Vegetables', 'Milk', 'Plastic Utensils'],\n",
       " ['Cheese', 'Deodorizers', 'Hard Candy', 'Jam'],\n",
       " ['Fresh Vegetables'],\n",
       " ['Cleaners', 'Cookies', 'Eggs', 'Preserves']]"
      ]
     },
     "execution_count": 23,
     "metadata": {},
     "output_type": "execute_result"
    }
   ],
   "source": [
    "transactions_cleaned = remove_nan(df1.values)\n",
    "#view just the first 5 transactions\n",
    "transactions_cleaned[:5]"
   ]
  },
  {
   "cell_type": "markdown",
   "metadata": {},
   "source": [
    "Now lets apply the Transaction Encoder, it transforms our data into the input format of FP-Growth and Apriori algorithms."
   ]
  },
  {
   "cell_type": "code",
   "execution_count": 24,
   "metadata": {},
   "outputs": [
    {
     "data": {
      "text/html": [
       "<div>\n",
       "<style scoped>\n",
       "    .dataframe tbody tr th:only-of-type {\n",
       "        vertical-align: middle;\n",
       "    }\n",
       "\n",
       "    .dataframe tbody tr th {\n",
       "        vertical-align: top;\n",
       "    }\n",
       "\n",
       "    .dataframe thead th {\n",
       "        text-align: right;\n",
       "    }\n",
       "</style>\n",
       "<table border=\"1\" class=\"dataframe\">\n",
       "  <thead>\n",
       "    <tr style=\"text-align: right;\">\n",
       "      <th></th>\n",
       "      <th>Acetominifen</th>\n",
       "      <th>Anchovies</th>\n",
       "      <th>Aspirin</th>\n",
       "      <th>Auto Magazines</th>\n",
       "      <th>Bagels</th>\n",
       "      <th>Batteries</th>\n",
       "      <th>Beer</th>\n",
       "      <th>Bologna</th>\n",
       "      <th>Candles</th>\n",
       "      <th>Canned Fruit</th>\n",
       "      <th>...</th>\n",
       "      <th>Sunglasses</th>\n",
       "      <th>TV Dinner</th>\n",
       "      <th>Tofu</th>\n",
       "      <th>Toilet Brushes</th>\n",
       "      <th>Tools</th>\n",
       "      <th>Toothbrushes</th>\n",
       "      <th>Tuna</th>\n",
       "      <th>Waffles</th>\n",
       "      <th>Wine</th>\n",
       "      <th>Yogurt</th>\n",
       "    </tr>\n",
       "  </thead>\n",
       "  <tbody>\n",
       "    <tr>\n",
       "      <th>0</th>\n",
       "      <td>False</td>\n",
       "      <td>False</td>\n",
       "      <td>False</td>\n",
       "      <td>False</td>\n",
       "      <td>False</td>\n",
       "      <td>False</td>\n",
       "      <td>False</td>\n",
       "      <td>False</td>\n",
       "      <td>False</td>\n",
       "      <td>False</td>\n",
       "      <td>...</td>\n",
       "      <td>False</td>\n",
       "      <td>False</td>\n",
       "      <td>False</td>\n",
       "      <td>False</td>\n",
       "      <td>False</td>\n",
       "      <td>False</td>\n",
       "      <td>False</td>\n",
       "      <td>False</td>\n",
       "      <td>False</td>\n",
       "      <td>False</td>\n",
       "    </tr>\n",
       "    <tr>\n",
       "      <th>1</th>\n",
       "      <td>False</td>\n",
       "      <td>False</td>\n",
       "      <td>False</td>\n",
       "      <td>False</td>\n",
       "      <td>False</td>\n",
       "      <td>False</td>\n",
       "      <td>False</td>\n",
       "      <td>False</td>\n",
       "      <td>False</td>\n",
       "      <td>False</td>\n",
       "      <td>...</td>\n",
       "      <td>False</td>\n",
       "      <td>False</td>\n",
       "      <td>False</td>\n",
       "      <td>False</td>\n",
       "      <td>False</td>\n",
       "      <td>False</td>\n",
       "      <td>False</td>\n",
       "      <td>False</td>\n",
       "      <td>False</td>\n",
       "      <td>False</td>\n",
       "    </tr>\n",
       "    <tr>\n",
       "      <th>2</th>\n",
       "      <td>False</td>\n",
       "      <td>False</td>\n",
       "      <td>False</td>\n",
       "      <td>False</td>\n",
       "      <td>False</td>\n",
       "      <td>False</td>\n",
       "      <td>False</td>\n",
       "      <td>False</td>\n",
       "      <td>False</td>\n",
       "      <td>False</td>\n",
       "      <td>...</td>\n",
       "      <td>False</td>\n",
       "      <td>False</td>\n",
       "      <td>False</td>\n",
       "      <td>False</td>\n",
       "      <td>False</td>\n",
       "      <td>False</td>\n",
       "      <td>False</td>\n",
       "      <td>False</td>\n",
       "      <td>False</td>\n",
       "      <td>False</td>\n",
       "    </tr>\n",
       "    <tr>\n",
       "      <th>3</th>\n",
       "      <td>False</td>\n",
       "      <td>False</td>\n",
       "      <td>False</td>\n",
       "      <td>False</td>\n",
       "      <td>False</td>\n",
       "      <td>False</td>\n",
       "      <td>False</td>\n",
       "      <td>False</td>\n",
       "      <td>False</td>\n",
       "      <td>False</td>\n",
       "      <td>...</td>\n",
       "      <td>False</td>\n",
       "      <td>False</td>\n",
       "      <td>False</td>\n",
       "      <td>False</td>\n",
       "      <td>False</td>\n",
       "      <td>False</td>\n",
       "      <td>False</td>\n",
       "      <td>False</td>\n",
       "      <td>False</td>\n",
       "      <td>False</td>\n",
       "    </tr>\n",
       "    <tr>\n",
       "      <th>4</th>\n",
       "      <td>False</td>\n",
       "      <td>False</td>\n",
       "      <td>False</td>\n",
       "      <td>False</td>\n",
       "      <td>False</td>\n",
       "      <td>False</td>\n",
       "      <td>False</td>\n",
       "      <td>False</td>\n",
       "      <td>False</td>\n",
       "      <td>False</td>\n",
       "      <td>...</td>\n",
       "      <td>False</td>\n",
       "      <td>False</td>\n",
       "      <td>False</td>\n",
       "      <td>False</td>\n",
       "      <td>False</td>\n",
       "      <td>False</td>\n",
       "      <td>False</td>\n",
       "      <td>False</td>\n",
       "      <td>False</td>\n",
       "      <td>False</td>\n",
       "    </tr>\n",
       "  </tbody>\n",
       "</table>\n",
       "<p>5 rows × 102 columns</p>\n",
       "</div>"
      ],
      "text/plain": [
       "   Acetominifen  Anchovies  Aspirin  Auto Magazines  Bagels  Batteries   Beer  \\\n",
       "0         False      False    False           False   False      False  False   \n",
       "1         False      False    False           False   False      False  False   \n",
       "2         False      False    False           False   False      False  False   \n",
       "3         False      False    False           False   False      False  False   \n",
       "4         False      False    False           False   False      False  False   \n",
       "\n",
       "   Bologna  Candles  Canned Fruit  ...  Sunglasses  TV Dinner   Tofu  \\\n",
       "0    False    False         False  ...       False      False  False   \n",
       "1    False    False         False  ...       False      False  False   \n",
       "2    False    False         False  ...       False      False  False   \n",
       "3    False    False         False  ...       False      False  False   \n",
       "4    False    False         False  ...       False      False  False   \n",
       "\n",
       "   Toilet Brushes  Tools  Toothbrushes   Tuna  Waffles   Wine  Yogurt  \n",
       "0           False  False         False  False    False  False   False  \n",
       "1           False  False         False  False    False  False   False  \n",
       "2           False  False         False  False    False  False   False  \n",
       "3           False  False         False  False    False  False   False  \n",
       "4           False  False         False  False    False  False   False  \n",
       "\n",
       "[5 rows x 102 columns]"
      ]
     },
     "execution_count": 24,
     "metadata": {},
     "output_type": "execute_result"
    }
   ],
   "source": [
    "te = TransactionEncoder()\n",
    "te_ary = te.fit(transactions_cleaned).transform(transactions_cleaned)\n",
    "df_te = pd.DataFrame(te_ary, columns=te.columns_)\n",
    "df_te.head()"
   ]
  },
  {
   "cell_type": "markdown",
   "metadata": {},
   "source": [
    "The transaction encoder dataframe has the following structure:\n",
    "\n",
    "* Each row represents one transaction;\n",
    "* Each column represents a product, and it is boolean: assumes True if the transaction contains that product, and False otherwise."
   ]
  },
  {
   "cell_type": "markdown",
   "metadata": {},
   "source": [
    "The dataframe outputed by the transaction has 102 columns, which means that our dataset has 102 unique products in all transactions."
   ]
  },
  {
   "cell_type": "markdown",
   "metadata": {},
   "source": [
    "**Small exploratory data analysis**"
   ]
  },
  {
   "cell_type": "markdown",
   "metadata": {},
   "source": [
    "Lets explore the products that we have in the dataset"
   ]
  },
  {
   "cell_type": "code",
   "execution_count": 25,
   "metadata": {},
   "outputs": [
    {
     "data": {
      "text/html": [
       "<div>\n",
       "<style scoped>\n",
       "    .dataframe tbody tr th:only-of-type {\n",
       "        vertical-align: middle;\n",
       "    }\n",
       "\n",
       "    .dataframe tbody tr th {\n",
       "        vertical-align: top;\n",
       "    }\n",
       "\n",
       "    .dataframe thead th {\n",
       "        text-align: right;\n",
       "    }\n",
       "</style>\n",
       "<table border=\"1\" class=\"dataframe\">\n",
       "  <thead>\n",
       "    <tr style=\"text-align: right;\">\n",
       "      <th></th>\n",
       "      <th>product</th>\n",
       "      <th>support</th>\n",
       "      <th>total</th>\n",
       "    </tr>\n",
       "  </thead>\n",
       "  <tbody>\n",
       "    <tr>\n",
       "      <th>0</th>\n",
       "      <td>Fresh Vegetables</td>\n",
       "      <td>0.284</td>\n",
       "      <td>19764</td>\n",
       "    </tr>\n",
       "    <tr>\n",
       "      <th>1</th>\n",
       "      <td>Fresh Fruit</td>\n",
       "      <td>0.175</td>\n",
       "      <td>12187</td>\n",
       "    </tr>\n",
       "    <tr>\n",
       "      <th>2</th>\n",
       "      <td>Soup</td>\n",
       "      <td>0.120</td>\n",
       "      <td>8350</td>\n",
       "    </tr>\n",
       "    <tr>\n",
       "      <th>3</th>\n",
       "      <td>Cheese</td>\n",
       "      <td>0.118</td>\n",
       "      <td>8193</td>\n",
       "    </tr>\n",
       "    <tr>\n",
       "      <th>4</th>\n",
       "      <td>Dried Fruit</td>\n",
       "      <td>0.117</td>\n",
       "      <td>8152</td>\n",
       "    </tr>\n",
       "  </tbody>\n",
       "</table>\n",
       "</div>"
      ],
      "text/plain": [
       "            product  support  total\n",
       "0  Fresh Vegetables    0.284  19764\n",
       "1       Fresh Fruit    0.175  12187\n",
       "2              Soup    0.120   8350\n",
       "3            Cheese    0.118   8193\n",
       "4       Dried Fruit    0.117   8152"
      ]
     },
     "execution_count": 25,
     "metadata": {},
     "output_type": "execute_result"
    }
   ],
   "source": [
    "df_products_frequency = pd.DataFrame()\n",
    "for c in df_te.columns:\n",
    "    df_c = df_te[c].value_counts().to_frame('count')\n",
    "    total = int(df_c[df_c.index == True]['count']) # Count True values\n",
    "    df_products_frequency = df_products_frequency.append({'product':c,'total': total,'support':(total/len(df_itemset))},ignore_index = True)\n",
    "df_products_frequency = df_products_frequency.sort_values('total',ascending = False).reset_index(drop=True)\n",
    "\n",
    "# Making it more presentable\n",
    "df_products_frequency['support'] = df_products_frequency['support'].astype('float64').round(3)\n",
    "df_products_frequency['total'] = df_products_frequency['total'].astype('int64')\n",
    "\n",
    "df_products_frequency.head()"
   ]
  },
  {
   "cell_type": "markdown",
   "metadata": {},
   "source": [
    "The most bought products are Fresh Vegatable, Fresh Fruit, Soup, Cheese and Dried Fruit."
   ]
  },
  {
   "cell_type": "markdown",
   "metadata": {},
   "source": [
    "Fresh Vegatable has a support of 0.284, which means that 28% of the transactions (19764 transactions) include this product."
   ]
  },
  {
   "cell_type": "markdown",
   "metadata": {},
   "source": [
    "Compute some statistic metrics about the total column"
   ]
  },
  {
   "cell_type": "code",
   "execution_count": 26,
   "metadata": {},
   "outputs": [
    {
     "data": {
      "text/plain": [
       "count      102.000000\n",
       "mean      2834.500000\n",
       "std       2589.666372\n",
       "min        895.000000\n",
       "25%        971.000000\n",
       "50%       1991.000000\n",
       "75%       3747.500000\n",
       "max      19764.000000\n",
       "Name: total, dtype: float64"
      ]
     },
     "execution_count": 26,
     "metadata": {},
     "output_type": "execute_result"
    }
   ],
   "source": [
    "df_products_frequency.total.describe()"
   ]
  },
  {
   "cell_type": "markdown",
   "metadata": {},
   "source": [
    "We can see that on average each product appears in 2834 transactions (+/- 2589.67 std). The less purchased product appears in 895 transactions, and the most bought product appears in 19764 transactions."
   ]
  },
  {
   "cell_type": "markdown",
   "metadata": {},
   "source": [
    "We know that the most bought product is Fresh Vegatable, now lets check the less purchased product."
   ]
  },
  {
   "cell_type": "code",
   "execution_count": 27,
   "metadata": {},
   "outputs": [
    {
     "data": {
      "text/plain": [
       "product    Fresh Fish\n",
       "support         0.013\n",
       "total             895\n",
       "Name: 101, dtype: object"
      ]
     },
     "execution_count": 27,
     "metadata": {},
     "output_type": "execute_result"
    }
   ],
   "source": [
    "df_products_frequency.iloc[df_products_frequency['total'].values.argmin()]"
   ]
  },
  {
   "cell_type": "markdown",
   "metadata": {},
   "source": [
    "The less purchased product is Fresh Fish, which appears in just 895 transactions, just 1.3% of the transactions in the dataset."
   ]
  },
  {
   "cell_type": "markdown",
   "metadata": {},
   "source": [
    "Now lets plot the 20 most frequent bought products"
   ]
  },
  {
   "cell_type": "code",
   "execution_count": 28,
   "metadata": {},
   "outputs": [
    {
     "data": {
      "text/plain": [
       "([0, 1, 2, 3, 4, 5, 6, 7, 8, 9, 10, 11, 12, 13, 14, 15, 16, 17, 18, 19],\n",
       " <a list of 20 Text xticklabel objects>)"
      ]
     },
     "execution_count": 28,
     "metadata": {},
     "output_type": "execute_result"
    },
    {
     "data": {
      "image/png": "[encoded data removed]",
      "text/plain": [
       "<Figure size 1080x360 with 1 Axes>"
      ]
     },
     "metadata": {
      "needs_background": "light"
     },
     "output_type": "display_data"
    }
   ],
   "source": [
    "plt.figure(figsize=(15,5))\n",
    "df_graph = df_products_frequency.iloc[:20]\n",
    "plt.bar(df_graph['product'],df_graph['total'])\n",
    "plt.xticks(rotation=90)"
   ]
  },
  {
   "cell_type": "markdown",
   "metadata": {},
   "source": [
    "The figure above shows that Fresh Vegetables is by far the most purchased product."
   ]
  },
  {
   "cell_type": "markdown",
   "metadata": {},
   "source": [
    "### 1.2. Compute Frequent Itemsets"
   ]
  },
  {
   "cell_type": "markdown",
   "metadata": {},
   "source": [
    "* Compute frequent itemsets considering a minimum support of X%. \n",
    "* Present frequent itemsets organized by length (number of items). \n",
    "* List frequent 1-itemsets, 2-itemsets, 3-itemsets, etc with support of at least Y%.\n",
    "* Change X and Y when it makes sense and discuss the results."
   ]
  },
  {
   "cell_type": "markdown",
   "metadata": {},
   "source": [
    "Now lets use Apriori and FP Growth to compute frequent itemsets, compare their performances, and use that itemsets to compute association rules."
   ]
  },
  {
   "cell_type": "code",
   "execution_count": 29,
   "metadata": {},
   "outputs": [],
   "source": [
    "X = 0.005\n",
    "Y = 0.007"
   ]
  },
  {
   "cell_type": "markdown",
   "metadata": {},
   "source": [
    "### 1.2.1 Using apriori algorithm"
   ]
  },
  {
   "cell_type": "code",
   "execution_count": 30,
   "metadata": {},
   "outputs": [
    {
     "name": "stdout",
     "output_type": "stream",
     "text": [
      "8.57 s ± 414 ms per loop (mean ± std. dev. of 7 runs, 1 loop each)\n"
     ]
    }
   ],
   "source": [
    "%timeit apriori(df_te, min_support=X, use_colnames=True)"
   ]
  },
  {
   "cell_type": "markdown",
   "metadata": {},
   "source": [
    "The apriori algorithm takes +- 10 seconds per loop with min_support = 0.005"
   ]
  },
  {
   "cell_type": "markdown",
   "metadata": {},
   "source": [
    "Now lets compute the frequent itemsets of length 1, 2 and 3. We will create a column named 'num_transactions' which indicates approximately the number of transactions were that item set occurs."
   ]
  },
  {
   "cell_type": "code",
   "execution_count": 31,
   "metadata": {},
   "outputs": [],
   "source": [
    "frequent_itemsets  = apriori(df_te, min_support=X, use_colnames=True)\n",
    "frequent_itemsets = frequent_itemsets.sort_values('support',ascending = False)\n",
    "frequent_itemsets['length'] = frequent_itemsets['itemsets'].apply(lambda x: len(x))\n",
    "frequent_itemsets['num_transactions'] = [round(s*len(df_itemset)) for s in frequent_itemsets['support']]\n",
    "frequent_itemsets = frequent_itemsets.sort_values('support',ascending = False)"
   ]
  },
  {
   "cell_type": "code",
   "execution_count": 32,
   "metadata": {},
   "outputs": [
    {
     "data": {
      "text/html": [
       "<div>\n",
       "<style scoped>\n",
       "    .dataframe tbody tr th:only-of-type {\n",
       "        vertical-align: middle;\n",
       "    }\n",
       "\n",
       "    .dataframe tbody tr th {\n",
       "        vertical-align: top;\n",
       "    }\n",
       "\n",
       "    .dataframe thead th {\n",
       "        text-align: right;\n",
       "    }\n",
       "</style>\n",
       "<table border=\"1\" class=\"dataframe\">\n",
       "  <thead>\n",
       "    <tr style=\"text-align: right;\">\n",
       "      <th></th>\n",
       "      <th>support</th>\n",
       "      <th>itemsets</th>\n",
       "      <th>length</th>\n",
       "      <th>num_transactions</th>\n",
       "    </tr>\n",
       "  </thead>\n",
       "  <tbody>\n",
       "    <tr>\n",
       "      <th>40</th>\n",
       "      <td>0.284174</td>\n",
       "      <td>(Fresh Vegetables)</td>\n",
       "      <td>1</td>\n",
       "      <td>19764</td>\n",
       "    </tr>\n",
       "    <tr>\n",
       "      <th>39</th>\n",
       "      <td>0.175229</td>\n",
       "      <td>(Fresh Fruit)</td>\n",
       "      <td>1</td>\n",
       "      <td>12187</td>\n",
       "    </tr>\n",
       "    <tr>\n",
       "      <th>86</th>\n",
       "      <td>0.120059</td>\n",
       "      <td>(Soup)</td>\n",
       "      <td>1</td>\n",
       "      <td>8350</td>\n",
       "    </tr>\n",
       "    <tr>\n",
       "      <th>12</th>\n",
       "      <td>0.117802</td>\n",
       "      <td>(Cheese)</td>\n",
       "      <td>1</td>\n",
       "      <td>8193</td>\n",
       "    </tr>\n",
       "    <tr>\n",
       "      <th>31</th>\n",
       "      <td>0.117212</td>\n",
       "      <td>(Dried Fruit)</td>\n",
       "      <td>1</td>\n",
       "      <td>8152</td>\n",
       "    </tr>\n",
       "    <tr>\n",
       "      <th>...</th>\n",
       "      <td>...</td>\n",
       "      <td>...</td>\n",
       "      <td>...</td>\n",
       "      <td>...</td>\n",
       "    </tr>\n",
       "    <tr>\n",
       "      <th>3</th>\n",
       "      <td>0.013343</td>\n",
       "      <td>(Auto Magazines)</td>\n",
       "      <td>1</td>\n",
       "      <td>928</td>\n",
       "    </tr>\n",
       "    <tr>\n",
       "      <th>79</th>\n",
       "      <td>0.013271</td>\n",
       "      <td>(Sauces)</td>\n",
       "      <td>1</td>\n",
       "      <td>923</td>\n",
       "    </tr>\n",
       "    <tr>\n",
       "      <th>34</th>\n",
       "      <td>0.013156</td>\n",
       "      <td>(Fashion Magazines)</td>\n",
       "      <td>1</td>\n",
       "      <td>915</td>\n",
       "    </tr>\n",
       "    <tr>\n",
       "      <th>62</th>\n",
       "      <td>0.012998</td>\n",
       "      <td>(Pancakes)</td>\n",
       "      <td>1</td>\n",
       "      <td>904</td>\n",
       "    </tr>\n",
       "    <tr>\n",
       "      <th>38</th>\n",
       "      <td>0.012869</td>\n",
       "      <td>(Fresh Fish)</td>\n",
       "      <td>1</td>\n",
       "      <td>895</td>\n",
       "    </tr>\n",
       "  </tbody>\n",
       "</table>\n",
       "<p>102 rows × 4 columns</p>\n",
       "</div>"
      ],
      "text/plain": [
       "     support             itemsets  length  num_transactions\n",
       "40  0.284174   (Fresh Vegetables)       1             19764\n",
       "39  0.175229        (Fresh Fruit)       1             12187\n",
       "86  0.120059               (Soup)       1              8350\n",
       "12  0.117802             (Cheese)       1              8193\n",
       "31  0.117212        (Dried Fruit)       1              8152\n",
       "..       ...                  ...     ...               ...\n",
       "3   0.013343     (Auto Magazines)       1               928\n",
       "79  0.013271             (Sauces)       1               923\n",
       "34  0.013156  (Fashion Magazines)       1               915\n",
       "62  0.012998           (Pancakes)       1               904\n",
       "38  0.012869         (Fresh Fish)       1               895\n",
       "\n",
       "[102 rows x 4 columns]"
      ]
     },
     "execution_count": 32,
     "metadata": {},
     "output_type": "execute_result"
    }
   ],
   "source": [
    "frequent_itemsets.query(f'length == 1 & support > {Y}')"
   ]
  },
  {
   "cell_type": "code",
   "execution_count": 33,
   "metadata": {},
   "outputs": [
    {
     "data": {
      "text/html": [
       "<div>\n",
       "<style scoped>\n",
       "    .dataframe tbody tr th:only-of-type {\n",
       "        vertical-align: middle;\n",
       "    }\n",
       "\n",
       "    .dataframe tbody tr th {\n",
       "        vertical-align: top;\n",
       "    }\n",
       "\n",
       "    .dataframe thead th {\n",
       "        text-align: right;\n",
       "    }\n",
       "</style>\n",
       "<table border=\"1\" class=\"dataframe\">\n",
       "  <thead>\n",
       "    <tr style=\"text-align: right;\">\n",
       "      <th></th>\n",
       "      <th>support</th>\n",
       "      <th>itemsets</th>\n",
       "      <th>length</th>\n",
       "      <th>num_transactions</th>\n",
       "    </tr>\n",
       "  </thead>\n",
       "  <tbody>\n",
       "    <tr>\n",
       "      <th>268</th>\n",
       "      <td>0.050914</td>\n",
       "      <td>(Fresh Vegetables, Fresh Fruit)</td>\n",
       "      <td>2</td>\n",
       "      <td>3541</td>\n",
       "    </tr>\n",
       "    <tr>\n",
       "      <th>332</th>\n",
       "      <td>0.035443</td>\n",
       "      <td>(Soup, Fresh Vegetables)</td>\n",
       "      <td>2</td>\n",
       "      <td>2465</td>\n",
       "    </tr>\n",
       "    <tr>\n",
       "      <th>235</th>\n",
       "      <td>0.035227</td>\n",
       "      <td>(Fresh Vegetables, Dried Fruit)</td>\n",
       "      <td>2</td>\n",
       "      <td>2450</td>\n",
       "    </tr>\n",
       "    <tr>\n",
       "      <th>146</th>\n",
       "      <td>0.031144</td>\n",
       "      <td>(Cheese, Fresh Vegetables)</td>\n",
       "      <td>2</td>\n",
       "      <td>2166</td>\n",
       "    </tr>\n",
       "    <tr>\n",
       "      <th>195</th>\n",
       "      <td>0.027721</td>\n",
       "      <td>(Fresh Vegetables, Cookies)</td>\n",
       "      <td>2</td>\n",
       "      <td>1928</td>\n",
       "    </tr>\n",
       "    <tr>\n",
       "      <th>...</th>\n",
       "      <td>...</td>\n",
       "      <td>...</td>\n",
       "      <td>...</td>\n",
       "      <td>...</td>\n",
       "    </tr>\n",
       "    <tr>\n",
       "      <th>200</th>\n",
       "      <td>0.007031</td>\n",
       "      <td>(Milk, Cookies)</td>\n",
       "      <td>2</td>\n",
       "      <td>489</td>\n",
       "    </tr>\n",
       "    <tr>\n",
       "      <th>112</th>\n",
       "      <td>0.007031</td>\n",
       "      <td>(Bologna, Fresh Fruit)</td>\n",
       "      <td>2</td>\n",
       "      <td>489</td>\n",
       "    </tr>\n",
       "    <tr>\n",
       "      <th>167</th>\n",
       "      <td>0.007017</td>\n",
       "      <td>(Cheese, Wine)</td>\n",
       "      <td>2</td>\n",
       "      <td>488</td>\n",
       "    </tr>\n",
       "    <tr>\n",
       "      <th>297</th>\n",
       "      <td>0.007002</td>\n",
       "      <td>(Fresh Fruit, Spices)</td>\n",
       "      <td>2</td>\n",
       "      <td>487</td>\n",
       "    </tr>\n",
       "    <tr>\n",
       "      <th>252</th>\n",
       "      <td>0.007002</td>\n",
       "      <td>(Dried Fruit, Soda)</td>\n",
       "      <td>2</td>\n",
       "      <td>487</td>\n",
       "    </tr>\n",
       "  </tbody>\n",
       "</table>\n",
       "<p>159 rows × 4 columns</p>\n",
       "</div>"
      ],
      "text/plain": [
       "      support                         itemsets  length  num_transactions\n",
       "268  0.050914  (Fresh Vegetables, Fresh Fruit)       2              3541\n",
       "332  0.035443         (Soup, Fresh Vegetables)       2              2465\n",
       "235  0.035227  (Fresh Vegetables, Dried Fruit)       2              2450\n",
       "146  0.031144       (Cheese, Fresh Vegetables)       2              2166\n",
       "195  0.027721      (Fresh Vegetables, Cookies)       2              1928\n",
       "..        ...                              ...     ...               ...\n",
       "200  0.007031                  (Milk, Cookies)       2               489\n",
       "112  0.007031           (Bologna, Fresh Fruit)       2               489\n",
       "167  0.007017                   (Cheese, Wine)       2               488\n",
       "297  0.007002            (Fresh Fruit, Spices)       2               487\n",
       "252  0.007002              (Dried Fruit, Soda)       2               487\n",
       "\n",
       "[159 rows x 4 columns]"
      ]
     },
     "execution_count": 33,
     "metadata": {},
     "output_type": "execute_result"
    }
   ],
   "source": [
    "frequent_itemsets.query(f'length == 2 & support > {Y}')"
   ]
  },
  {
   "cell_type": "markdown",
   "metadata": {},
   "source": [
    "Fresh Vegetables and Fresh Fruit are bought together in 3541 transactions, which represents 5.1% of the total."
   ]
  },
  {
   "cell_type": "markdown",
   "metadata": {},
   "source": [
    "With a minimum support of 0.7%, we get 159 itemsets of size 2."
   ]
  },
  {
   "cell_type": "code",
   "execution_count": 34,
   "metadata": {},
   "outputs": [
    {
     "data": {
      "text/html": [
       "<div>\n",
       "<style scoped>\n",
       "    .dataframe tbody tr th:only-of-type {\n",
       "        vertical-align: middle;\n",
       "    }\n",
       "\n",
       "    .dataframe tbody tr th {\n",
       "        vertical-align: top;\n",
       "    }\n",
       "\n",
       "    .dataframe thead th {\n",
       "        text-align: right;\n",
       "    }\n",
       "</style>\n",
       "<table border=\"1\" class=\"dataframe\">\n",
       "  <thead>\n",
       "    <tr style=\"text-align: right;\">\n",
       "      <th></th>\n",
       "      <th>support</th>\n",
       "      <th>itemsets</th>\n",
       "      <th>length</th>\n",
       "      <th>num_transactions</th>\n",
       "    </tr>\n",
       "  </thead>\n",
       "  <tbody>\n",
       "    <tr>\n",
       "      <th>372</th>\n",
       "      <td>0.007045</td>\n",
       "      <td>(Soup, Fresh Vegetables, Fresh Fruit)</td>\n",
       "      <td>3</td>\n",
       "      <td>490</td>\n",
       "    </tr>\n",
       "  </tbody>\n",
       "</table>\n",
       "</div>"
      ],
      "text/plain": [
       "      support                               itemsets  length  num_transactions\n",
       "372  0.007045  (Soup, Fresh Vegetables, Fresh Fruit)       3               490"
      ]
     },
     "execution_count": 34,
     "metadata": {},
     "output_type": "execute_result"
    }
   ],
   "source": [
    "frequent_itemsets.query(f'length == 3 & support > {Y}')"
   ]
  },
  {
   "cell_type": "code",
   "execution_count": 35,
   "metadata": {},
   "outputs": [
    {
     "data": {
      "text/html": [
       "<div>\n",
       "<style scoped>\n",
       "    .dataframe tbody tr th:only-of-type {\n",
       "        vertical-align: middle;\n",
       "    }\n",
       "\n",
       "    .dataframe tbody tr th {\n",
       "        vertical-align: top;\n",
       "    }\n",
       "\n",
       "    .dataframe thead th {\n",
       "        text-align: right;\n",
       "    }\n",
       "</style>\n",
       "<table border=\"1\" class=\"dataframe\">\n",
       "  <thead>\n",
       "    <tr style=\"text-align: right;\">\n",
       "      <th></th>\n",
       "      <th>support</th>\n",
       "      <th>itemsets</th>\n",
       "      <th>length</th>\n",
       "      <th>num_transactions</th>\n",
       "    </tr>\n",
       "  </thead>\n",
       "  <tbody>\n",
       "  </tbody>\n",
       "</table>\n",
       "</div>"
      ],
      "text/plain": [
       "Empty DataFrame\n",
       "Columns: [support, itemsets, length, num_transactions]\n",
       "Index: []"
      ]
     },
     "execution_count": 35,
     "metadata": {},
     "output_type": "execute_result"
    }
   ],
   "source": [
    "frequent_itemsets.query(f'length == 4 & support > {Y}')"
   ]
  },
  {
   "cell_type": "markdown",
   "metadata": {},
   "source": [
    "With a support > 0.007 there is no frequent itemset with 4 products, and just one itemset with 3 products (Fresh Vegetables, Soup and Fresh Fruit)."
   ]
  },
  {
   "cell_type": "markdown",
   "metadata": {},
   "source": [
    "### 1.2.2 Using FP-Growth"
   ]
  },
  {
   "cell_type": "markdown",
   "metadata": {},
   "source": [
    "According to [1], the apriori algorithm suffers from two main performance issues:\n",
    "\n",
    "* It may still need to generate a huge number of candidate sets. For example, if there are\n",
    "104 frequent 1-itemsets, the Apriori algorithm will need to generate more than 107\n",
    "candidate 2-itemsets.\n",
    "\n",
    "* It may need to repeatedly scan the whole database and check a large set of candidates by\n",
    "pattern matching. It is costly to go over each transaction in the database to determine\n",
    "the support of the candidate itemsets."
   ]
  },
  {
   "cell_type": "markdown",
   "metadata": {},
   "source": [
    "Frequent pattern growth, or simply FP-Growth, is a method that mines the complete set of frequent itemsets without such a costly candidate generation process [1], by using"
   ]
  },
  {
   "cell_type": "markdown",
   "metadata": {},
   "source": [
    "Now lets compute the frequent itemsets by using FP-Growth algorithm."
   ]
  },
  {
   "cell_type": "code",
   "execution_count": 36,
   "metadata": {},
   "outputs": [
    {
     "name": "stdout",
     "output_type": "stream",
     "text": [
      "1.13 s ± 91.9 ms per loop (mean ± std. dev. of 7 runs, 1 loop each)\n"
     ]
    }
   ],
   "source": [
    "%timeit fpgrowth(df_te, min_support=X, use_colnames=True)"
   ]
  },
  {
   "cell_type": "code",
   "execution_count": 37,
   "metadata": {},
   "outputs": [],
   "source": [
    "frequent_itemsets_fpg  = fpgrowth(df_te, min_support=X, use_colnames=True)\n",
    "frequent_itemsets_fpg = frequent_itemsets_fpg.sort_values('support',ascending = False)\n",
    "frequent_itemsets_fpg['length'] = frequent_itemsets_fpg['itemsets'].apply(lambda x: len(x))\n",
    "frequent_itemsets_fpg['num_transactions'] = [round(s*len(df_itemset)) for s in frequent_itemsets_fpg['support']]\n",
    "frequent_itemsets_fpg = frequent_itemsets_fpg.sort_values('support',ascending = False)"
   ]
  },
  {
   "cell_type": "code",
   "execution_count": 38,
   "metadata": {},
   "outputs": [
    {
     "data": {
      "text/html": [
       "<div>\n",
       "<style scoped>\n",
       "    .dataframe tbody tr th:only-of-type {\n",
       "        vertical-align: middle;\n",
       "    }\n",
       "\n",
       "    .dataframe tbody tr th {\n",
       "        vertical-align: top;\n",
       "    }\n",
       "\n",
       "    .dataframe thead th {\n",
       "        text-align: right;\n",
       "    }\n",
       "</style>\n",
       "<table border=\"1\" class=\"dataframe\">\n",
       "  <thead>\n",
       "    <tr style=\"text-align: right;\">\n",
       "      <th></th>\n",
       "      <th>support</th>\n",
       "      <th>itemsets</th>\n",
       "      <th>length</th>\n",
       "      <th>num_transactions</th>\n",
       "    </tr>\n",
       "  </thead>\n",
       "  <tbody>\n",
       "    <tr>\n",
       "      <th>2</th>\n",
       "      <td>0.284174</td>\n",
       "      <td>(Fresh Vegetables)</td>\n",
       "      <td>1</td>\n",
       "      <td>19764</td>\n",
       "    </tr>\n",
       "    <tr>\n",
       "      <th>29</th>\n",
       "      <td>0.175229</td>\n",
       "      <td>(Fresh Fruit)</td>\n",
       "      <td>1</td>\n",
       "      <td>12187</td>\n",
       "    </tr>\n",
       "    <tr>\n",
       "      <th>0</th>\n",
       "      <td>0.120059</td>\n",
       "      <td>(Soup)</td>\n",
       "      <td>1</td>\n",
       "      <td>8350</td>\n",
       "    </tr>\n",
       "    <tr>\n",
       "      <th>5</th>\n",
       "      <td>0.117802</td>\n",
       "      <td>(Cheese)</td>\n",
       "      <td>1</td>\n",
       "      <td>8193</td>\n",
       "    </tr>\n",
       "    <tr>\n",
       "      <th>32</th>\n",
       "      <td>0.117212</td>\n",
       "      <td>(Dried Fruit)</td>\n",
       "      <td>1</td>\n",
       "      <td>8152</td>\n",
       "    </tr>\n",
       "    <tr>\n",
       "      <th>...</th>\n",
       "      <td>...</td>\n",
       "      <td>...</td>\n",
       "      <td>...</td>\n",
       "      <td>...</td>\n",
       "    </tr>\n",
       "    <tr>\n",
       "      <th>100</th>\n",
       "      <td>0.013343</td>\n",
       "      <td>(Sardines)</td>\n",
       "      <td>1</td>\n",
       "      <td>928</td>\n",
       "    </tr>\n",
       "    <tr>\n",
       "      <th>34</th>\n",
       "      <td>0.013271</td>\n",
       "      <td>(Sauces)</td>\n",
       "      <td>1</td>\n",
       "      <td>923</td>\n",
       "    </tr>\n",
       "    <tr>\n",
       "      <th>83</th>\n",
       "      <td>0.013156</td>\n",
       "      <td>(Fashion Magazines)</td>\n",
       "      <td>1</td>\n",
       "      <td>915</td>\n",
       "    </tr>\n",
       "    <tr>\n",
       "      <th>95</th>\n",
       "      <td>0.012998</td>\n",
       "      <td>(Pancakes)</td>\n",
       "      <td>1</td>\n",
       "      <td>904</td>\n",
       "    </tr>\n",
       "    <tr>\n",
       "      <th>99</th>\n",
       "      <td>0.012869</td>\n",
       "      <td>(Fresh Fish)</td>\n",
       "      <td>1</td>\n",
       "      <td>895</td>\n",
       "    </tr>\n",
       "  </tbody>\n",
       "</table>\n",
       "<p>102 rows × 4 columns</p>\n",
       "</div>"
      ],
      "text/plain": [
       "      support             itemsets  length  num_transactions\n",
       "2    0.284174   (Fresh Vegetables)       1             19764\n",
       "29   0.175229        (Fresh Fruit)       1             12187\n",
       "0    0.120059               (Soup)       1              8350\n",
       "5    0.117802             (Cheese)       1              8193\n",
       "32   0.117212        (Dried Fruit)       1              8152\n",
       "..        ...                  ...     ...               ...\n",
       "100  0.013343           (Sardines)       1               928\n",
       "34   0.013271             (Sauces)       1               923\n",
       "83   0.013156  (Fashion Magazines)       1               915\n",
       "95   0.012998           (Pancakes)       1               904\n",
       "99   0.012869         (Fresh Fish)       1               895\n",
       "\n",
       "[102 rows x 4 columns]"
      ]
     },
     "execution_count": 38,
     "metadata": {},
     "output_type": "execute_result"
    }
   ],
   "source": [
    "frequent_itemsets_fpg.query(f'length == 1 & support > {Y}')"
   ]
  },
  {
   "cell_type": "code",
   "execution_count": 39,
   "metadata": {},
   "outputs": [
    {
     "data": {
      "text/html": [
       "<div>\n",
       "<style scoped>\n",
       "    .dataframe tbody tr th:only-of-type {\n",
       "        vertical-align: middle;\n",
       "    }\n",
       "\n",
       "    .dataframe tbody tr th {\n",
       "        vertical-align: top;\n",
       "    }\n",
       "\n",
       "    .dataframe thead th {\n",
       "        text-align: right;\n",
       "    }\n",
       "</style>\n",
       "<table border=\"1\" class=\"dataframe\">\n",
       "  <thead>\n",
       "    <tr style=\"text-align: right;\">\n",
       "      <th></th>\n",
       "      <th>support</th>\n",
       "      <th>itemsets</th>\n",
       "      <th>length</th>\n",
       "      <th>num_transactions</th>\n",
       "    </tr>\n",
       "  </thead>\n",
       "  <tbody>\n",
       "    <tr>\n",
       "      <th>211</th>\n",
       "      <td>0.050914</td>\n",
       "      <td>(Fresh Vegetables, Fresh Fruit)</td>\n",
       "      <td>2</td>\n",
       "      <td>3541</td>\n",
       "    </tr>\n",
       "    <tr>\n",
       "      <th>102</th>\n",
       "      <td>0.035443</td>\n",
       "      <td>(Soup, Fresh Vegetables)</td>\n",
       "      <td>2</td>\n",
       "      <td>2465</td>\n",
       "    </tr>\n",
       "    <tr>\n",
       "      <th>223</th>\n",
       "      <td>0.035227</td>\n",
       "      <td>(Fresh Vegetables, Dried Fruit)</td>\n",
       "      <td>2</td>\n",
       "      <td>2450</td>\n",
       "    </tr>\n",
       "    <tr>\n",
       "      <th>122</th>\n",
       "      <td>0.031144</td>\n",
       "      <td>(Cheese, Fresh Vegetables)</td>\n",
       "      <td>2</td>\n",
       "      <td>2166</td>\n",
       "    </tr>\n",
       "    <tr>\n",
       "      <th>129</th>\n",
       "      <td>0.027721</td>\n",
       "      <td>(Fresh Vegetables, Cookies)</td>\n",
       "      <td>2</td>\n",
       "      <td>1928</td>\n",
       "    </tr>\n",
       "    <tr>\n",
       "      <th>...</th>\n",
       "      <td>...</td>\n",
       "      <td>...</td>\n",
       "      <td>...</td>\n",
       "      <td>...</td>\n",
       "    </tr>\n",
       "    <tr>\n",
       "      <th>113</th>\n",
       "      <td>0.007031</td>\n",
       "      <td>(Milk, Cookies)</td>\n",
       "      <td>2</td>\n",
       "      <td>489</td>\n",
       "    </tr>\n",
       "    <tr>\n",
       "      <th>207</th>\n",
       "      <td>0.007031</td>\n",
       "      <td>(Bologna, Fresh Fruit)</td>\n",
       "      <td>2</td>\n",
       "      <td>489</td>\n",
       "    </tr>\n",
       "    <tr>\n",
       "      <th>358</th>\n",
       "      <td>0.007017</td>\n",
       "      <td>(Cheese, Wine)</td>\n",
       "      <td>2</td>\n",
       "      <td>488</td>\n",
       "    </tr>\n",
       "    <tr>\n",
       "      <th>261</th>\n",
       "      <td>0.007002</td>\n",
       "      <td>(Dried Fruit, Soda)</td>\n",
       "      <td>2</td>\n",
       "      <td>487</td>\n",
       "    </tr>\n",
       "    <tr>\n",
       "      <th>182</th>\n",
       "      <td>0.007002</td>\n",
       "      <td>(Fresh Fruit, Spices)</td>\n",
       "      <td>2</td>\n",
       "      <td>487</td>\n",
       "    </tr>\n",
       "  </tbody>\n",
       "</table>\n",
       "<p>159 rows × 4 columns</p>\n",
       "</div>"
      ],
      "text/plain": [
       "      support                         itemsets  length  num_transactions\n",
       "211  0.050914  (Fresh Vegetables, Fresh Fruit)       2              3541\n",
       "102  0.035443         (Soup, Fresh Vegetables)       2              2465\n",
       "223  0.035227  (Fresh Vegetables, Dried Fruit)       2              2450\n",
       "122  0.031144       (Cheese, Fresh Vegetables)       2              2166\n",
       "129  0.027721      (Fresh Vegetables, Cookies)       2              1928\n",
       "..        ...                              ...     ...               ...\n",
       "113  0.007031                  (Milk, Cookies)       2               489\n",
       "207  0.007031           (Bologna, Fresh Fruit)       2               489\n",
       "358  0.007017                   (Cheese, Wine)       2               488\n",
       "261  0.007002              (Dried Fruit, Soda)       2               487\n",
       "182  0.007002            (Fresh Fruit, Spices)       2               487\n",
       "\n",
       "[159 rows x 4 columns]"
      ]
     },
     "execution_count": 39,
     "metadata": {},
     "output_type": "execute_result"
    }
   ],
   "source": [
    "frequent_itemsets_fpg.query(f'length == 2 & support > {Y}')"
   ]
  },
  {
   "cell_type": "code",
   "execution_count": 40,
   "metadata": {},
   "outputs": [
    {
     "data": {
      "text/html": [
       "<div>\n",
       "<style scoped>\n",
       "    .dataframe tbody tr th:only-of-type {\n",
       "        vertical-align: middle;\n",
       "    }\n",
       "\n",
       "    .dataframe tbody tr th {\n",
       "        vertical-align: top;\n",
       "    }\n",
       "\n",
       "    .dataframe thead th {\n",
       "        text-align: right;\n",
       "    }\n",
       "</style>\n",
       "<table border=\"1\" class=\"dataframe\">\n",
       "  <thead>\n",
       "    <tr style=\"text-align: right;\">\n",
       "      <th></th>\n",
       "      <th>support</th>\n",
       "      <th>itemsets</th>\n",
       "      <th>length</th>\n",
       "      <th>num_transactions</th>\n",
       "    </tr>\n",
       "  </thead>\n",
       "  <tbody>\n",
       "    <tr>\n",
       "      <th>104</th>\n",
       "      <td>0.007045</td>\n",
       "      <td>(Soup, Fresh Vegetables, Fresh Fruit)</td>\n",
       "      <td>3</td>\n",
       "      <td>490</td>\n",
       "    </tr>\n",
       "  </tbody>\n",
       "</table>\n",
       "</div>"
      ],
      "text/plain": [
       "      support                               itemsets  length  num_transactions\n",
       "104  0.007045  (Soup, Fresh Vegetables, Fresh Fruit)       3               490"
      ]
     },
     "execution_count": 40,
     "metadata": {},
     "output_type": "execute_result"
    }
   ],
   "source": [
    "frequent_itemsets_fpg.query(f'length == 3 & support > {Y}')"
   ]
  },
  {
   "cell_type": "markdown",
   "metadata": {},
   "source": [
    "Considering that FP Growth is using a highly compact FP-tree, divide-and-conquer method, it is much more faster than Apriori. We can observe this by the 10x increase in speed. Both results are the same. During the next exercises we will use just FP Growth.\n",
    "\n",
    "About the results, they translate the frequency of a certain set of items being bought, and the higher the length of the set, the lower generally is the support. We can see this by having only one example for a length of 3 and more than 100 examples for length of 1 and 2. With a minimum support of 0.007 we have 102 frequent itemsets with one product, 159 frequent itemsets with two products and just one frequent itemset of size 3. If Y > 0.007 there will be no itemsets of size 3."
   ]
  },
  {
   "cell_type": "markdown",
   "metadata": {},
   "source": [
    "Now lets increase Y and check them most frequent itemsets of size 1 and 2."
   ]
  },
  {
   "cell_type": "code",
   "execution_count": 41,
   "metadata": {},
   "outputs": [],
   "source": [
    "Y = 0.025"
   ]
  },
  {
   "cell_type": "code",
   "execution_count": 42,
   "metadata": {},
   "outputs": [
    {
     "data": {
      "text/html": [
       "<div>\n",
       "<style scoped>\n",
       "    .dataframe tbody tr th:only-of-type {\n",
       "        vertical-align: middle;\n",
       "    }\n",
       "\n",
       "    .dataframe tbody tr th {\n",
       "        vertical-align: top;\n",
       "    }\n",
       "\n",
       "    .dataframe thead th {\n",
       "        text-align: right;\n",
       "    }\n",
       "</style>\n",
       "<table border=\"1\" class=\"dataframe\">\n",
       "  <thead>\n",
       "    <tr style=\"text-align: right;\">\n",
       "      <th></th>\n",
       "      <th>support</th>\n",
       "      <th>itemsets</th>\n",
       "      <th>length</th>\n",
       "      <th>num_transactions</th>\n",
       "    </tr>\n",
       "  </thead>\n",
       "  <tbody>\n",
       "    <tr>\n",
       "      <th>2</th>\n",
       "      <td>0.284174</td>\n",
       "      <td>(Fresh Vegetables)</td>\n",
       "      <td>1</td>\n",
       "      <td>19764</td>\n",
       "    </tr>\n",
       "    <tr>\n",
       "      <th>29</th>\n",
       "      <td>0.175229</td>\n",
       "      <td>(Fresh Fruit)</td>\n",
       "      <td>1</td>\n",
       "      <td>12187</td>\n",
       "    </tr>\n",
       "    <tr>\n",
       "      <th>0</th>\n",
       "      <td>0.120059</td>\n",
       "      <td>(Soup)</td>\n",
       "      <td>1</td>\n",
       "      <td>8350</td>\n",
       "    </tr>\n",
       "    <tr>\n",
       "      <th>5</th>\n",
       "      <td>0.117802</td>\n",
       "      <td>(Cheese)</td>\n",
       "      <td>1</td>\n",
       "      <td>8193</td>\n",
       "    </tr>\n",
       "    <tr>\n",
       "      <th>32</th>\n",
       "      <td>0.117212</td>\n",
       "      <td>(Dried Fruit)</td>\n",
       "      <td>1</td>\n",
       "      <td>8152</td>\n",
       "    </tr>\n",
       "    <tr>\n",
       "      <th>...</th>\n",
       "      <td>...</td>\n",
       "      <td>...</td>\n",
       "      <td>...</td>\n",
       "      <td>...</td>\n",
       "    </tr>\n",
       "    <tr>\n",
       "      <th>79</th>\n",
       "      <td>0.027132</td>\n",
       "      <td>(Crackers)</td>\n",
       "      <td>1</td>\n",
       "      <td>1887</td>\n",
       "    </tr>\n",
       "    <tr>\n",
       "      <th>62</th>\n",
       "      <td>0.026715</td>\n",
       "      <td>(Sour Cream)</td>\n",
       "      <td>1</td>\n",
       "      <td>1858</td>\n",
       "    </tr>\n",
       "    <tr>\n",
       "      <th>77</th>\n",
       "      <td>0.026657</td>\n",
       "      <td>(Aspirin)</td>\n",
       "      <td>1</td>\n",
       "      <td>1854</td>\n",
       "    </tr>\n",
       "    <tr>\n",
       "      <th>56</th>\n",
       "      <td>0.026586</td>\n",
       "      <td>(Tools)</td>\n",
       "      <td>1</td>\n",
       "      <td>1849</td>\n",
       "    </tr>\n",
       "    <tr>\n",
       "      <th>37</th>\n",
       "      <td>0.026341</td>\n",
       "      <td>(Cottage Cheese)</td>\n",
       "      <td>1</td>\n",
       "      <td>1832</td>\n",
       "    </tr>\n",
       "  </tbody>\n",
       "</table>\n",
       "<p>67 rows × 4 columns</p>\n",
       "</div>"
      ],
      "text/plain": [
       "     support            itemsets  length  num_transactions\n",
       "2   0.284174  (Fresh Vegetables)       1             19764\n",
       "29  0.175229       (Fresh Fruit)       1             12187\n",
       "0   0.120059              (Soup)       1              8350\n",
       "5   0.117802            (Cheese)       1              8193\n",
       "32  0.117212       (Dried Fruit)       1              8152\n",
       "..       ...                 ...     ...               ...\n",
       "79  0.027132          (Crackers)       1              1887\n",
       "62  0.026715        (Sour Cream)       1              1858\n",
       "77  0.026657           (Aspirin)       1              1854\n",
       "56  0.026586             (Tools)       1              1849\n",
       "37  0.026341    (Cottage Cheese)       1              1832\n",
       "\n",
       "[67 rows x 4 columns]"
      ]
     },
     "execution_count": 42,
     "metadata": {},
     "output_type": "execute_result"
    }
   ],
   "source": [
    "frequent_itemsets_fpg.query(f'length == 1 & support > {Y}')"
   ]
  },
  {
   "cell_type": "code",
   "execution_count": 43,
   "metadata": {},
   "outputs": [
    {
     "data": {
      "text/html": [
       "<div>\n",
       "<style scoped>\n",
       "    .dataframe tbody tr th:only-of-type {\n",
       "        vertical-align: middle;\n",
       "    }\n",
       "\n",
       "    .dataframe tbody tr th {\n",
       "        vertical-align: top;\n",
       "    }\n",
       "\n",
       "    .dataframe thead th {\n",
       "        text-align: right;\n",
       "    }\n",
       "</style>\n",
       "<table border=\"1\" class=\"dataframe\">\n",
       "  <thead>\n",
       "    <tr style=\"text-align: right;\">\n",
       "      <th></th>\n",
       "      <th>support</th>\n",
       "      <th>itemsets</th>\n",
       "      <th>length</th>\n",
       "      <th>num_transactions</th>\n",
       "    </tr>\n",
       "  </thead>\n",
       "  <tbody>\n",
       "    <tr>\n",
       "      <th>211</th>\n",
       "      <td>0.050914</td>\n",
       "      <td>(Fresh Vegetables, Fresh Fruit)</td>\n",
       "      <td>2</td>\n",
       "      <td>3541</td>\n",
       "    </tr>\n",
       "    <tr>\n",
       "      <th>102</th>\n",
       "      <td>0.035443</td>\n",
       "      <td>(Soup, Fresh Vegetables)</td>\n",
       "      <td>2</td>\n",
       "      <td>2465</td>\n",
       "    </tr>\n",
       "    <tr>\n",
       "      <th>223</th>\n",
       "      <td>0.035227</td>\n",
       "      <td>(Fresh Vegetables, Dried Fruit)</td>\n",
       "      <td>2</td>\n",
       "      <td>2450</td>\n",
       "    </tr>\n",
       "    <tr>\n",
       "      <th>122</th>\n",
       "      <td>0.031144</td>\n",
       "      <td>(Cheese, Fresh Vegetables)</td>\n",
       "      <td>2</td>\n",
       "      <td>2166</td>\n",
       "    </tr>\n",
       "    <tr>\n",
       "      <th>129</th>\n",
       "      <td>0.027721</td>\n",
       "      <td>(Fresh Vegetables, Cookies)</td>\n",
       "      <td>2</td>\n",
       "      <td>1928</td>\n",
       "    </tr>\n",
       "  </tbody>\n",
       "</table>\n",
       "</div>"
      ],
      "text/plain": [
       "      support                         itemsets  length  num_transactions\n",
       "211  0.050914  (Fresh Vegetables, Fresh Fruit)       2              3541\n",
       "102  0.035443         (Soup, Fresh Vegetables)       2              2465\n",
       "223  0.035227  (Fresh Vegetables, Dried Fruit)       2              2450\n",
       "122  0.031144       (Cheese, Fresh Vegetables)       2              2166\n",
       "129  0.027721      (Fresh Vegetables, Cookies)       2              1928"
      ]
     },
     "execution_count": 43,
     "metadata": {},
     "output_type": "execute_result"
    }
   ],
   "source": [
    "frequent_itemsets_fpg.query(f'length == 2 & support > {Y}')"
   ]
  },
  {
   "cell_type": "markdown",
   "metadata": {},
   "source": [
    "If we increase Y we are minimizing our tolerance, and so, getting just the frequent itemsets that are more frequent according to the Y threshold."
   ]
  },
  {
   "cell_type": "markdown",
   "metadata": {},
   "source": [
    "With Y = 0.05, we get 67 frequent itemsets of size 1 and 5 of size 2. "
   ]
  },
  {
   "cell_type": "markdown",
   "metadata": {},
   "source": [
    "Fresh Vegetables and Fresh Fruit were bought together 3541 times, and Fresh Vegetables and Cookies were bought together 1928 times. It is interesting to note that in all frequents itemsets of length 2 that we got, Fresh Vegetables is always one of the items. This happens because Fresh Vegetables are the most frequent product in the dataset."
   ]
  },
  {
   "cell_type": "markdown",
   "metadata": {},
   "source": [
    "### 1.3. Generate Association Rules from Frequent Itemsets"
   ]
  },
  {
   "cell_type": "markdown",
   "metadata": {},
   "source": [
    "* Generate association rules with a minimum confidence of C%. \n",
    "* Generate association rules with a minimum lift L. \n",
    "* Generate association rules with both confidence >= C% and lift >= L.\n",
    "* Change C and L when it makes sense and discuss the results."
   ]
  },
  {
   "cell_type": "markdown",
   "metadata": {},
   "source": [
    "Lets start by define a confidence level of 30% and 1.1 of Lift."
   ]
  },
  {
   "cell_type": "code",
   "execution_count": 44,
   "metadata": {},
   "outputs": [],
   "source": [
    "C = 0.3 # Confidence\n",
    "L = 1.1 # Lift"
   ]
  },
  {
   "cell_type": "code",
   "execution_count": 45,
   "metadata": {},
   "outputs": [],
   "source": [
    "rules = association_rules(frequent_itemsets, metric=\"confidence\", min_threshold=0)\n",
    "rules['antecedent_len'] = rules['antecedents'].apply(lambda x: len(x))"
   ]
  },
  {
   "cell_type": "code",
   "execution_count": 46,
   "metadata": {},
   "outputs": [],
   "source": [
    "def generate_fi(rules, length, C, L):\n",
    "    return rules[ (rules['antecedent_len'] >= length) &\n",
    "         (rules['confidence'] >= C) &\n",
    "         (rules['lift'] > L)]"
   ]
  },
  {
   "cell_type": "code",
   "execution_count": 47,
   "metadata": {},
   "outputs": [
    {
     "data": {
      "text/plain": [
       "(3, 10)"
      ]
     },
     "execution_count": 47,
     "metadata": {},
     "output_type": "execute_result"
    }
   ],
   "source": [
    "association_rules_1 = generate_fi(rules, 1, C, L)\n",
    "association_rules_1 = association_rules_1.sort_values('confidence',ascending = False)\n",
    "association_rules_1.shape"
   ]
  },
  {
   "cell_type": "code",
   "execution_count": 48,
   "metadata": {},
   "outputs": [
    {
     "data": {
      "text/html": [
       "<div>\n",
       "<style scoped>\n",
       "    .dataframe tbody tr th:only-of-type {\n",
       "        vertical-align: middle;\n",
       "    }\n",
       "\n",
       "    .dataframe tbody tr th {\n",
       "        vertical-align: top;\n",
       "    }\n",
       "\n",
       "    .dataframe thead th {\n",
       "        text-align: right;\n",
       "    }\n",
       "</style>\n",
       "<table border=\"1\" class=\"dataframe\">\n",
       "  <thead>\n",
       "    <tr style=\"text-align: right;\">\n",
       "      <th></th>\n",
       "      <th>antecedents</th>\n",
       "      <th>consequents</th>\n",
       "      <th>antecedent support</th>\n",
       "      <th>consequent support</th>\n",
       "      <th>support</th>\n",
       "      <th>confidence</th>\n",
       "      <th>lift</th>\n",
       "      <th>leverage</th>\n",
       "      <th>conviction</th>\n",
       "      <th>antecedent_len</th>\n",
       "    </tr>\n",
       "  </thead>\n",
       "  <tbody>\n",
       "    <tr>\n",
       "      <th>309</th>\n",
       "      <td>(Soup, Fresh Fruit)</td>\n",
       "      <td>(Fresh Vegetables)</td>\n",
       "      <td>0.020748</td>\n",
       "      <td>0.284174</td>\n",
       "      <td>0.007045</td>\n",
       "      <td>0.339570</td>\n",
       "      <td>1.194939</td>\n",
       "      <td>0.001149</td>\n",
       "      <td>1.083880</td>\n",
       "      <td>2</td>\n",
       "    </tr>\n",
       "    <tr>\n",
       "      <th>182</th>\n",
       "      <td>(Aspirin)</td>\n",
       "      <td>(Fresh Vegetables)</td>\n",
       "      <td>0.026657</td>\n",
       "      <td>0.284174</td>\n",
       "      <td>0.008598</td>\n",
       "      <td>0.322546</td>\n",
       "      <td>1.135030</td>\n",
       "      <td>0.001023</td>\n",
       "      <td>1.056642</td>\n",
       "      <td>1</td>\n",
       "    </tr>\n",
       "    <tr>\n",
       "      <th>171</th>\n",
       "      <td>(Hamburger)</td>\n",
       "      <td>(Fresh Vegetables)</td>\n",
       "      <td>0.028297</td>\n",
       "      <td>0.284174</td>\n",
       "      <td>0.008943</td>\n",
       "      <td>0.316057</td>\n",
       "      <td>1.112196</td>\n",
       "      <td>0.000902</td>\n",
       "      <td>1.046617</td>\n",
       "      <td>1</td>\n",
       "    </tr>\n",
       "  </tbody>\n",
       "</table>\n",
       "</div>"
      ],
      "text/plain": [
       "             antecedents         consequents  antecedent support  \\\n",
       "309  (Soup, Fresh Fruit)  (Fresh Vegetables)            0.020748   \n",
       "182            (Aspirin)  (Fresh Vegetables)            0.026657   \n",
       "171          (Hamburger)  (Fresh Vegetables)            0.028297   \n",
       "\n",
       "     consequent support   support  confidence      lift  leverage  conviction  \\\n",
       "309            0.284174  0.007045    0.339570  1.194939  0.001149    1.083880   \n",
       "182            0.284174  0.008598    0.322546  1.135030  0.001023    1.056642   \n",
       "171            0.284174  0.008943    0.316057  1.112196  0.000902    1.046617   \n",
       "\n",
       "     antecedent_len  \n",
       "309               2  \n",
       "182               1  \n",
       "171               1  "
      ]
     },
     "execution_count": 48,
     "metadata": {},
     "output_type": "execute_result"
    }
   ],
   "source": [
    "association_rules_1"
   ]
  },
  {
   "cell_type": "markdown",
   "metadata": {},
   "source": [
    "We can consider that anything with a confidence below 0.5 is 'not so confident' but a lift over 1 makes it likely to happen. Lift is a correlation metric.\n",
    "\n",
    "> When lift is less than 1, then the occurrence of A is negatively correlated with the occurrence of B, meaning that the occurrence of one likely leads to the absence of the other one. If the resulting value is greater than 1, then A and B are positively correlated, meaning that the occurrence of one implies the occurrence of the other. If the resulting value is equal to 1, then A and B are independent and there is no\n",
    "correlation between them [1]."
   ]
  },
  {
   "cell_type": "markdown",
   "metadata": {},
   "source": [
    "Therefore the top 3 rules found for this frequent itemsets are the following:\n",
    "\n",
    "+ If someone buys an Hamburguer, they buy Fresh Vegetables with a confidence of +- 0.32;\n",
    "+ If someone buys Aspirin, they buy Fresh Vegetables with a confidence of 0.32;\n",
    "+ If someone buys Soup and Fresh Fruit, they buy Fresh Vegetables. This is the association rule with the highest confidence: 0.33 and lift."
   ]
  },
  {
   "cell_type": "markdown",
   "metadata": {},
   "source": [
    "In all of that top 3 rules found, lift is higher than 1, meaning that the products are positive related between them."
   ]
  },
  {
   "cell_type": "markdown",
   "metadata": {},
   "source": [
    "Now lets decrease the confidence to 0.2 and increase the lift to 1.2"
   ]
  },
  {
   "cell_type": "code",
   "execution_count": 49,
   "metadata": {},
   "outputs": [],
   "source": [
    "C = 0.2 # Confidence\n",
    "L = 1.2 # Lift"
   ]
  },
  {
   "cell_type": "code",
   "execution_count": 50,
   "metadata": {},
   "outputs": [
    {
     "data": {
      "text/plain": [
       "(2, 10)"
      ]
     },
     "execution_count": 50,
     "metadata": {},
     "output_type": "execute_result"
    }
   ],
   "source": [
    "association_rules_2 = generate_fi(rules, 1, C, L)\n",
    "association_rules_2 = association_rules_2.sort_values('confidence',ascending = False)\n",
    "association_rules_2.shape"
   ]
  },
  {
   "cell_type": "code",
   "execution_count": 51,
   "metadata": {},
   "outputs": [
    {
     "data": {
      "text/html": [
       "<div>\n",
       "<style scoped>\n",
       "    .dataframe tbody tr th:only-of-type {\n",
       "        vertical-align: middle;\n",
       "    }\n",
       "\n",
       "    .dataframe tbody tr th {\n",
       "        vertical-align: top;\n",
       "    }\n",
       "\n",
       "    .dataframe thead th {\n",
       "        text-align: right;\n",
       "    }\n",
       "</style>\n",
       "<table border=\"1\" class=\"dataframe\">\n",
       "  <thead>\n",
       "    <tr style=\"text-align: right;\">\n",
       "      <th></th>\n",
       "      <th>antecedents</th>\n",
       "      <th>consequents</th>\n",
       "      <th>antecedent support</th>\n",
       "      <th>consequent support</th>\n",
       "      <th>support</th>\n",
       "      <th>confidence</th>\n",
       "      <th>lift</th>\n",
       "      <th>leverage</th>\n",
       "      <th>conviction</th>\n",
       "      <th>antecedent_len</th>\n",
       "    </tr>\n",
       "  </thead>\n",
       "  <tbody>\n",
       "    <tr>\n",
       "      <th>336</th>\n",
       "      <td>(Rice)</td>\n",
       "      <td>(Fresh Fruit)</td>\n",
       "      <td>0.031891</td>\n",
       "      <td>0.175229</td>\n",
       "      <td>0.006844</td>\n",
       "      <td>0.214608</td>\n",
       "      <td>1.224728</td>\n",
       "      <td>0.001256</td>\n",
       "      <td>1.050139</td>\n",
       "      <td>1</td>\n",
       "    </tr>\n",
       "    <tr>\n",
       "      <th>175</th>\n",
       "      <td>(TV Dinner)</td>\n",
       "      <td>(Fresh Fruit)</td>\n",
       "      <td>0.041783</td>\n",
       "      <td>0.175229</td>\n",
       "      <td>0.008843</td>\n",
       "      <td>0.211631</td>\n",
       "      <td>1.207740</td>\n",
       "      <td>0.001521</td>\n",
       "      <td>1.046174</td>\n",
       "      <td>1</td>\n",
       "    </tr>\n",
       "  </tbody>\n",
       "</table>\n",
       "</div>"
      ],
      "text/plain": [
       "     antecedents    consequents  antecedent support  consequent support  \\\n",
       "336       (Rice)  (Fresh Fruit)            0.031891            0.175229   \n",
       "175  (TV Dinner)  (Fresh Fruit)            0.041783            0.175229   \n",
       "\n",
       "      support  confidence      lift  leverage  conviction  antecedent_len  \n",
       "336  0.006844    0.214608  1.224728  0.001256    1.050139               1  \n",
       "175  0.008843    0.211631  1.207740  0.001521    1.046174               1  "
      ]
     },
     "execution_count": 51,
     "metadata": {},
     "output_type": "execute_result"
    }
   ],
   "source": [
    "association_rules_2"
   ]
  },
  {
   "cell_type": "markdown",
   "metadata": {},
   "source": [
    "If we decrease  C and increase Lift, the two association rules that we got are:\n",
    "\n",
    "* Who buys Rice also buis Fresh Fruit, with a confidence of 21% and a lift of 1.22;\n",
    "* Who buys TV Dinner also buis Fresh Fruit."
   ]
  },
  {
   "cell_type": "markdown",
   "metadata": {},
   "source": [
    "### 1.4. Take a Look at Maximal Patterns: Compute Maximal Frequent Itemsets"
   ]
  },
  {
   "cell_type": "markdown",
   "metadata": {},
   "source": [
    "An itemset X is a maximal frequent itemset (or max-itemset) in a data set D if X is frequent, and there exists no super-itemset Y such that X C Y and Y is frequent in D[1]."
   ]
  },
  {
   "cell_type": "markdown",
   "metadata": {},
   "source": [
    "To compute the maximal frequent itemsets we will use fpmax algorithm from mlxtend. Then maximal frequent itemsets will be filtered by itemset size (1,2 or 3) according to Y."
   ]
  },
  {
   "cell_type": "code",
   "execution_count": 62,
   "metadata": {},
   "outputs": [],
   "source": [
    "X = 0.005\n",
    "Y = 0.01"
   ]
  },
  {
   "cell_type": "code",
   "execution_count": 121,
   "metadata": {},
   "outputs": [],
   "source": [
    "# Frequent_itemsets with support >= 0.005\n",
    "#maximal_itemsets = frequent_itemsets\n",
    "#for row in frequent_itemsets.index:\n",
    "#    for comparison_row in frequent_itemsets.index:\n",
    "#        if row == comparison_row:\n",
    "#            continue\n",
    "#        if frequent_itemsets['itemsets'][row].issubset(frequent_itemsets['itemsets'][comparison_row]):\n",
    "#            maximal_itemsets = maximal_itemsets.drop([row], axis=0)\n",
    "#            break\n",
    "#maximal_itemsets = maximal_itemsets.sort_values('support',ascending = False)"
   ]
  },
  {
   "cell_type": "code",
   "execution_count": 53,
   "metadata": {},
   "outputs": [],
   "source": [
    "maximal_frequent_itemsets = fpmax(df_te, min_support=X, use_colnames=True)\n",
    "maximal_frequent_itemsets['length'] = maximal_frequent_itemsets['itemsets'].apply(lambda x: len(x))\n",
    "maximal_frequent_itemsets['num_transactions'] = [round(s*len(df_itemset)) for s in maximal_frequent_itemsets['support']]\n",
    "maximal_frequent_itemsets = maximal_frequent_itemsets.sort_values('support',ascending = False)"
   ]
  },
  {
   "cell_type": "code",
   "execution_count": 54,
   "metadata": {},
   "outputs": [
    {
     "data": {
      "text/plain": [
       "2    261\n",
       "1     35\n",
       "3      3\n",
       "Name: length, dtype: int64"
      ]
     },
     "execution_count": 54,
     "metadata": {},
     "output_type": "execute_result"
    }
   ],
   "source": [
    "maximal_frequent_itemsets['length'].value_counts()"
   ]
  },
  {
   "cell_type": "markdown",
   "metadata": {},
   "source": [
    "With a minimum support of 0.005 we get 25 maximal itemsets of size 1, 261 of size 2 and 3 itemsets of size 3. Lets check those itemsets."
   ]
  },
  {
   "cell_type": "code",
   "execution_count": 63,
   "metadata": {},
   "outputs": [
    {
     "data": {
      "text/html": [
       "<div>\n",
       "<style scoped>\n",
       "    .dataframe tbody tr th:only-of-type {\n",
       "        vertical-align: middle;\n",
       "    }\n",
       "\n",
       "    .dataframe tbody tr th {\n",
       "        vertical-align: top;\n",
       "    }\n",
       "\n",
       "    .dataframe thead th {\n",
       "        text-align: right;\n",
       "    }\n",
       "</style>\n",
       "<table border=\"1\" class=\"dataframe\">\n",
       "  <thead>\n",
       "    <tr style=\"text-align: right;\">\n",
       "      <th></th>\n",
       "      <th>support</th>\n",
       "      <th>itemsets</th>\n",
       "      <th>length</th>\n",
       "      <th>num_transactions</th>\n",
       "    </tr>\n",
       "  </thead>\n",
       "  <tbody>\n",
       "    <tr>\n",
       "      <th>34</th>\n",
       "      <td>0.014580</td>\n",
       "      <td>(Ibuprofen)</td>\n",
       "      <td>1</td>\n",
       "      <td>1014</td>\n",
       "    </tr>\n",
       "    <tr>\n",
       "      <th>33</th>\n",
       "      <td>0.014421</td>\n",
       "      <td>(Maps)</td>\n",
       "      <td>1</td>\n",
       "      <td>1003</td>\n",
       "    </tr>\n",
       "    <tr>\n",
       "      <th>32</th>\n",
       "      <td>0.014407</td>\n",
       "      <td>(Acetominifen)</td>\n",
       "      <td>1</td>\n",
       "      <td>1002</td>\n",
       "    </tr>\n",
       "    <tr>\n",
       "      <th>31</th>\n",
       "      <td>0.014321</td>\n",
       "      <td>(Anchovies)</td>\n",
       "      <td>1</td>\n",
       "      <td>996</td>\n",
       "    </tr>\n",
       "    <tr>\n",
       "      <th>30</th>\n",
       "      <td>0.014292</td>\n",
       "      <td>(Sports Magazines)</td>\n",
       "      <td>1</td>\n",
       "      <td>994</td>\n",
       "    </tr>\n",
       "    <tr>\n",
       "      <th>29</th>\n",
       "      <td>0.014249</td>\n",
       "      <td>(Home Magazines)</td>\n",
       "      <td>1</td>\n",
       "      <td>991</td>\n",
       "    </tr>\n",
       "    <tr>\n",
       "      <th>28</th>\n",
       "      <td>0.014076</td>\n",
       "      <td>(Fresh Chicken)</td>\n",
       "      <td>1</td>\n",
       "      <td>979</td>\n",
       "    </tr>\n",
       "    <tr>\n",
       "      <th>26</th>\n",
       "      <td>0.014048</td>\n",
       "      <td>(Sponges)</td>\n",
       "      <td>1</td>\n",
       "      <td>977</td>\n",
       "    </tr>\n",
       "    <tr>\n",
       "      <th>27</th>\n",
       "      <td>0.014048</td>\n",
       "      <td>(Gum)</td>\n",
       "      <td>1</td>\n",
       "      <td>977</td>\n",
       "    </tr>\n",
       "    <tr>\n",
       "      <th>23</th>\n",
       "      <td>0.013933</td>\n",
       "      <td>(Tofu)</td>\n",
       "      <td>1</td>\n",
       "      <td>969</td>\n",
       "    </tr>\n",
       "    <tr>\n",
       "      <th>24</th>\n",
       "      <td>0.013933</td>\n",
       "      <td>(Toothbrushes)</td>\n",
       "      <td>1</td>\n",
       "      <td>969</td>\n",
       "    </tr>\n",
       "    <tr>\n",
       "      <th>25</th>\n",
       "      <td>0.013933</td>\n",
       "      <td>(Pretzels)</td>\n",
       "      <td>1</td>\n",
       "      <td>969</td>\n",
       "    </tr>\n",
       "    <tr>\n",
       "      <th>22</th>\n",
       "      <td>0.013918</td>\n",
       "      <td>(Dried Meat)</td>\n",
       "      <td>1</td>\n",
       "      <td>968</td>\n",
       "    </tr>\n",
       "    <tr>\n",
       "      <th>20</th>\n",
       "      <td>0.013832</td>\n",
       "      <td>(Pancake Mix)</td>\n",
       "      <td>1</td>\n",
       "      <td>962</td>\n",
       "    </tr>\n",
       "    <tr>\n",
       "      <th>21</th>\n",
       "      <td>0.013832</td>\n",
       "      <td>(Clams)</td>\n",
       "      <td>1</td>\n",
       "      <td>962</td>\n",
       "    </tr>\n",
       "    <tr>\n",
       "      <th>19</th>\n",
       "      <td>0.013803</td>\n",
       "      <td>(Oysters)</td>\n",
       "      <td>1</td>\n",
       "      <td>960</td>\n",
       "    </tr>\n",
       "    <tr>\n",
       "      <th>18</th>\n",
       "      <td>0.013746</td>\n",
       "      <td>(Pots and Pans)</td>\n",
       "      <td>1</td>\n",
       "      <td>956</td>\n",
       "    </tr>\n",
       "    <tr>\n",
       "      <th>17</th>\n",
       "      <td>0.013717</td>\n",
       "      <td>(Computer Magazines)</td>\n",
       "      <td>1</td>\n",
       "      <td>954</td>\n",
       "    </tr>\n",
       "    <tr>\n",
       "      <th>16</th>\n",
       "      <td>0.013703</td>\n",
       "      <td>(Screwdrivers)</td>\n",
       "      <td>1</td>\n",
       "      <td>953</td>\n",
       "    </tr>\n",
       "    <tr>\n",
       "      <th>15</th>\n",
       "      <td>0.013703</td>\n",
       "      <td>(Toilet Brushes)</td>\n",
       "      <td>1</td>\n",
       "      <td>953</td>\n",
       "    </tr>\n",
       "    <tr>\n",
       "      <th>14</th>\n",
       "      <td>0.013659</td>\n",
       "      <td>(Shellfish)</td>\n",
       "      <td>1</td>\n",
       "      <td>950</td>\n",
       "    </tr>\n",
       "    <tr>\n",
       "      <th>13</th>\n",
       "      <td>0.013616</td>\n",
       "      <td>(Conditioner)</td>\n",
       "      <td>1</td>\n",
       "      <td>947</td>\n",
       "    </tr>\n",
       "    <tr>\n",
       "      <th>12</th>\n",
       "      <td>0.013616</td>\n",
       "      <td>(Candles)</td>\n",
       "      <td>1</td>\n",
       "      <td>947</td>\n",
       "    </tr>\n",
       "    <tr>\n",
       "      <th>11</th>\n",
       "      <td>0.013602</td>\n",
       "      <td>(Chocolate)</td>\n",
       "      <td>1</td>\n",
       "      <td>946</td>\n",
       "    </tr>\n",
       "    <tr>\n",
       "      <th>10</th>\n",
       "      <td>0.013602</td>\n",
       "      <td>(Sunglasses)</td>\n",
       "      <td>1</td>\n",
       "      <td>946</td>\n",
       "    </tr>\n",
       "    <tr>\n",
       "      <th>9</th>\n",
       "      <td>0.013516</td>\n",
       "      <td>(Deodorizers)</td>\n",
       "      <td>1</td>\n",
       "      <td>940</td>\n",
       "    </tr>\n",
       "    <tr>\n",
       "      <th>8</th>\n",
       "      <td>0.013458</td>\n",
       "      <td>(Shrimp)</td>\n",
       "      <td>1</td>\n",
       "      <td>936</td>\n",
       "    </tr>\n",
       "    <tr>\n",
       "      <th>7</th>\n",
       "      <td>0.013444</td>\n",
       "      <td>(Bagels)</td>\n",
       "      <td>1</td>\n",
       "      <td>935</td>\n",
       "    </tr>\n",
       "    <tr>\n",
       "      <th>6</th>\n",
       "      <td>0.013415</td>\n",
       "      <td>(Pot Scrubbers)</td>\n",
       "      <td>1</td>\n",
       "      <td>933</td>\n",
       "    </tr>\n",
       "    <tr>\n",
       "      <th>4</th>\n",
       "      <td>0.013343</td>\n",
       "      <td>(Auto Magazines)</td>\n",
       "      <td>1</td>\n",
       "      <td>928</td>\n",
       "    </tr>\n",
       "    <tr>\n",
       "      <th>5</th>\n",
       "      <td>0.013343</td>\n",
       "      <td>(Sardines)</td>\n",
       "      <td>1</td>\n",
       "      <td>928</td>\n",
       "    </tr>\n",
       "    <tr>\n",
       "      <th>3</th>\n",
       "      <td>0.013271</td>\n",
       "      <td>(Sauces)</td>\n",
       "      <td>1</td>\n",
       "      <td>923</td>\n",
       "    </tr>\n",
       "    <tr>\n",
       "      <th>2</th>\n",
       "      <td>0.013156</td>\n",
       "      <td>(Fashion Magazines)</td>\n",
       "      <td>1</td>\n",
       "      <td>915</td>\n",
       "    </tr>\n",
       "    <tr>\n",
       "      <th>1</th>\n",
       "      <td>0.012998</td>\n",
       "      <td>(Pancakes)</td>\n",
       "      <td>1</td>\n",
       "      <td>904</td>\n",
       "    </tr>\n",
       "    <tr>\n",
       "      <th>0</th>\n",
       "      <td>0.012869</td>\n",
       "      <td>(Fresh Fish)</td>\n",
       "      <td>1</td>\n",
       "      <td>895</td>\n",
       "    </tr>\n",
       "  </tbody>\n",
       "</table>\n",
       "</div>"
      ],
      "text/plain": [
       "     support              itemsets  length  num_transactions\n",
       "34  0.014580           (Ibuprofen)       1              1014\n",
       "33  0.014421                (Maps)       1              1003\n",
       "32  0.014407        (Acetominifen)       1              1002\n",
       "31  0.014321           (Anchovies)       1               996\n",
       "30  0.014292    (Sports Magazines)       1               994\n",
       "29  0.014249      (Home Magazines)       1               991\n",
       "28  0.014076       (Fresh Chicken)       1               979\n",
       "26  0.014048             (Sponges)       1               977\n",
       "27  0.014048                 (Gum)       1               977\n",
       "23  0.013933                (Tofu)       1               969\n",
       "24  0.013933        (Toothbrushes)       1               969\n",
       "25  0.013933            (Pretzels)       1               969\n",
       "22  0.013918          (Dried Meat)       1               968\n",
       "20  0.013832         (Pancake Mix)       1               962\n",
       "21  0.013832               (Clams)       1               962\n",
       "19  0.013803             (Oysters)       1               960\n",
       "18  0.013746       (Pots and Pans)       1               956\n",
       "17  0.013717  (Computer Magazines)       1               954\n",
       "16  0.013703        (Screwdrivers)       1               953\n",
       "15  0.013703      (Toilet Brushes)       1               953\n",
       "14  0.013659           (Shellfish)       1               950\n",
       "13  0.013616         (Conditioner)       1               947\n",
       "12  0.013616             (Candles)       1               947\n",
       "11  0.013602           (Chocolate)       1               946\n",
       "10  0.013602          (Sunglasses)       1               946\n",
       "9   0.013516         (Deodorizers)       1               940\n",
       "8   0.013458              (Shrimp)       1               936\n",
       "7   0.013444              (Bagels)       1               935\n",
       "6   0.013415       (Pot Scrubbers)       1               933\n",
       "4   0.013343      (Auto Magazines)       1               928\n",
       "5   0.013343            (Sardines)       1               928\n",
       "3   0.013271              (Sauces)       1               923\n",
       "2   0.013156   (Fashion Magazines)       1               915\n",
       "1   0.012998            (Pancakes)       1               904\n",
       "0   0.012869          (Fresh Fish)       1               895"
      ]
     },
     "execution_count": 63,
     "metadata": {},
     "output_type": "execute_result"
    }
   ],
   "source": [
    "maximal_frequent_itemsets[(maximal_frequent_itemsets['length']==1) & (maximal_frequent_itemsets['support']>Y)]"
   ]
  },
  {
   "cell_type": "markdown",
   "metadata": {},
   "source": [
    "Ibuprofen is a maximal itemset of size 1, that was bougth 1014 times, meaning that there is no superset that contains Ibuprofen and is frequent."
   ]
  },
  {
   "cell_type": "code",
   "execution_count": 64,
   "metadata": {},
   "outputs": [
    {
     "data": {
      "text/html": [
       "<div>\n",
       "<style scoped>\n",
       "    .dataframe tbody tr th:only-of-type {\n",
       "        vertical-align: middle;\n",
       "    }\n",
       "\n",
       "    .dataframe tbody tr th {\n",
       "        vertical-align: top;\n",
       "    }\n",
       "\n",
       "    .dataframe thead th {\n",
       "        text-align: right;\n",
       "    }\n",
       "</style>\n",
       "<table border=\"1\" class=\"dataframe\">\n",
       "  <thead>\n",
       "    <tr style=\"text-align: right;\">\n",
       "      <th></th>\n",
       "      <th>support</th>\n",
       "      <th>itemsets</th>\n",
       "      <th>length</th>\n",
       "      <th>num_transactions</th>\n",
       "    </tr>\n",
       "  </thead>\n",
       "  <tbody>\n",
       "    <tr>\n",
       "      <th>295</th>\n",
       "      <td>0.035227</td>\n",
       "      <td>(Fresh Vegetables, Dried Fruit)</td>\n",
       "      <td>2</td>\n",
       "      <td>2450</td>\n",
       "    </tr>\n",
       "    <tr>\n",
       "      <th>56</th>\n",
       "      <td>0.028958</td>\n",
       "      <td>(Fresh Vegetables, Cold Remedies)</td>\n",
       "      <td>2</td>\n",
       "      <td>2014</td>\n",
       "    </tr>\n",
       "    <tr>\n",
       "      <th>53</th>\n",
       "      <td>0.028052</td>\n",
       "      <td>(Canned Fruit, Fresh Vegetables)</td>\n",
       "      <td>2</td>\n",
       "      <td>1951</td>\n",
       "    </tr>\n",
       "    <tr>\n",
       "      <th>50</th>\n",
       "      <td>0.027836</td>\n",
       "      <td>(Fresh Vegetables, Yogurt)</td>\n",
       "      <td>2</td>\n",
       "      <td>1936</td>\n",
       "    </tr>\n",
       "    <tr>\n",
       "      <th>45</th>\n",
       "      <td>0.027736</td>\n",
       "      <td>(Nasal Sprays, Fresh Vegetables)</td>\n",
       "      <td>2</td>\n",
       "      <td>1929</td>\n",
       "    </tr>\n",
       "    <tr>\n",
       "      <th>...</th>\n",
       "      <td>...</td>\n",
       "      <td>...</td>\n",
       "      <td>...</td>\n",
       "      <td>...</td>\n",
       "    </tr>\n",
       "    <tr>\n",
       "      <th>63</th>\n",
       "      <td>0.010281</td>\n",
       "      <td>(Fresh Vegetables, Cleaners)</td>\n",
       "      <td>2</td>\n",
       "      <td>715</td>\n",
       "    </tr>\n",
       "    <tr>\n",
       "      <th>265</th>\n",
       "      <td>0.010194</td>\n",
       "      <td>(Frozen Vegetables, Fresh Fruit)</td>\n",
       "      <td>2</td>\n",
       "      <td>709</td>\n",
       "    </tr>\n",
       "    <tr>\n",
       "      <th>68</th>\n",
       "      <td>0.010165</td>\n",
       "      <td>(Fresh Vegetables, Popcorn)</td>\n",
       "      <td>2</td>\n",
       "      <td>707</td>\n",
       "    </tr>\n",
       "    <tr>\n",
       "      <th>284</th>\n",
       "      <td>0.010122</td>\n",
       "      <td>(Wine, Dried Fruit)</td>\n",
       "      <td>2</td>\n",
       "      <td>704</td>\n",
       "    </tr>\n",
       "    <tr>\n",
       "      <th>174</th>\n",
       "      <td>0.010122</td>\n",
       "      <td>(Waffles, Fresh Fruit)</td>\n",
       "      <td>2</td>\n",
       "      <td>704</td>\n",
       "    </tr>\n",
       "  </tbody>\n",
       "</table>\n",
       "<p>81 rows × 4 columns</p>\n",
       "</div>"
      ],
      "text/plain": [
       "      support                           itemsets  length  num_transactions\n",
       "295  0.035227    (Fresh Vegetables, Dried Fruit)       2              2450\n",
       "56   0.028958  (Fresh Vegetables, Cold Remedies)       2              2014\n",
       "53   0.028052   (Canned Fruit, Fresh Vegetables)       2              1951\n",
       "50   0.027836         (Fresh Vegetables, Yogurt)       2              1936\n",
       "45   0.027736   (Nasal Sprays, Fresh Vegetables)       2              1929\n",
       "..        ...                                ...     ...               ...\n",
       "63   0.010281       (Fresh Vegetables, Cleaners)       2               715\n",
       "265  0.010194   (Frozen Vegetables, Fresh Fruit)       2               709\n",
       "68   0.010165        (Fresh Vegetables, Popcorn)       2               707\n",
       "284  0.010122                (Wine, Dried Fruit)       2               704\n",
       "174  0.010122             (Waffles, Fresh Fruit)       2               704\n",
       "\n",
       "[81 rows x 4 columns]"
      ]
     },
     "execution_count": 64,
     "metadata": {},
     "output_type": "execute_result"
    }
   ],
   "source": [
    "maximal_frequent_itemsets[(maximal_frequent_itemsets['length'] == 2) & (maximal_frequent_itemsets['support']>Y)]"
   ]
  },
  {
   "cell_type": "code",
   "execution_count": 65,
   "metadata": {},
   "outputs": [
    {
     "data": {
      "text/html": [
       "<div>\n",
       "<style scoped>\n",
       "    .dataframe tbody tr th:only-of-type {\n",
       "        vertical-align: middle;\n",
       "    }\n",
       "\n",
       "    .dataframe tbody tr th {\n",
       "        vertical-align: top;\n",
       "    }\n",
       "\n",
       "    .dataframe thead th {\n",
       "        text-align: right;\n",
       "    }\n",
       "</style>\n",
       "<table border=\"1\" class=\"dataframe\">\n",
       "  <thead>\n",
       "    <tr style=\"text-align: right;\">\n",
       "      <th></th>\n",
       "      <th>support</th>\n",
       "      <th>itemsets</th>\n",
       "      <th>length</th>\n",
       "      <th>num_transactions</th>\n",
       "    </tr>\n",
       "  </thead>\n",
       "  <tbody>\n",
       "    <tr>\n",
       "      <th>298</th>\n",
       "      <td>0.020748</td>\n",
       "      <td>(Soup, Fresh Vegetables, Fresh Fruit)</td>\n",
       "      <td>3</td>\n",
       "      <td>1443</td>\n",
       "    </tr>\n",
       "    <tr>\n",
       "      <th>297</th>\n",
       "      <td>0.020417</td>\n",
       "      <td>(Cheese, Fresh Vegetables, Fresh Fruit)</td>\n",
       "      <td>3</td>\n",
       "      <td>1420</td>\n",
       "    </tr>\n",
       "    <tr>\n",
       "      <th>291</th>\n",
       "      <td>0.018908</td>\n",
       "      <td>(Fresh Vegetables, Fresh Fruit, Cookies)</td>\n",
       "      <td>3</td>\n",
       "      <td>1315</td>\n",
       "    </tr>\n",
       "  </tbody>\n",
       "</table>\n",
       "</div>"
      ],
      "text/plain": [
       "      support                                  itemsets  length  \\\n",
       "298  0.020748     (Soup, Fresh Vegetables, Fresh Fruit)       3   \n",
       "297  0.020417   (Cheese, Fresh Vegetables, Fresh Fruit)       3   \n",
       "291  0.018908  (Fresh Vegetables, Fresh Fruit, Cookies)       3   \n",
       "\n",
       "     num_transactions  \n",
       "298              1443  \n",
       "297              1420  \n",
       "291              1315  "
      ]
     },
     "execution_count": 65,
     "metadata": {},
     "output_type": "execute_result"
    }
   ],
   "source": [
    "maximal_frequent_itemsets[(maximal_frequent_itemsets['length'] == 3) & (maximal_frequent_itemsets['support']>Y)]"
   ]
  },
  {
   "cell_type": "markdown",
   "metadata": {},
   "source": [
    "Maximal Frequent Itemsets are sets of items that do not have any superset that is also frequent. Maximal Patterns show us well supported sets which happen without any other frequent superset. Therefore we can say:\n",
    "\n",
    "        \"Fresh Vegetable and Dried Fruit are a frequent set, and there is no superset that contains these items and is frequent\""
   ]
  },
  {
   "cell_type": "markdown",
   "metadata": {},
   "source": [
    "It is interesting to net that Ibuprofen is the most frequent maximal itemset of size 3, which appers in 1,4% of the transactions. This means that there is no superset (at least with a minimum support of X) that includes Ibuprofen that is frequent."
   ]
  },
  {
   "cell_type": "code",
   "execution_count": 66,
   "metadata": {},
   "outputs": [],
   "source": [
    "#There was an option to use FPmax from MLExtend to find the maximal frequent itemsets, but a bug in the code did not allow us to use it. Still, the algorithm is simple enough. Maximal Frequent Itemsets are sets of items that do not have any superset that is also frequent. Out algorithm is not very efficient but still allows us to obtain it.\n",
    "#\n",
    "#Maximal Patterns show us well supported sets which happen without any other frequent superset. Therefore we can say:\n",
    "#\n",
    "#        \"Fresh Vegetable and Dried Fruit are a frequent set, and there is no superset that contains these items and is frequent\""
   ]
  },
  {
   "cell_type": "markdown",
   "metadata": {},
   "source": [
    "### 1.5 Conclusions from Mining Frequent Patterns in All Stores"
   ]
  },
  {
   "cell_type": "markdown",
   "metadata": {},
   "source": [
    "The transactions we have, as we can note, are from supermarkets or grocery stores; We will not be able to see sets of specific items from each store since the support is represented by: `(number of transactions where A is presents)/(all transactions)`. Bigger stores will dominate the dataset in this way.\n",
    "\n",
    "A better approach would be do do an analysis for specific stores, as we will do after.\n",
    "\n",
    "It is interesting to note that buying Fresh Fruit and Fresh Vegetables together represents 5% of all transactions, making it fair to say that it is a common thing to happen when people go shopping in comparison with the multitude of possibilities."
   ]
  },
  {
   "cell_type": "markdown",
   "metadata": {},
   "source": [
    "## 2. Mining Frequent Itemsets and Association Rules: Looking for Differences between Stores\n",
    "\n",
    "The 24 stores, whose transactions were analysed in Task 1, are in fact **different types of stores**:\n",
    "* Deluxe Supermarkets: STORE_ID = 8, 12, 13, 17, 19, 21\n",
    "* Gourmet Supermarkets: STORE_ID = 4, 6\n",
    "* Mid-Size Grocerys: STORE_ID = 9, 18, 20, 23\n",
    "* Small Grocerys: STORE_ID = 2, 5, 14, 22\n",
    "* Supermarkets: STORE_ID = 1, 3, 7, 10, 11, 15, 16\n",
    "\n",
    "In this context, in this second task you should compute frequent itemsets and association rules for specific groups of stores, and then compare the store specific results with those obtained when all transactions were analysed independently of the type of store. \n",
    "\n",
    "**The goal is to find similarities and differences in buying patterns according to the types of store. Do popular products change? Are there buying patterns specific to the type of store?**"
   ]
  },
  {
   "cell_type": "markdown",
   "metadata": {},
   "source": [
    "### 2.1. Analyse Deluxe Supermarkets and Gourmet Supermarkets\n",
    "\n",
    "Here you should analyse transactions from **Deluxe Supermarkets (STORE_ID = 8, 12, 13, 17, 19, 21) and Gourmet Supermarkets (STORE_ID = 4, 6) together**."
   ]
  },
  {
   "cell_type": "markdown",
   "metadata": {},
   "source": [
    "**Load the data**"
   ]
  },
  {
   "cell_type": "markdown",
   "metadata": {},
   "source": [
    "Select only the Deluxe Supermarkets and Gourmet Supermarkets"
   ]
  },
  {
   "cell_type": "code",
   "execution_count": 67,
   "metadata": {},
   "outputs": [
    {
     "data": {
      "text/plain": [
       "(31251, 11)"
      ]
     },
     "execution_count": 67,
     "metadata": {},
     "output_type": "execute_result"
    }
   ],
   "source": [
    "df2 = pd.DataFrame(columns = df_itemset.columns) # new Itemset\n",
    "for i in [8,12,13,17,19,21,4,6]:    \n",
    "    df2 = pd.concat([df2,df_itemset[df_itemset['Column1'] == f'STORE_ID={i}']])\n",
    "df2.shape"
   ]
  },
  {
   "cell_type": "markdown",
   "metadata": {},
   "source": [
    "We have 31251 transactions in data from deluxe and gourmet supermarkets."
   ]
  },
  {
   "cell_type": "code",
   "execution_count": 68,
   "metadata": {},
   "outputs": [
    {
     "data": {
      "text/html": [
       "<div>\n",
       "<style scoped>\n",
       "    .dataframe tbody tr th:only-of-type {\n",
       "        vertical-align: middle;\n",
       "    }\n",
       "\n",
       "    .dataframe tbody tr th {\n",
       "        vertical-align: top;\n",
       "    }\n",
       "\n",
       "    .dataframe thead th {\n",
       "        text-align: right;\n",
       "    }\n",
       "</style>\n",
       "<table border=\"1\" class=\"dataframe\">\n",
       "  <thead>\n",
       "    <tr style=\"text-align: right;\">\n",
       "      <th></th>\n",
       "      <th>Column1</th>\n",
       "      <th>Column2</th>\n",
       "      <th>Column3</th>\n",
       "      <th>Column4</th>\n",
       "      <th>Column5</th>\n",
       "      <th>Column6</th>\n",
       "      <th>Column7</th>\n",
       "      <th>Column8</th>\n",
       "      <th>Column9</th>\n",
       "      <th>Column10</th>\n",
       "      <th>Column11</th>\n",
       "    </tr>\n",
       "  </thead>\n",
       "  <tbody>\n",
       "    <tr>\n",
       "      <th>30555</th>\n",
       "      <td>STORE_ID=8</td>\n",
       "      <td>Cleaners=4</td>\n",
       "      <td>Muffins=3</td>\n",
       "      <td>NaN</td>\n",
       "      <td>NaN</td>\n",
       "      <td>NaN</td>\n",
       "      <td>NaN</td>\n",
       "      <td>NaN</td>\n",
       "      <td>NaN</td>\n",
       "      <td>NaN</td>\n",
       "      <td>NaN</td>\n",
       "    </tr>\n",
       "    <tr>\n",
       "      <th>30556</th>\n",
       "      <td>STORE_ID=8</td>\n",
       "      <td>Fresh Vegetables=3</td>\n",
       "      <td>Dips=4</td>\n",
       "      <td>Dried Fruit=3</td>\n",
       "      <td>Paper Wipes=2</td>\n",
       "      <td>Screwdrivers=3</td>\n",
       "      <td>NaN</td>\n",
       "      <td>NaN</td>\n",
       "      <td>NaN</td>\n",
       "      <td>NaN</td>\n",
       "      <td>NaN</td>\n",
       "    </tr>\n",
       "    <tr>\n",
       "      <th>30557</th>\n",
       "      <td>STORE_ID=8</td>\n",
       "      <td>Fresh Fruit=2</td>\n",
       "      <td>Paper Wipes=3</td>\n",
       "      <td>NaN</td>\n",
       "      <td>NaN</td>\n",
       "      <td>NaN</td>\n",
       "      <td>NaN</td>\n",
       "      <td>NaN</td>\n",
       "      <td>NaN</td>\n",
       "      <td>NaN</td>\n",
       "      <td>NaN</td>\n",
       "    </tr>\n",
       "    <tr>\n",
       "      <th>30558</th>\n",
       "      <td>STORE_ID=8</td>\n",
       "      <td>Beer=2</td>\n",
       "      <td>Frozen Vegetables=5</td>\n",
       "      <td>NaN</td>\n",
       "      <td>NaN</td>\n",
       "      <td>NaN</td>\n",
       "      <td>NaN</td>\n",
       "      <td>NaN</td>\n",
       "      <td>NaN</td>\n",
       "      <td>NaN</td>\n",
       "      <td>NaN</td>\n",
       "    </tr>\n",
       "    <tr>\n",
       "      <th>30559</th>\n",
       "      <td>STORE_ID=8</td>\n",
       "      <td>Fresh Vegetables=3</td>\n",
       "      <td>Preserves=3</td>\n",
       "      <td>Paper Wipes=2</td>\n",
       "      <td>Paper Dishes=3</td>\n",
       "      <td>Auto Magazines=2</td>\n",
       "      <td>NaN</td>\n",
       "      <td>NaN</td>\n",
       "      <td>NaN</td>\n",
       "      <td>NaN</td>\n",
       "      <td>NaN</td>\n",
       "    </tr>\n",
       "  </tbody>\n",
       "</table>\n",
       "</div>"
      ],
      "text/plain": [
       "          Column1             Column2              Column3        Column4  \\\n",
       "30555  STORE_ID=8          Cleaners=4            Muffins=3            NaN   \n",
       "30556  STORE_ID=8  Fresh Vegetables=3               Dips=4  Dried Fruit=3   \n",
       "30557  STORE_ID=8       Fresh Fruit=2        Paper Wipes=3            NaN   \n",
       "30558  STORE_ID=8              Beer=2  Frozen Vegetables=5            NaN   \n",
       "30559  STORE_ID=8  Fresh Vegetables=3          Preserves=3  Paper Wipes=2   \n",
       "\n",
       "              Column5           Column6 Column7 Column8 Column9 Column10  \\\n",
       "30555             NaN               NaN     NaN     NaN     NaN      NaN   \n",
       "30556   Paper Wipes=2    Screwdrivers=3     NaN     NaN     NaN      NaN   \n",
       "30557             NaN               NaN     NaN     NaN     NaN      NaN   \n",
       "30558             NaN               NaN     NaN     NaN     NaN      NaN   \n",
       "30559  Paper Dishes=3  Auto Magazines=2     NaN     NaN     NaN      NaN   \n",
       "\n",
       "      Column11  \n",
       "30555      NaN  \n",
       "30556      NaN  \n",
       "30557      NaN  \n",
       "30558      NaN  \n",
       "30559      NaN  "
      ]
     },
     "execution_count": 68,
     "metadata": {},
     "output_type": "execute_result"
    }
   ],
   "source": [
    "df2.head()"
   ]
  },
  {
   "cell_type": "markdown",
   "metadata": {},
   "source": [
    "**Processing Data**\n",
    "\n",
    "Clear quantities and store column"
   ]
  },
  {
   "cell_type": "code",
   "execution_count": 69,
   "metadata": {},
   "outputs": [],
   "source": [
    "#remove store column\n",
    "df2 = df2.loc[:,'Column2':'Column11']\n",
    "#clear quantities\n",
    "df2 = df2.applymap(clear_quantities)"
   ]
  },
  {
   "cell_type": "markdown",
   "metadata": {},
   "source": [
    "Remove 'NaN' values from the transaction matrix."
   ]
  },
  {
   "cell_type": "code",
   "execution_count": 70,
   "metadata": {},
   "outputs": [
    {
     "data": {
      "text/plain": [
       "[['Cleaners', 'Muffins'],\n",
       " ['Fresh Vegetables', 'Dips', 'Dried Fruit', 'Paper Wipes', 'Screwdrivers'],\n",
       " ['Fresh Fruit', 'Paper Wipes'],\n",
       " ['Beer', 'Frozen Vegetables'],\n",
       " ['Fresh Vegetables',\n",
       "  'Preserves',\n",
       "  'Paper Wipes',\n",
       "  'Paper Dishes',\n",
       "  'Auto Magazines']]"
      ]
     },
     "execution_count": 70,
     "metadata": {},
     "output_type": "execute_result"
    }
   ],
   "source": [
    "transactions_cleaned2 = remove_nan(df2.values)\n",
    "\n",
    "#view just the first 5 transactions\n",
    "transactions_cleaned2[:5]"
   ]
  },
  {
   "cell_type": "code",
   "execution_count": 71,
   "metadata": {},
   "outputs": [
    {
     "data": {
      "text/plain": [
       "31251"
      ]
     },
     "execution_count": 71,
     "metadata": {},
     "output_type": "execute_result"
    }
   ],
   "source": [
    "len(transactions_cleaned2)"
   ]
  },
  {
   "cell_type": "markdown",
   "metadata": {},
   "source": [
    "Apply transaction encoder."
   ]
  },
  {
   "cell_type": "code",
   "execution_count": 72,
   "metadata": {},
   "outputs": [
    {
     "data": {
      "text/html": [
       "<div>\n",
       "<style scoped>\n",
       "    .dataframe tbody tr th:only-of-type {\n",
       "        vertical-align: middle;\n",
       "    }\n",
       "\n",
       "    .dataframe tbody tr th {\n",
       "        vertical-align: top;\n",
       "    }\n",
       "\n",
       "    .dataframe thead th {\n",
       "        text-align: right;\n",
       "    }\n",
       "</style>\n",
       "<table border=\"1\" class=\"dataframe\">\n",
       "  <thead>\n",
       "    <tr style=\"text-align: right;\">\n",
       "      <th></th>\n",
       "      <th>Acetominifen</th>\n",
       "      <th>Anchovies</th>\n",
       "      <th>Aspirin</th>\n",
       "      <th>Auto Magazines</th>\n",
       "      <th>Bagels</th>\n",
       "      <th>Batteries</th>\n",
       "      <th>Beer</th>\n",
       "      <th>Bologna</th>\n",
       "      <th>Candles</th>\n",
       "      <th>Canned Fruit</th>\n",
       "      <th>...</th>\n",
       "      <th>Sunglasses</th>\n",
       "      <th>TV Dinner</th>\n",
       "      <th>Tofu</th>\n",
       "      <th>Toilet Brushes</th>\n",
       "      <th>Tools</th>\n",
       "      <th>Toothbrushes</th>\n",
       "      <th>Tuna</th>\n",
       "      <th>Waffles</th>\n",
       "      <th>Wine</th>\n",
       "      <th>Yogurt</th>\n",
       "    </tr>\n",
       "  </thead>\n",
       "  <tbody>\n",
       "    <tr>\n",
       "      <th>0</th>\n",
       "      <td>False</td>\n",
       "      <td>False</td>\n",
       "      <td>False</td>\n",
       "      <td>False</td>\n",
       "      <td>False</td>\n",
       "      <td>False</td>\n",
       "      <td>False</td>\n",
       "      <td>False</td>\n",
       "      <td>False</td>\n",
       "      <td>False</td>\n",
       "      <td>...</td>\n",
       "      <td>False</td>\n",
       "      <td>False</td>\n",
       "      <td>False</td>\n",
       "      <td>False</td>\n",
       "      <td>False</td>\n",
       "      <td>False</td>\n",
       "      <td>False</td>\n",
       "      <td>False</td>\n",
       "      <td>False</td>\n",
       "      <td>False</td>\n",
       "    </tr>\n",
       "    <tr>\n",
       "      <th>1</th>\n",
       "      <td>False</td>\n",
       "      <td>False</td>\n",
       "      <td>False</td>\n",
       "      <td>False</td>\n",
       "      <td>False</td>\n",
       "      <td>False</td>\n",
       "      <td>False</td>\n",
       "      <td>False</td>\n",
       "      <td>False</td>\n",
       "      <td>False</td>\n",
       "      <td>...</td>\n",
       "      <td>False</td>\n",
       "      <td>False</td>\n",
       "      <td>False</td>\n",
       "      <td>False</td>\n",
       "      <td>False</td>\n",
       "      <td>False</td>\n",
       "      <td>False</td>\n",
       "      <td>False</td>\n",
       "      <td>False</td>\n",
       "      <td>False</td>\n",
       "    </tr>\n",
       "    <tr>\n",
       "      <th>2</th>\n",
       "      <td>False</td>\n",
       "      <td>False</td>\n",
       "      <td>False</td>\n",
       "      <td>False</td>\n",
       "      <td>False</td>\n",
       "      <td>False</td>\n",
       "      <td>False</td>\n",
       "      <td>False</td>\n",
       "      <td>False</td>\n",
       "      <td>False</td>\n",
       "      <td>...</td>\n",
       "      <td>False</td>\n",
       "      <td>False</td>\n",
       "      <td>False</td>\n",
       "      <td>False</td>\n",
       "      <td>False</td>\n",
       "      <td>False</td>\n",
       "      <td>False</td>\n",
       "      <td>False</td>\n",
       "      <td>False</td>\n",
       "      <td>False</td>\n",
       "    </tr>\n",
       "    <tr>\n",
       "      <th>3</th>\n",
       "      <td>False</td>\n",
       "      <td>False</td>\n",
       "      <td>False</td>\n",
       "      <td>False</td>\n",
       "      <td>False</td>\n",
       "      <td>False</td>\n",
       "      <td>True</td>\n",
       "      <td>False</td>\n",
       "      <td>False</td>\n",
       "      <td>False</td>\n",
       "      <td>...</td>\n",
       "      <td>False</td>\n",
       "      <td>False</td>\n",
       "      <td>False</td>\n",
       "      <td>False</td>\n",
       "      <td>False</td>\n",
       "      <td>False</td>\n",
       "      <td>False</td>\n",
       "      <td>False</td>\n",
       "      <td>False</td>\n",
       "      <td>False</td>\n",
       "    </tr>\n",
       "    <tr>\n",
       "      <th>4</th>\n",
       "      <td>False</td>\n",
       "      <td>False</td>\n",
       "      <td>False</td>\n",
       "      <td>True</td>\n",
       "      <td>False</td>\n",
       "      <td>False</td>\n",
       "      <td>False</td>\n",
       "      <td>False</td>\n",
       "      <td>False</td>\n",
       "      <td>False</td>\n",
       "      <td>...</td>\n",
       "      <td>False</td>\n",
       "      <td>False</td>\n",
       "      <td>False</td>\n",
       "      <td>False</td>\n",
       "      <td>False</td>\n",
       "      <td>False</td>\n",
       "      <td>False</td>\n",
       "      <td>False</td>\n",
       "      <td>False</td>\n",
       "      <td>False</td>\n",
       "    </tr>\n",
       "  </tbody>\n",
       "</table>\n",
       "<p>5 rows × 102 columns</p>\n",
       "</div>"
      ],
      "text/plain": [
       "   Acetominifen  Anchovies  Aspirin  Auto Magazines  Bagels  Batteries   Beer  \\\n",
       "0         False      False    False           False   False      False  False   \n",
       "1         False      False    False           False   False      False  False   \n",
       "2         False      False    False           False   False      False  False   \n",
       "3         False      False    False           False   False      False   True   \n",
       "4         False      False    False            True   False      False  False   \n",
       "\n",
       "   Bologna  Candles  Canned Fruit  ...  Sunglasses  TV Dinner   Tofu  \\\n",
       "0    False    False         False  ...       False      False  False   \n",
       "1    False    False         False  ...       False      False  False   \n",
       "2    False    False         False  ...       False      False  False   \n",
       "3    False    False         False  ...       False      False  False   \n",
       "4    False    False         False  ...       False      False  False   \n",
       "\n",
       "   Toilet Brushes  Tools  Toothbrushes   Tuna  Waffles   Wine  Yogurt  \n",
       "0           False  False         False  False    False  False   False  \n",
       "1           False  False         False  False    False  False   False  \n",
       "2           False  False         False  False    False  False   False  \n",
       "3           False  False         False  False    False  False   False  \n",
       "4           False  False         False  False    False  False   False  \n",
       "\n",
       "[5 rows x 102 columns]"
      ]
     },
     "execution_count": 72,
     "metadata": {},
     "output_type": "execute_result"
    }
   ],
   "source": [
    "te = TransactionEncoder().fit(transactions_cleaned2)\n",
    "te_ary2 = te.transform(transactions_cleaned2)\n",
    "df21_te = pd.DataFrame(te_ary2, columns=te.columns_)\n",
    "df21_te.head()"
   ]
  },
  {
   "cell_type": "markdown",
   "metadata": {},
   "source": [
    "Compute the most frequent products"
   ]
  },
  {
   "cell_type": "code",
   "execution_count": 73,
   "metadata": {},
   "outputs": [
    {
     "data": {
      "text/html": [
       "<div>\n",
       "<style scoped>\n",
       "    .dataframe tbody tr th:only-of-type {\n",
       "        vertical-align: middle;\n",
       "    }\n",
       "\n",
       "    .dataframe tbody tr th {\n",
       "        vertical-align: top;\n",
       "    }\n",
       "\n",
       "    .dataframe thead th {\n",
       "        text-align: right;\n",
       "    }\n",
       "</style>\n",
       "<table border=\"1\" class=\"dataframe\">\n",
       "  <thead>\n",
       "    <tr style=\"text-align: right;\">\n",
       "      <th></th>\n",
       "      <th>product</th>\n",
       "      <th>support</th>\n",
       "      <th>total</th>\n",
       "    </tr>\n",
       "  </thead>\n",
       "  <tbody>\n",
       "    <tr>\n",
       "      <th>0</th>\n",
       "      <td>Fresh Vegetables</td>\n",
       "      <td>0.290</td>\n",
       "      <td>19764</td>\n",
       "    </tr>\n",
       "    <tr>\n",
       "      <th>1</th>\n",
       "      <td>Fresh Fruit</td>\n",
       "      <td>0.176</td>\n",
       "      <td>12187</td>\n",
       "    </tr>\n",
       "    <tr>\n",
       "      <th>2</th>\n",
       "      <td>Soup</td>\n",
       "      <td>0.121</td>\n",
       "      <td>8350</td>\n",
       "    </tr>\n",
       "    <tr>\n",
       "      <th>3</th>\n",
       "      <td>Dried Fruit</td>\n",
       "      <td>0.119</td>\n",
       "      <td>8193</td>\n",
       "    </tr>\n",
       "    <tr>\n",
       "      <th>4</th>\n",
       "      <td>Cheese</td>\n",
       "      <td>0.118</td>\n",
       "      <td>8152</td>\n",
       "    </tr>\n",
       "    <tr>\n",
       "      <th>...</th>\n",
       "      <td>...</td>\n",
       "      <td>...</td>\n",
       "      <td>...</td>\n",
       "    </tr>\n",
       "    <tr>\n",
       "      <th>97</th>\n",
       "      <td>Sardines</td>\n",
       "      <td>0.013</td>\n",
       "      <td>928</td>\n",
       "    </tr>\n",
       "    <tr>\n",
       "      <th>98</th>\n",
       "      <td>Shrimp</td>\n",
       "      <td>0.013</td>\n",
       "      <td>923</td>\n",
       "    </tr>\n",
       "    <tr>\n",
       "      <th>99</th>\n",
       "      <td>Pots and Pans</td>\n",
       "      <td>0.013</td>\n",
       "      <td>915</td>\n",
       "    </tr>\n",
       "    <tr>\n",
       "      <th>100</th>\n",
       "      <td>Candles</td>\n",
       "      <td>0.013</td>\n",
       "      <td>904</td>\n",
       "    </tr>\n",
       "    <tr>\n",
       "      <th>101</th>\n",
       "      <td>Fresh Fish</td>\n",
       "      <td>0.013</td>\n",
       "      <td>895</td>\n",
       "    </tr>\n",
       "  </tbody>\n",
       "</table>\n",
       "<p>102 rows × 3 columns</p>\n",
       "</div>"
      ],
      "text/plain": [
       "              product  support  total\n",
       "0    Fresh Vegetables    0.290  19764\n",
       "1         Fresh Fruit    0.176  12187\n",
       "2                Soup    0.121   8350\n",
       "3         Dried Fruit    0.119   8193\n",
       "4              Cheese    0.118   8152\n",
       "..                ...      ...    ...\n",
       "97           Sardines    0.013    928\n",
       "98             Shrimp    0.013    923\n",
       "99      Pots and Pans    0.013    915\n",
       "100           Candles    0.013    904\n",
       "101        Fresh Fish    0.013    895\n",
       "\n",
       "[102 rows x 3 columns]"
      ]
     },
     "execution_count": 73,
     "metadata": {},
     "output_type": "execute_result"
    }
   ],
   "source": [
    "df21_products_frequency = pd.DataFrame()\n",
    "for c in df21_te.columns:\n",
    "    df_c = df21_te[c].value_counts().to_frame('count')\n",
    "    total = int(df_c[df_c.index == True]['count']) # Count True values\n",
    "    df21_products_frequency = df21_products_frequency.append({'product':c,'total': total,'support':(total/len(df2))},ignore_index = True)\n",
    "df21_products_frequency = df21_products_frequency.sort_values('total',ascending = False).reset_index(drop=True)\n",
    "\n",
    "# Making it more presentable\n",
    "df21_products_frequency['support'] = df21_products_frequency['support'].astype('float64').round(3)\n",
    "df21_products_frequency['total'] = df_products_frequency['total'].astype('int64')\n",
    "\n",
    "df21_products_frequency"
   ]
  },
  {
   "cell_type": "markdown",
   "metadata": {},
   "source": [
    "Compute some statistic metrics about the total column"
   ]
  },
  {
   "cell_type": "code",
   "execution_count": 74,
   "metadata": {},
   "outputs": [
    {
     "data": {
      "text/plain": [
       "count      102.000000\n",
       "mean      2834.500000\n",
       "std       2589.666372\n",
       "min        895.000000\n",
       "25%        971.000000\n",
       "50%       1991.000000\n",
       "75%       3747.500000\n",
       "max      19764.000000\n",
       "Name: total, dtype: float64"
      ]
     },
     "execution_count": 74,
     "metadata": {},
     "output_type": "execute_result"
    }
   ],
   "source": [
    "df21_products_frequency.total.describe()"
   ]
  },
  {
   "cell_type": "code",
   "execution_count": 75,
   "metadata": {},
   "outputs": [
    {
     "data": {
      "text/plain": [
       "([0, 1, 2, 3, 4, 5, 6, 7, 8, 9, 10, 11, 12, 13, 14, 15, 16, 17, 18, 19],\n",
       " <a list of 20 Text xticklabel objects>)"
      ]
     },
     "execution_count": 75,
     "metadata": {},
     "output_type": "execute_result"
    },
    {
     "data": {
      "image/png": "[encoded data removed]",
      "text/plain": [
       "<Figure size 1080x360 with 1 Axes>"
      ]
     },
     "metadata": {
      "needs_background": "light"
     },
     "output_type": "display_data"
    }
   ],
   "source": [
    "plt.figure(figsize=(15,5))\n",
    "df_graph = df21_products_frequency.iloc[:20]\n",
    "plt.bar(df_graph['product'],df_graph['total'])\n",
    "plt.xticks(rotation=90)"
   ]
  },
  {
   "cell_type": "markdown",
   "metadata": {},
   "source": [
    "The frequency of most products is very similar to the ones from all stores. We should take in account that the quantity of transactions is half of all transactions, which is a significant part of all transactions."
   ]
  },
  {
   "cell_type": "markdown",
   "metadata": {},
   "source": [
    "#### 2.1.2. Compute Frequent Itemsets"
   ]
  },
  {
   "cell_type": "code",
   "execution_count": null,
   "metadata": {},
   "outputs": [],
   "source": [
    "X = 0.005\n",
    "Y = 0.007"
   ]
  },
  {
   "cell_type": "code",
   "execution_count": null,
   "metadata": {},
   "outputs": [],
   "source": [
    "frequent_itemsets21_fpg  = fpgrowth(df21_te, min_support=X, use_colnames=True)\n",
    "frequent_itemsets21_fpg = frequent_itemsets21_fpg.sort_values('support',ascending = False)\n",
    "frequent_itemsets21_fpg['length'] = frequent_itemsets21_fpg['itemsets'].apply(lambda x: len(x))\n",
    "frequent_itemsets21_fpg['num_transactions'] = [round(s*len(df2)) for s in frequent_itemsets21_fpg['support']]"
   ]
  },
  {
   "cell_type": "code",
   "execution_count": null,
   "metadata": {},
   "outputs": [],
   "source": [
    "frequent_itemsets21_fpg.query(f'length == 2 & support > {Y}')"
   ]
  },
  {
   "cell_type": "markdown",
   "metadata": {},
   "source": [
    "#### 2.1.3. Generate Association Rules from Frequent Itemsets"
   ]
  },
  {
   "cell_type": "code",
   "execution_count": null,
   "metadata": {},
   "outputs": [],
   "source": [
    "C = 0.3 # Confidence\n",
    "L = 1.1 # Lift"
   ]
  },
  {
   "cell_type": "code",
   "execution_count": null,
   "metadata": {},
   "outputs": [],
   "source": [
    "rules21 = association_rules(frequent_itemsets21_fpg, metric=\"confidence\", min_threshold=0)\n",
    "rules21['antecedent_len'] = rules21['antecedents'].apply(lambda x: len(x))"
   ]
  },
  {
   "cell_type": "code",
   "execution_count": null,
   "metadata": {},
   "outputs": [],
   "source": [
    "association_rules3 = generate_fi(rules21, 1, C, L)\n",
    "association_rules3 = association_rules3.sort_values('support',ascending = False)\n",
    "association_rules3"
   ]
  },
  {
   "cell_type": "code",
   "execution_count": null,
   "metadata": {},
   "outputs": [],
   "source": [
    "C = 0.35 # Confidence\n",
    "L = 1.2  # Lift"
   ]
  },
  {
   "cell_type": "code",
   "execution_count": null,
   "metadata": {},
   "outputs": [],
   "source": [
    "association_rules4 = generate_fi(rules21, 1, C, L)\n",
    "association_rules4 = association_rules4.sort_values('support',ascending = False)\n",
    "association_rules4"
   ]
  },
  {
   "cell_type": "markdown",
   "metadata": {},
   "source": [
    "#### 2.1.4.  Deluxe/Gourmet Supermarkets versus All Stores\n",
    "\n",
    "Discuss the similarities and diferences between the results obtained in task 1. (frequent itemsets and association rules found in transactions from all stores) and those obtained above (frequent itemsets and association rules found in transactions only from Deluxe/Gourmet Supermarkets)."
   ]
  },
  {
   "cell_type": "markdown",
   "metadata": {},
   "source": [
    "There is some difference in the results from the association rules but this is most possibly caused by slight variations in the confidence and lift values which filter more cases in the first task.\n",
    "\n",
    "Overall the difference is insignificant from the general.\n"
   ]
  },
  {
   "cell_type": "markdown",
   "metadata": {},
   "source": [
    "### 2.2. Analyse Small Groceries [For groups of 2 and 3]\n",
    "\n",
    "Here you should analyse **Small Groceries (STORE_ID = 2, 5, 14, 22)**."
   ]
  },
  {
   "cell_type": "markdown",
   "metadata": {},
   "source": [
    "#### 2.2.1.  Load/Preprocess the Dataset"
   ]
  },
  {
   "cell_type": "code",
   "execution_count": null,
   "metadata": {},
   "outputs": [],
   "source": [
    "df23 = pd.DataFrame(columns = df_itemset.columns) # new Itemset\n",
    "for i in [2,5,14,22]:    \n",
    "    df23 = pd.concat([df23,df_itemset[df_itemset['Column1'] == f'STORE_ID={i}']])\n",
    "df23.shape"
   ]
  },
  {
   "cell_type": "code",
   "execution_count": null,
   "metadata": {},
   "outputs": [],
   "source": [
    "#remove store column\n",
    "df23 = df23.loc[:,'Column2':'Column11']\n",
    "#clear quantities\n",
    "df23 = df23.applymap(clear_quantities)"
   ]
  },
  {
   "cell_type": "code",
   "execution_count": null,
   "metadata": {},
   "outputs": [],
   "source": [
    "transactions_cleaned3 = remove_nan(df23.values)\n",
    "\n",
    "#view just the first 5 transactions\n",
    "transactions_cleaned3[:5]"
   ]
  },
  {
   "cell_type": "code",
   "execution_count": null,
   "metadata": {},
   "outputs": [],
   "source": [
    "te = TransactionEncoder().fit(transactions_cleaned3)\n",
    "te_ary3 = te.transform(transactions_cleaned3)\n",
    "df23_te = pd.DataFrame(te_ary3, columns=te.columns_)\n",
    "df23_te.head()"
   ]
  },
  {
   "cell_type": "markdown",
   "metadata": {},
   "source": [
    "#### 2.2.2. Compute Frequent Itemsets"
   ]
  },
  {
   "cell_type": "code",
   "execution_count": null,
   "metadata": {},
   "outputs": [],
   "source": [
    "X = 0.005\n",
    "Y = 0.007"
   ]
  },
  {
   "cell_type": "code",
   "execution_count": null,
   "metadata": {},
   "outputs": [],
   "source": [
    "frequent_itemsets23_fpg  = fpgrowth(df23_te, min_support=X, use_colnames=True)\n",
    "frequent_itemsets23_fpg = frequent_itemsets23_fpg.sort_values('support',ascending = False)\n",
    "frequent_itemsets23_fpg['length'] = frequent_itemsets23_fpg['itemsets'].apply(lambda x: len(x))\n",
    "frequent_itemsets23_fpg['num_transactions'] = [round(s*len(transactions_cleaned3)) for s in frequent_itemsets23_fpg['support']]"
   ]
  },
  {
   "cell_type": "code",
   "execution_count": null,
   "metadata": {},
   "outputs": [],
   "source": [
    "frequent_itemsets23_fpg.head()"
   ]
  },
  {
   "cell_type": "code",
   "execution_count": null,
   "metadata": {},
   "outputs": [],
   "source": [
    "frequent_itemsets23_fpg[(frequent_itemsets23_fpg['length']==1) & (frequent_itemsets23_fpg['support']> Y)]"
   ]
  },
  {
   "cell_type": "code",
   "execution_count": null,
   "metadata": {},
   "outputs": [],
   "source": [
    "frequent_itemsets23_fpg[(frequent_itemsets23_fpg['length']==2) & (frequent_itemsets23_fpg['support']> Y)]"
   ]
  },
  {
   "cell_type": "code",
   "execution_count": null,
   "metadata": {},
   "outputs": [],
   "source": [
    "frequent_itemsets23_fpg[(frequent_itemsets23_fpg['length']==3) & (frequent_itemsets23_fpg['support']> Y)]"
   ]
  },
  {
   "cell_type": "markdown",
   "metadata": {},
   "source": [
    "Write text in cells like this \n"
   ]
  },
  {
   "cell_type": "markdown",
   "metadata": {},
   "source": [
    "#### 2.2.3. Generate Association Rules from Frequent Itemsets"
   ]
  },
  {
   "cell_type": "code",
   "execution_count": null,
   "metadata": {},
   "outputs": [],
   "source": [
    "C = 0.3 # Confidence\n",
    "L = 1.1 # Lift"
   ]
  },
  {
   "cell_type": "code",
   "execution_count": null,
   "metadata": {},
   "outputs": [],
   "source": [
    "rules23 = association_rules(frequent_itemsets23_fpg, metric=\"confidence\", min_threshold=0)\n",
    "rules23['antecedent_len'] = rules23['antecedents'].apply(lambda x: len(x))"
   ]
  },
  {
   "cell_type": "code",
   "execution_count": null,
   "metadata": {},
   "outputs": [],
   "source": [
    "association_rules_4 = generate_fi(rules23, 1, C, L)\n",
    "association_rules_4 = association_rules_4.sort_values('support',ascending = False)\n",
    "association_rules_4"
   ]
  },
  {
   "cell_type": "markdown",
   "metadata": {},
   "source": [
    "Now lets increase both the confidence and lift parameters"
   ]
  },
  {
   "cell_type": "code",
   "execution_count": null,
   "metadata": {},
   "outputs": [],
   "source": [
    "C = 0.4 # Confidence\n",
    "L = 1.3 # Lift"
   ]
  },
  {
   "cell_type": "code",
   "execution_count": null,
   "metadata": {},
   "outputs": [],
   "source": [
    "association_rules_5 = generate_fi(rules23, 1, C, L)\n",
    "association_rules_5 = association_rules_5.sort_values('support',ascending = False)\n",
    "association_rules_5"
   ]
  },
  {
   "cell_type": "markdown",
   "metadata": {},
   "source": []
  },
  {
   "cell_type": "markdown",
   "metadata": {},
   "source": [
    "#### 2.2.4 Small Groceries versus All Stores\n",
    "\n",
    "Discuss the similarities and diferences between the results obtained in task 1. (frequent itemsets and association rules found in transactions from all stores) and those obtained above (frequent itemsets and association rules found in transactions only Small Groceries)."
   ]
  },
  {
   "cell_type": "markdown",
   "metadata": {},
   "source": [
    "Write text in cells like this\n"
   ]
  },
  {
   "cell_type": "markdown",
   "metadata": {},
   "source": [
    "### 2.3.  Deluxe/Gourmet Supermarkets versus Small Groceries  [For groups of 2 and 3]\n",
    "\n",
    "Discuss the similarities and diferences between the results obtained in task 2.1. (frequent itemsets and association rules found in transactions only from Deluxe/Gourmet Supermarkets) and those obtained in task 2.2. (frequent itemsets and association rules found in transactions only Small Groceries)."
   ]
  },
  {
   "cell_type": "markdown",
   "metadata": {},
   "source": [
    "**References**"
   ]
  },
  {
   "cell_type": "markdown",
   "metadata": {},
   "source": [
    "[1] Jiawei Han, Micheline Kamber, and Jian Pei. 2011. Data Mining: Concepts and Techniques (3rd. ed.). Morgan Kaufmann Publishers Inc., San Francisco, CA, USA."
   ]
  }
 ],
 "metadata": {
  "kernelspec": {
   "display_name": "Python 3",
   "language": "python",
   "name": "python3"
  },
  "language_info": {
   "codemirror_mode": {
    "name": "ipython",
    "version": 3
   },
   "file_extension": ".py",
   "mimetype": "text/x-python",
   "name": "python",
   "nbconvert_exporter": "python",
   "pygments_lexer": "ipython3",
   "version": "3.7.6"
  }
 },
 "nbformat": 4,
 "nbformat_minor": 4
}
