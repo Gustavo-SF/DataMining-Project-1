{
 "cells": [
  {
   "cell_type": "markdown",
   "metadata": {},
   "source": [
    "# Data Mining / Prospecção de Dados\n",
    "\n",
    "## Sara C. Madeira and André Falcão, 2019/20\n",
    "\n",
    "# Project 1 - Pattern Mining"
   ]
  },
  {
   "cell_type": "markdown",
   "metadata": {},
   "source": [
    "## Logistics\n",
    "\n",
    "**In a \"normal\" scenario students should work in teams of 2 people. Due to the social distance imposed by current public health situation, students were allowed to work in groups of 1 and 3. In this context, the amount of work was adapted according to the number of students in groups as described below.**\n",
    "\n",
    "* Task **1.** should be done by **all** groups\n",
    "* Task **2.1.** should be done by **all** groups\n",
    "* Task **2.2.** should be done only by **groups of 2 and 3** students\n",
    "* Task **2.3** should be done only by **groups of 2 and 3** students\n",
    "* Task **2.4** should be done only by **groups of 3** students\n",
    "* Task **2.5** should be done only by **groups of 3** students\n",
    "\n",
    "The quality of the project will then dictate its grade.\n",
    "\n",
    "**The project's solution should be uploaded in Moodle before the end of April, 26th 2020 (23:59).** \n",
    "\n",
    "**It is mandatory to produce a Jupyter notebook containing code and text/images/tables/etc describing the solution and the results. Projects not delivered in this format will not be graded. Note that you can use `PD_201920_Project.ipynb`as template.**\n",
    "\n",
    "Students should **upload a `.zip` file** containing all the files necessary for project evaluation. \n",
    "\n",
    "**Decisions should be justified and results should be critically discussed.**"
   ]
  },
  {
   "cell_type": "markdown",
   "metadata": {},
   "source": [
    "## Dataset and Tools\n",
    "\n",
    "In this project you should use [Python 3](https://www.python.org), [Jupyter Notebook](http://jupyter.org) and **[MLxtend](http://rasbt.github.io/mlxtend/)**. When using MLxtend, frequent patterns can either be discovered using `Apriori` and `FP-Growth`. **Choose the pattern mining algorithm to be used.** \n",
    "\n",
    "The dataset to be analysed is **`Foodmart_2020_PD.csv`**, a modified version of the [Foodmart 2000(2005) dataset](https://github.com/neo4j-examples/neo4j-foodmart-dataset/tree/master/data). \n",
    "\n",
    "**`Foodmart_2020_PD.csv`** stores **69549 transactions** from **24 stores**, where **103 different products** can be bought. Each transaction (row) has a STORE_ID (integer from 1 to 24), and a list of products (items), together with the quantities bought. In the transation highlighted below, a customer bought 1 unit of soup, 2 of cheese and 1 of wine at store 2.\n",
    "\n",
    "<img src=\"Foodmart_2020_PD_Example.png\" alt=\"Foodmart_2020_PD_Example\" style=\"width: 1000px;\"/>"
   ]
  },
  {
   "cell_type": "markdown",
   "metadata": {},
   "source": [
    "**In what follows keep the following question in mind and be creative!**\n",
    "\n",
    "1. What are the most popular products?\n",
    "2. Which products are bought together?\n",
    "3. Can you find associations highliting that when people buy a product/set of products also buy other product(s)?"
   ]
  },
  {
   "cell_type": "markdown",
   "metadata": {},
   "source": [
    "## 0. Imports\n",
    "\n",
    "Imports are done here"
   ]
  },
  {
   "cell_type": "code",
   "execution_count": 242,
   "metadata": {},
   "outputs": [],
   "source": [
    "import pandas as pd\n",
    "import numpy as np\n",
    "from mlxtend.preprocessing import TransactionEncoder\n",
    "import matplotlib.pyplot as plt\n",
    "from mlxtend.frequent_patterns import apriori, fpgrowth\n",
    "from mlxtend.frequent_patterns import association_rules"
   ]
  },
  {
   "cell_type": "markdown",
   "metadata": {},
   "source": [
    "## 1. Mining Frequent Itemsets and Association Rules: Ignoring Product Quantities and Stores\n",
    "\n",
    "In this first part of the project you should load and preprocessed the dataset **`Foodmart_2020_PD.csv`** in order to compute frequent itemsets and generate association rules considering all the transactions, regardeless of the store, and ignoring product quantities."
   ]
  },
  {
   "cell_type": "markdown",
   "metadata": {},
   "source": [
    "### 1.1. Load and Preprocess Dataset\n",
    "\n",
    " **Product quantities and stores should not be considered.**"
   ]
  },
  {
   "cell_type": "markdown",
   "metadata": {},
   "source": [
    "Load the data"
   ]
  },
  {
   "cell_type": "code",
   "execution_count": 243,
   "metadata": {},
   "outputs": [
    {
     "data": {
      "text/plain": [
       "(69549, 11)"
      ]
     },
     "execution_count": 243,
     "metadata": {},
     "output_type": "execute_result"
    }
   ],
   "source": [
    "itemset = pd.read_csv('./data/Foodmart_2020_PD.csv', delimiter = ';')\n",
    "itemset.shape"
   ]
  },
  {
   "cell_type": "markdown",
   "metadata": {},
   "source": [
    "Our dataset consists of 69549 transactions "
   ]
  },
  {
   "cell_type": "code",
   "execution_count": 244,
   "metadata": {},
   "outputs": [
    {
     "data": {
      "text/html": [
       "<div>\n",
       "<style scoped>\n",
       "    .dataframe tbody tr th:only-of-type {\n",
       "        vertical-align: middle;\n",
       "    }\n",
       "\n",
       "    .dataframe tbody tr th {\n",
       "        vertical-align: top;\n",
       "    }\n",
       "\n",
       "    .dataframe thead th {\n",
       "        text-align: right;\n",
       "    }\n",
       "</style>\n",
       "<table border=\"1\" class=\"dataframe\">\n",
       "  <thead>\n",
       "    <tr style=\"text-align: right;\">\n",
       "      <th></th>\n",
       "      <th>Column1</th>\n",
       "      <th>Column2</th>\n",
       "      <th>Column3</th>\n",
       "      <th>Column4</th>\n",
       "      <th>Column5</th>\n",
       "      <th>Column6</th>\n",
       "      <th>Column7</th>\n",
       "      <th>Column8</th>\n",
       "      <th>Column9</th>\n",
       "      <th>Column10</th>\n",
       "      <th>Column11</th>\n",
       "    </tr>\n",
       "  </thead>\n",
       "  <tbody>\n",
       "    <tr>\n",
       "      <th>0</th>\n",
       "      <td>STORE_ID=2</td>\n",
       "      <td>Pasta=3</td>\n",
       "      <td>Soup=2</td>\n",
       "      <td>NaN</td>\n",
       "      <td>NaN</td>\n",
       "      <td>NaN</td>\n",
       "      <td>NaN</td>\n",
       "      <td>NaN</td>\n",
       "      <td>NaN</td>\n",
       "      <td>NaN</td>\n",
       "      <td>NaN</td>\n",
       "    </tr>\n",
       "    <tr>\n",
       "      <th>1</th>\n",
       "      <td>STORE_ID=2</td>\n",
       "      <td>Soup=1</td>\n",
       "      <td>Fresh Vegetables=3</td>\n",
       "      <td>Milk=3</td>\n",
       "      <td>Plastic Utensils=2</td>\n",
       "      <td>NaN</td>\n",
       "      <td>NaN</td>\n",
       "      <td>NaN</td>\n",
       "      <td>NaN</td>\n",
       "      <td>NaN</td>\n",
       "      <td>NaN</td>\n",
       "    </tr>\n",
       "    <tr>\n",
       "      <th>2</th>\n",
       "      <td>STORE_ID=2</td>\n",
       "      <td>Cheese=2</td>\n",
       "      <td>Deodorizers=1</td>\n",
       "      <td>Hard Candy=2</td>\n",
       "      <td>Jam=2</td>\n",
       "      <td>NaN</td>\n",
       "      <td>NaN</td>\n",
       "      <td>NaN</td>\n",
       "      <td>NaN</td>\n",
       "      <td>NaN</td>\n",
       "      <td>NaN</td>\n",
       "    </tr>\n",
       "    <tr>\n",
       "      <th>3</th>\n",
       "      <td>STORE_ID=2</td>\n",
       "      <td>Fresh Vegetables=2</td>\n",
       "      <td>NaN</td>\n",
       "      <td>NaN</td>\n",
       "      <td>NaN</td>\n",
       "      <td>NaN</td>\n",
       "      <td>NaN</td>\n",
       "      <td>NaN</td>\n",
       "      <td>NaN</td>\n",
       "      <td>NaN</td>\n",
       "      <td>NaN</td>\n",
       "    </tr>\n",
       "    <tr>\n",
       "      <th>4</th>\n",
       "      <td>STORE_ID=2</td>\n",
       "      <td>Cleaners=1</td>\n",
       "      <td>Cookies=2</td>\n",
       "      <td>Eggs=2</td>\n",
       "      <td>Preserves=1</td>\n",
       "      <td>NaN</td>\n",
       "      <td>NaN</td>\n",
       "      <td>NaN</td>\n",
       "      <td>NaN</td>\n",
       "      <td>NaN</td>\n",
       "      <td>NaN</td>\n",
       "    </tr>\n",
       "  </tbody>\n",
       "</table>\n",
       "</div>"
      ],
      "text/plain": [
       "      Column1             Column2             Column3       Column4  \\\n",
       "0  STORE_ID=2             Pasta=3              Soup=2           NaN   \n",
       "1  STORE_ID=2              Soup=1  Fresh Vegetables=3        Milk=3   \n",
       "2  STORE_ID=2            Cheese=2       Deodorizers=1  Hard Candy=2   \n",
       "3  STORE_ID=2  Fresh Vegetables=2                 NaN           NaN   \n",
       "4  STORE_ID=2          Cleaners=1           Cookies=2        Eggs=2   \n",
       "\n",
       "              Column5 Column6 Column7 Column8 Column9 Column10 Column11  \n",
       "0                 NaN     NaN     NaN     NaN     NaN      NaN      NaN  \n",
       "1  Plastic Utensils=2     NaN     NaN     NaN     NaN      NaN      NaN  \n",
       "2               Jam=2     NaN     NaN     NaN     NaN      NaN      NaN  \n",
       "3                 NaN     NaN     NaN     NaN     NaN      NaN      NaN  \n",
       "4         Preserves=1     NaN     NaN     NaN     NaN      NaN      NaN  "
      ]
     },
     "execution_count": 244,
     "metadata": {},
     "output_type": "execute_result"
    }
   ],
   "source": [
    "itemset.head()"
   ]
  },
  {
   "cell_type": "markdown",
   "metadata": {},
   "source": [
    "**Preprocessing**"
   ]
  },
  {
   "cell_type": "code",
   "execution_count": 245,
   "metadata": {},
   "outputs": [],
   "source": [
    "preprocessing = False\n",
    "preprocessed_data_path = 'data/data_preprocessed.npy'"
   ]
  },
  {
   "cell_type": "code",
   "execution_count": 246,
   "metadata": {},
   "outputs": [],
   "source": [
    "def clear_quantities(x):\n",
    "    if isinstance(x,str):\n",
    "        item = x.split('=')\n",
    "        return item[0]\n",
    "    else:\n",
    "        return x"
   ]
  },
  {
   "cell_type": "markdown",
   "metadata": {},
   "source": [
    "Remove store column from dataset and clear quantities."
   ]
  },
  {
   "cell_type": "code",
   "execution_count": 247,
   "metadata": {},
   "outputs": [],
   "source": [
    "if preprocessing == True:\n",
    "    #remove store column\n",
    "    itemset = itemset.loc[:,'Column2':'Column11']\n",
    "    #clear quantities\n",
    "    itemset = itemset.applymap(clear_quantities)"
   ]
  },
  {
   "cell_type": "markdown",
   "metadata": {},
   "source": [
    "Remove nan values "
   ]
  },
  {
   "cell_type": "code",
   "execution_count": 248,
   "metadata": {},
   "outputs": [],
   "source": [
    "if preprocessing == True:\n",
    "    \n",
    "    #remove nan values\n",
    "    transactions_cleaned = []\n",
    "    for i, t in enumerate(itemset.values):\n",
    "        transaction = []\n",
    "        for v in t:\n",
    "            if isinstance(v,str): transaction.append(v)\n",
    "        transactions_cleaned.append(transaction)\n",
    "        \n",
    "    #save preprocessed data \n",
    "    np.save(preprocessed_data_path,np.array(transactions_cleaned))\n",
    "    \n",
    "#load the data\n",
    "else: transactions_cleaned = np.load(preprocessed_data_path, allow_pickle = True)"
   ]
  },
  {
   "cell_type": "markdown",
   "metadata": {},
   "source": [
    "Apply transaction encoder"
   ]
  },
  {
   "cell_type": "code",
   "execution_count": 249,
   "metadata": {},
   "outputs": [
    {
     "data": {
      "text/html": [
       "<div>\n",
       "<style scoped>\n",
       "    .dataframe tbody tr th:only-of-type {\n",
       "        vertical-align: middle;\n",
       "    }\n",
       "\n",
       "    .dataframe tbody tr th {\n",
       "        vertical-align: top;\n",
       "    }\n",
       "\n",
       "    .dataframe thead th {\n",
       "        text-align: right;\n",
       "    }\n",
       "</style>\n",
       "<table border=\"1\" class=\"dataframe\">\n",
       "  <thead>\n",
       "    <tr style=\"text-align: right;\">\n",
       "      <th></th>\n",
       "      <th>Acetominifen</th>\n",
       "      <th>Anchovies</th>\n",
       "      <th>Aspirin</th>\n",
       "      <th>Auto Magazines</th>\n",
       "      <th>Bagels</th>\n",
       "      <th>Batteries</th>\n",
       "      <th>Beer</th>\n",
       "      <th>Bologna</th>\n",
       "      <th>Candles</th>\n",
       "      <th>Canned Fruit</th>\n",
       "      <th>...</th>\n",
       "      <th>Sunglasses</th>\n",
       "      <th>TV Dinner</th>\n",
       "      <th>Tofu</th>\n",
       "      <th>Toilet Brushes</th>\n",
       "      <th>Tools</th>\n",
       "      <th>Toothbrushes</th>\n",
       "      <th>Tuna</th>\n",
       "      <th>Waffles</th>\n",
       "      <th>Wine</th>\n",
       "      <th>Yogurt</th>\n",
       "    </tr>\n",
       "  </thead>\n",
       "  <tbody>\n",
       "    <tr>\n",
       "      <th>0</th>\n",
       "      <td>False</td>\n",
       "      <td>False</td>\n",
       "      <td>False</td>\n",
       "      <td>False</td>\n",
       "      <td>False</td>\n",
       "      <td>False</td>\n",
       "      <td>False</td>\n",
       "      <td>False</td>\n",
       "      <td>False</td>\n",
       "      <td>False</td>\n",
       "      <td>...</td>\n",
       "      <td>False</td>\n",
       "      <td>False</td>\n",
       "      <td>False</td>\n",
       "      <td>False</td>\n",
       "      <td>False</td>\n",
       "      <td>False</td>\n",
       "      <td>False</td>\n",
       "      <td>False</td>\n",
       "      <td>False</td>\n",
       "      <td>False</td>\n",
       "    </tr>\n",
       "    <tr>\n",
       "      <th>1</th>\n",
       "      <td>False</td>\n",
       "      <td>False</td>\n",
       "      <td>False</td>\n",
       "      <td>False</td>\n",
       "      <td>False</td>\n",
       "      <td>False</td>\n",
       "      <td>False</td>\n",
       "      <td>False</td>\n",
       "      <td>False</td>\n",
       "      <td>False</td>\n",
       "      <td>...</td>\n",
       "      <td>False</td>\n",
       "      <td>False</td>\n",
       "      <td>False</td>\n",
       "      <td>False</td>\n",
       "      <td>False</td>\n",
       "      <td>False</td>\n",
       "      <td>False</td>\n",
       "      <td>False</td>\n",
       "      <td>False</td>\n",
       "      <td>False</td>\n",
       "    </tr>\n",
       "    <tr>\n",
       "      <th>2</th>\n",
       "      <td>False</td>\n",
       "      <td>False</td>\n",
       "      <td>False</td>\n",
       "      <td>False</td>\n",
       "      <td>False</td>\n",
       "      <td>False</td>\n",
       "      <td>False</td>\n",
       "      <td>False</td>\n",
       "      <td>False</td>\n",
       "      <td>False</td>\n",
       "      <td>...</td>\n",
       "      <td>False</td>\n",
       "      <td>False</td>\n",
       "      <td>False</td>\n",
       "      <td>False</td>\n",
       "      <td>False</td>\n",
       "      <td>False</td>\n",
       "      <td>False</td>\n",
       "      <td>False</td>\n",
       "      <td>False</td>\n",
       "      <td>False</td>\n",
       "    </tr>\n",
       "    <tr>\n",
       "      <th>3</th>\n",
       "      <td>False</td>\n",
       "      <td>False</td>\n",
       "      <td>False</td>\n",
       "      <td>False</td>\n",
       "      <td>False</td>\n",
       "      <td>False</td>\n",
       "      <td>False</td>\n",
       "      <td>False</td>\n",
       "      <td>False</td>\n",
       "      <td>False</td>\n",
       "      <td>...</td>\n",
       "      <td>False</td>\n",
       "      <td>False</td>\n",
       "      <td>False</td>\n",
       "      <td>False</td>\n",
       "      <td>False</td>\n",
       "      <td>False</td>\n",
       "      <td>False</td>\n",
       "      <td>False</td>\n",
       "      <td>False</td>\n",
       "      <td>False</td>\n",
       "    </tr>\n",
       "    <tr>\n",
       "      <th>4</th>\n",
       "      <td>False</td>\n",
       "      <td>False</td>\n",
       "      <td>False</td>\n",
       "      <td>False</td>\n",
       "      <td>False</td>\n",
       "      <td>False</td>\n",
       "      <td>False</td>\n",
       "      <td>False</td>\n",
       "      <td>False</td>\n",
       "      <td>False</td>\n",
       "      <td>...</td>\n",
       "      <td>False</td>\n",
       "      <td>False</td>\n",
       "      <td>False</td>\n",
       "      <td>False</td>\n",
       "      <td>False</td>\n",
       "      <td>False</td>\n",
       "      <td>False</td>\n",
       "      <td>False</td>\n",
       "      <td>False</td>\n",
       "      <td>False</td>\n",
       "    </tr>\n",
       "  </tbody>\n",
       "</table>\n",
       "<p>5 rows × 102 columns</p>\n",
       "</div>"
      ],
      "text/plain": [
       "   Acetominifen  Anchovies  Aspirin  Auto Magazines  Bagels  Batteries   Beer  \\\n",
       "0         False      False    False           False   False      False  False   \n",
       "1         False      False    False           False   False      False  False   \n",
       "2         False      False    False           False   False      False  False   \n",
       "3         False      False    False           False   False      False  False   \n",
       "4         False      False    False           False   False      False  False   \n",
       "\n",
       "   Bologna  Candles  Canned Fruit  ...  Sunglasses  TV Dinner   Tofu  \\\n",
       "0    False    False         False  ...       False      False  False   \n",
       "1    False    False         False  ...       False      False  False   \n",
       "2    False    False         False  ...       False      False  False   \n",
       "3    False    False         False  ...       False      False  False   \n",
       "4    False    False         False  ...       False      False  False   \n",
       "\n",
       "   Toilet Brushes  Tools  Toothbrushes   Tuna  Waffles   Wine  Yogurt  \n",
       "0           False  False         False  False    False  False   False  \n",
       "1           False  False         False  False    False  False   False  \n",
       "2           False  False         False  False    False  False   False  \n",
       "3           False  False         False  False    False  False   False  \n",
       "4           False  False         False  False    False  False   False  \n",
       "\n",
       "[5 rows x 102 columns]"
      ]
     },
     "execution_count": 249,
     "metadata": {},
     "output_type": "execute_result"
    }
   ],
   "source": [
    "te = TransactionEncoder()\n",
    "te_ary = te.fit(transactions_cleaned).transform(transactions_cleaned)\n",
    "df_te = pd.DataFrame(te_ary, columns=te.columns_)\n",
    "df_te.head()"
   ]
  },
  {
   "cell_type": "markdown",
   "metadata": {},
   "source": [
    "**Most frequent products**"
   ]
  },
  {
   "cell_type": "markdown",
   "metadata": {},
   "source": [
    "Compute the most frequent products"
   ]
  },
  {
   "cell_type": "code",
   "execution_count": 250,
   "metadata": {},
   "outputs": [
    {
     "data": {
      "text/html": [
       "<div>\n",
       "<style scoped>\n",
       "    .dataframe tbody tr th:only-of-type {\n",
       "        vertical-align: middle;\n",
       "    }\n",
       "\n",
       "    .dataframe tbody tr th {\n",
       "        vertical-align: top;\n",
       "    }\n",
       "\n",
       "    .dataframe thead th {\n",
       "        text-align: right;\n",
       "    }\n",
       "</style>\n",
       "<table border=\"1\" class=\"dataframe\">\n",
       "  <thead>\n",
       "    <tr style=\"text-align: right;\">\n",
       "      <th></th>\n",
       "      <th>product</th>\n",
       "      <th>support</th>\n",
       "      <th>total</th>\n",
       "    </tr>\n",
       "  </thead>\n",
       "  <tbody>\n",
       "    <tr>\n",
       "      <th>0</th>\n",
       "      <td>Fresh Vegetables</td>\n",
       "      <td>0.284</td>\n",
       "      <td>19764</td>\n",
       "    </tr>\n",
       "    <tr>\n",
       "      <th>1</th>\n",
       "      <td>Fresh Fruit</td>\n",
       "      <td>0.175</td>\n",
       "      <td>12187</td>\n",
       "    </tr>\n",
       "    <tr>\n",
       "      <th>2</th>\n",
       "      <td>Soup</td>\n",
       "      <td>0.120</td>\n",
       "      <td>8350</td>\n",
       "    </tr>\n",
       "    <tr>\n",
       "      <th>3</th>\n",
       "      <td>Cheese</td>\n",
       "      <td>0.118</td>\n",
       "      <td>8193</td>\n",
       "    </tr>\n",
       "    <tr>\n",
       "      <th>4</th>\n",
       "      <td>Dried Fruit</td>\n",
       "      <td>0.117</td>\n",
       "      <td>8152</td>\n",
       "    </tr>\n",
       "  </tbody>\n",
       "</table>\n",
       "</div>"
      ],
      "text/plain": [
       "            product  support  total\n",
       "0  Fresh Vegetables    0.284  19764\n",
       "1       Fresh Fruit    0.175  12187\n",
       "2              Soup    0.120   8350\n",
       "3            Cheese    0.118   8193\n",
       "4       Dried Fruit    0.117   8152"
      ]
     },
     "execution_count": 250,
     "metadata": {},
     "output_type": "execute_result"
    }
   ],
   "source": [
    "df_products_frequency = pd.DataFrame()\n",
    "for c in df_te.columns:\n",
    "    df_c = df_te[c].value_counts().to_frame('count')\n",
    "    total = int(df_c[df_c.index == True]['count']) # Count True values\n",
    "    df_products_frequency = df_products_frequency.append({'product':c,'total': total,'support':(total/len(itemset))},ignore_index = True)\n",
    "df_products_frequency = df_products_frequency.sort_values('total',ascending = False).reset_index(drop=True)\n",
    "\n",
    "# Making it more presentable\n",
    "df_products_frequency['support'] = df_products_frequency['support'].astype('float64').round(3)\n",
    "df_products_frequency['total'] = df_products_frequency['total'].astype('int64')\n",
    "\n",
    "df_products_frequency.head()"
   ]
  },
  {
   "cell_type": "markdown",
   "metadata": {},
   "source": [
    "Compute some statistic metrics about the total column"
   ]
  },
  {
   "cell_type": "code",
   "execution_count": 251,
   "metadata": {},
   "outputs": [
    {
     "data": {
      "text/plain": [
       "count      102.000000\n",
       "mean      2834.500000\n",
       "std       2589.666372\n",
       "min        895.000000\n",
       "25%        971.000000\n",
       "50%       1991.000000\n",
       "75%       3747.500000\n",
       "max      19764.000000\n",
       "Name: total, dtype: float64"
      ]
     },
     "execution_count": 251,
     "metadata": {},
     "output_type": "execute_result"
    }
   ],
   "source": [
    "df_products_frequency.total.describe()"
   ]
  },
  {
   "cell_type": "markdown",
   "metadata": {},
   "source": [
    "We can see that on average each product appears in 2834 transactions. The less bought product appears in 895 transactions, and the most bought product appears in 19764 transactions."
   ]
  },
  {
   "cell_type": "markdown",
   "metadata": {},
   "source": [
    "Now lets plot the 20 most frequent bought products"
   ]
  },
  {
   "cell_type": "code",
   "execution_count": 252,
   "metadata": {},
   "outputs": [
    {
     "data": {
      "text/plain": [
       "([0, 1, 2, 3, 4, 5, 6, 7, 8, 9, 10, 11, 12, 13, 14, 15, 16, 17, 18, 19],\n",
       " <a list of 20 Text xticklabel objects>)"
      ]
     },
     "execution_count": 252,
     "metadata": {},
     "output_type": "execute_result"
    },
    {
     "data": {
      "image/png": "[encoded data removed]",
      "text/plain": [
       "<Figure size 1080x360 with 1 Axes>"
      ]
     },
     "metadata": {
      "needs_background": "light"
     },
     "output_type": "display_data"
    }
   ],
   "source": [
    "plt.figure(figsize=(15,5))\n",
    "df_graph = df_products_frequency.iloc[:20]\n",
    "plt.bar(df_graph['product'],df_graph['total'])\n",
    "plt.xticks(rotation=90)"
   ]
  },
  {
   "cell_type": "markdown",
   "metadata": {},
   "source": [
    "The product that appears in most transactions is 'Fresh Vegatables', which has a support of +- 0.28 (meaning that appears in 28% of the transactions)."
   ]
  },
  {
   "cell_type": "markdown",
   "metadata": {},
   "source": [
    "### 1.2. Compute Frequent Itemsets"
   ]
  },
  {
   "cell_type": "markdown",
   "metadata": {},
   "source": [
    "* Compute frequent itemsets considering a minimum support of X%. \n",
    "* Present frequent itemsets organized by length (number of items). \n",
    "* List frequent 1-itemsets, 2-itemsets, 3-itemsets, etc with support of at least Y%.\n",
    "* Change X and Y when it makes sense and discuss the results."
   ]
  },
  {
   "cell_type": "code",
   "execution_count": 253,
   "metadata": {},
   "outputs": [],
   "source": [
    "X = 0.005\n",
    "Y = 0.007"
   ]
  },
  {
   "cell_type": "markdown",
   "metadata": {},
   "source": [
    "### 1.2.1 Using apriori algorithm"
   ]
  },
  {
   "cell_type": "code",
   "execution_count": 198,
   "metadata": {},
   "outputs": [
    {
     "name": "stdout",
     "output_type": "stream",
     "text": [
      "8.35 s ± 252 ms per loop (mean ± std. dev. of 7 runs, 1 loop each)\n"
     ]
    }
   ],
   "source": [
    "%timeit apriori(df_te, min_support=X, use_colnames=True)"
   ]
  },
  {
   "cell_type": "code",
   "execution_count": 199,
   "metadata": {},
   "outputs": [],
   "source": [
    "frequent_itemsets  = apriori(df_te, min_support=X, use_colnames=True)\n",
    "frequent_itemsets = frequent_itemsets.sort_values('support',ascending = False)\n",
    "frequent_itemsets['length'] = frequent_itemsets['itemsets'].apply(lambda x: len(x))\n",
    "frequent_itemsets['num_transactions'] = [round(s*len(itemset)) for s in frequent_itemsets['support']]"
   ]
  },
  {
   "cell_type": "code",
   "execution_count": 200,
   "metadata": {},
   "outputs": [
    {
     "data": {
      "text/html": [
       "<div>\n",
       "<style scoped>\n",
       "    .dataframe tbody tr th:only-of-type {\n",
       "        vertical-align: middle;\n",
       "    }\n",
       "\n",
       "    .dataframe tbody tr th {\n",
       "        vertical-align: top;\n",
       "    }\n",
       "\n",
       "    .dataframe thead th {\n",
       "        text-align: right;\n",
       "    }\n",
       "</style>\n",
       "<table border=\"1\" class=\"dataframe\">\n",
       "  <thead>\n",
       "    <tr style=\"text-align: right;\">\n",
       "      <th></th>\n",
       "      <th>support</th>\n",
       "      <th>itemsets</th>\n",
       "      <th>length</th>\n",
       "      <th>num_transactions</th>\n",
       "    </tr>\n",
       "  </thead>\n",
       "  <tbody>\n",
       "    <tr>\n",
       "      <th>40</th>\n",
       "      <td>0.284174</td>\n",
       "      <td>(Fresh Vegetables)</td>\n",
       "      <td>1</td>\n",
       "      <td>19764</td>\n",
       "    </tr>\n",
       "    <tr>\n",
       "      <th>39</th>\n",
       "      <td>0.175229</td>\n",
       "      <td>(Fresh Fruit)</td>\n",
       "      <td>1</td>\n",
       "      <td>12187</td>\n",
       "    </tr>\n",
       "    <tr>\n",
       "      <th>86</th>\n",
       "      <td>0.120059</td>\n",
       "      <td>(Soup)</td>\n",
       "      <td>1</td>\n",
       "      <td>8350</td>\n",
       "    </tr>\n",
       "    <tr>\n",
       "      <th>12</th>\n",
       "      <td>0.117802</td>\n",
       "      <td>(Cheese)</td>\n",
       "      <td>1</td>\n",
       "      <td>8193</td>\n",
       "    </tr>\n",
       "    <tr>\n",
       "      <th>31</th>\n",
       "      <td>0.117212</td>\n",
       "      <td>(Dried Fruit)</td>\n",
       "      <td>1</td>\n",
       "      <td>8152</td>\n",
       "    </tr>\n",
       "    <tr>\n",
       "      <th>...</th>\n",
       "      <td>...</td>\n",
       "      <td>...</td>\n",
       "      <td>...</td>\n",
       "      <td>...</td>\n",
       "    </tr>\n",
       "    <tr>\n",
       "      <th>3</th>\n",
       "      <td>0.013343</td>\n",
       "      <td>(Auto Magazines)</td>\n",
       "      <td>1</td>\n",
       "      <td>928</td>\n",
       "    </tr>\n",
       "    <tr>\n",
       "      <th>79</th>\n",
       "      <td>0.013271</td>\n",
       "      <td>(Sauces)</td>\n",
       "      <td>1</td>\n",
       "      <td>923</td>\n",
       "    </tr>\n",
       "    <tr>\n",
       "      <th>34</th>\n",
       "      <td>0.013156</td>\n",
       "      <td>(Fashion Magazines)</td>\n",
       "      <td>1</td>\n",
       "      <td>915</td>\n",
       "    </tr>\n",
       "    <tr>\n",
       "      <th>62</th>\n",
       "      <td>0.012998</td>\n",
       "      <td>(Pancakes)</td>\n",
       "      <td>1</td>\n",
       "      <td>904</td>\n",
       "    </tr>\n",
       "    <tr>\n",
       "      <th>38</th>\n",
       "      <td>0.012869</td>\n",
       "      <td>(Fresh Fish)</td>\n",
       "      <td>1</td>\n",
       "      <td>895</td>\n",
       "    </tr>\n",
       "  </tbody>\n",
       "</table>\n",
       "<p>102 rows × 4 columns</p>\n",
       "</div>"
      ],
      "text/plain": [
       "     support             itemsets  length  num_transactions\n",
       "40  0.284174   (Fresh Vegetables)       1             19764\n",
       "39  0.175229        (Fresh Fruit)       1             12187\n",
       "86  0.120059               (Soup)       1              8350\n",
       "12  0.117802             (Cheese)       1              8193\n",
       "31  0.117212        (Dried Fruit)       1              8152\n",
       "..       ...                  ...     ...               ...\n",
       "3   0.013343     (Auto Magazines)       1               928\n",
       "79  0.013271             (Sauces)       1               923\n",
       "34  0.013156  (Fashion Magazines)       1               915\n",
       "62  0.012998           (Pancakes)       1               904\n",
       "38  0.012869         (Fresh Fish)       1               895\n",
       "\n",
       "[102 rows x 4 columns]"
      ]
     },
     "execution_count": 200,
     "metadata": {},
     "output_type": "execute_result"
    }
   ],
   "source": [
    "frequent_itemsets.query(f'length == 1 & support > {Y}')"
   ]
  },
  {
   "cell_type": "code",
   "execution_count": 201,
   "metadata": {},
   "outputs": [
    {
     "data": {
      "text/html": [
       "<div>\n",
       "<style scoped>\n",
       "    .dataframe tbody tr th:only-of-type {\n",
       "        vertical-align: middle;\n",
       "    }\n",
       "\n",
       "    .dataframe tbody tr th {\n",
       "        vertical-align: top;\n",
       "    }\n",
       "\n",
       "    .dataframe thead th {\n",
       "        text-align: right;\n",
       "    }\n",
       "</style>\n",
       "<table border=\"1\" class=\"dataframe\">\n",
       "  <thead>\n",
       "    <tr style=\"text-align: right;\">\n",
       "      <th></th>\n",
       "      <th>support</th>\n",
       "      <th>itemsets</th>\n",
       "      <th>length</th>\n",
       "      <th>num_transactions</th>\n",
       "    </tr>\n",
       "  </thead>\n",
       "  <tbody>\n",
       "    <tr>\n",
       "      <th>268</th>\n",
       "      <td>0.050914</td>\n",
       "      <td>(Fresh Fruit, Fresh Vegetables)</td>\n",
       "      <td>2</td>\n",
       "      <td>3541</td>\n",
       "    </tr>\n",
       "    <tr>\n",
       "      <th>332</th>\n",
       "      <td>0.035443</td>\n",
       "      <td>(Soup, Fresh Vegetables)</td>\n",
       "      <td>2</td>\n",
       "      <td>2465</td>\n",
       "    </tr>\n",
       "    <tr>\n",
       "      <th>235</th>\n",
       "      <td>0.035227</td>\n",
       "      <td>(Dried Fruit, Fresh Vegetables)</td>\n",
       "      <td>2</td>\n",
       "      <td>2450</td>\n",
       "    </tr>\n",
       "    <tr>\n",
       "      <th>146</th>\n",
       "      <td>0.031144</td>\n",
       "      <td>(Cheese, Fresh Vegetables)</td>\n",
       "      <td>2</td>\n",
       "      <td>2166</td>\n",
       "    </tr>\n",
       "    <tr>\n",
       "      <th>195</th>\n",
       "      <td>0.027721</td>\n",
       "      <td>(Cookies, Fresh Vegetables)</td>\n",
       "      <td>2</td>\n",
       "      <td>1928</td>\n",
       "    </tr>\n",
       "    <tr>\n",
       "      <th>...</th>\n",
       "      <td>...</td>\n",
       "      <td>...</td>\n",
       "      <td>...</td>\n",
       "      <td>...</td>\n",
       "    </tr>\n",
       "    <tr>\n",
       "      <th>112</th>\n",
       "      <td>0.007031</td>\n",
       "      <td>(Bologna, Fresh Fruit)</td>\n",
       "      <td>2</td>\n",
       "      <td>489</td>\n",
       "    </tr>\n",
       "    <tr>\n",
       "      <th>200</th>\n",
       "      <td>0.007031</td>\n",
       "      <td>(Cookies, Milk)</td>\n",
       "      <td>2</td>\n",
       "      <td>489</td>\n",
       "    </tr>\n",
       "    <tr>\n",
       "      <th>167</th>\n",
       "      <td>0.007017</td>\n",
       "      <td>(Wine, Cheese)</td>\n",
       "      <td>2</td>\n",
       "      <td>488</td>\n",
       "    </tr>\n",
       "    <tr>\n",
       "      <th>297</th>\n",
       "      <td>0.007002</td>\n",
       "      <td>(Fresh Fruit, Spices)</td>\n",
       "      <td>2</td>\n",
       "      <td>487</td>\n",
       "    </tr>\n",
       "    <tr>\n",
       "      <th>252</th>\n",
       "      <td>0.007002</td>\n",
       "      <td>(Soda, Dried Fruit)</td>\n",
       "      <td>2</td>\n",
       "      <td>487</td>\n",
       "    </tr>\n",
       "  </tbody>\n",
       "</table>\n",
       "<p>159 rows × 4 columns</p>\n",
       "</div>"
      ],
      "text/plain": [
       "      support                         itemsets  length  num_transactions\n",
       "268  0.050914  (Fresh Fruit, Fresh Vegetables)       2              3541\n",
       "332  0.035443         (Soup, Fresh Vegetables)       2              2465\n",
       "235  0.035227  (Dried Fruit, Fresh Vegetables)       2              2450\n",
       "146  0.031144       (Cheese, Fresh Vegetables)       2              2166\n",
       "195  0.027721      (Cookies, Fresh Vegetables)       2              1928\n",
       "..        ...                              ...     ...               ...\n",
       "112  0.007031           (Bologna, Fresh Fruit)       2               489\n",
       "200  0.007031                  (Cookies, Milk)       2               489\n",
       "167  0.007017                   (Wine, Cheese)       2               488\n",
       "297  0.007002            (Fresh Fruit, Spices)       2               487\n",
       "252  0.007002              (Soda, Dried Fruit)       2               487\n",
       "\n",
       "[159 rows x 4 columns]"
      ]
     },
     "execution_count": 201,
     "metadata": {},
     "output_type": "execute_result"
    }
   ],
   "source": [
    "frequent_itemsets.query(f'length == 2 & support > {Y}')"
   ]
  },
  {
   "cell_type": "code",
   "execution_count": 202,
   "metadata": {},
   "outputs": [
    {
     "data": {
      "text/html": [
       "<div>\n",
       "<style scoped>\n",
       "    .dataframe tbody tr th:only-of-type {\n",
       "        vertical-align: middle;\n",
       "    }\n",
       "\n",
       "    .dataframe tbody tr th {\n",
       "        vertical-align: top;\n",
       "    }\n",
       "\n",
       "    .dataframe thead th {\n",
       "        text-align: right;\n",
       "    }\n",
       "</style>\n",
       "<table border=\"1\" class=\"dataframe\">\n",
       "  <thead>\n",
       "    <tr style=\"text-align: right;\">\n",
       "      <th></th>\n",
       "      <th>support</th>\n",
       "      <th>itemsets</th>\n",
       "      <th>length</th>\n",
       "      <th>num_transactions</th>\n",
       "    </tr>\n",
       "  </thead>\n",
       "  <tbody>\n",
       "    <tr>\n",
       "      <th>372</th>\n",
       "      <td>0.007045</td>\n",
       "      <td>(Soup, Fresh Fruit, Fresh Vegetables)</td>\n",
       "      <td>3</td>\n",
       "      <td>490</td>\n",
       "    </tr>\n",
       "  </tbody>\n",
       "</table>\n",
       "</div>"
      ],
      "text/plain": [
       "      support                               itemsets  length  num_transactions\n",
       "372  0.007045  (Soup, Fresh Fruit, Fresh Vegetables)       3               490"
      ]
     },
     "execution_count": 202,
     "metadata": {},
     "output_type": "execute_result"
    }
   ],
   "source": [
    "frequent_itemsets.query(f'length == 3 & support > {Y}')"
   ]
  },
  {
   "cell_type": "code",
   "execution_count": 203,
   "metadata": {},
   "outputs": [
    {
     "data": {
      "text/html": [
       "<div>\n",
       "<style scoped>\n",
       "    .dataframe tbody tr th:only-of-type {\n",
       "        vertical-align: middle;\n",
       "    }\n",
       "\n",
       "    .dataframe tbody tr th {\n",
       "        vertical-align: top;\n",
       "    }\n",
       "\n",
       "    .dataframe thead th {\n",
       "        text-align: right;\n",
       "    }\n",
       "</style>\n",
       "<table border=\"1\" class=\"dataframe\">\n",
       "  <thead>\n",
       "    <tr style=\"text-align: right;\">\n",
       "      <th></th>\n",
       "      <th>support</th>\n",
       "      <th>itemsets</th>\n",
       "      <th>length</th>\n",
       "      <th>num_transactions</th>\n",
       "    </tr>\n",
       "  </thead>\n",
       "  <tbody>\n",
       "  </tbody>\n",
       "</table>\n",
       "</div>"
      ],
      "text/plain": [
       "Empty DataFrame\n",
       "Columns: [support, itemsets, length, num_transactions]\n",
       "Index: []"
      ]
     },
     "execution_count": 203,
     "metadata": {},
     "output_type": "execute_result"
    }
   ],
   "source": [
    "frequent_itemsets.query(f'length == 4 & support > {Y}')"
   ]
  },
  {
   "cell_type": "markdown",
   "metadata": {},
   "source": [
    "### 1.2.2 Using FP-Growth"
   ]
  },
  {
   "cell_type": "code",
   "execution_count": 254,
   "metadata": {},
   "outputs": [
    {
     "name": "stdout",
     "output_type": "stream",
     "text": [
      "959 ms ± 71.3 ms per loop (mean ± std. dev. of 7 runs, 1 loop each)\n"
     ]
    }
   ],
   "source": [
    "%timeit fpgrowth(df_te, min_support=X, use_colnames=True)"
   ]
  },
  {
   "cell_type": "code",
   "execution_count": 255,
   "metadata": {},
   "outputs": [],
   "source": [
    "frequent_itemsets_fpg  = fpgrowth(df_te, min_support=X, use_colnames=True)\n",
    "frequent_itemsets_fpg = frequent_itemsets_fpg.sort_values('support',ascending = False)\n",
    "frequent_itemsets_fpg['length'] = frequent_itemsets_fpg['itemsets'].apply(lambda x: len(x))\n",
    "frequent_itemsets_fpg['num_transactions'] = [round(s*len(itemset)) for s in frequent_itemsets_fpg['support']]"
   ]
  },
  {
   "cell_type": "code",
   "execution_count": 256,
   "metadata": {},
   "outputs": [
    {
     "data": {
      "text/html": [
       "<div>\n",
       "<style scoped>\n",
       "    .dataframe tbody tr th:only-of-type {\n",
       "        vertical-align: middle;\n",
       "    }\n",
       "\n",
       "    .dataframe tbody tr th {\n",
       "        vertical-align: top;\n",
       "    }\n",
       "\n",
       "    .dataframe thead th {\n",
       "        text-align: right;\n",
       "    }\n",
       "</style>\n",
       "<table border=\"1\" class=\"dataframe\">\n",
       "  <thead>\n",
       "    <tr style=\"text-align: right;\">\n",
       "      <th></th>\n",
       "      <th>support</th>\n",
       "      <th>itemsets</th>\n",
       "      <th>length</th>\n",
       "      <th>num_transactions</th>\n",
       "    </tr>\n",
       "  </thead>\n",
       "  <tbody>\n",
       "    <tr>\n",
       "      <th>2</th>\n",
       "      <td>0.284174</td>\n",
       "      <td>(Fresh Vegetables)</td>\n",
       "      <td>1</td>\n",
       "      <td>19764</td>\n",
       "    </tr>\n",
       "    <tr>\n",
       "      <th>29</th>\n",
       "      <td>0.175229</td>\n",
       "      <td>(Fresh Fruit)</td>\n",
       "      <td>1</td>\n",
       "      <td>12187</td>\n",
       "    </tr>\n",
       "    <tr>\n",
       "      <th>0</th>\n",
       "      <td>0.120059</td>\n",
       "      <td>(Soup)</td>\n",
       "      <td>1</td>\n",
       "      <td>8350</td>\n",
       "    </tr>\n",
       "    <tr>\n",
       "      <th>5</th>\n",
       "      <td>0.117802</td>\n",
       "      <td>(Cheese)</td>\n",
       "      <td>1</td>\n",
       "      <td>8193</td>\n",
       "    </tr>\n",
       "    <tr>\n",
       "      <th>32</th>\n",
       "      <td>0.117212</td>\n",
       "      <td>(Dried Fruit)</td>\n",
       "      <td>1</td>\n",
       "      <td>8152</td>\n",
       "    </tr>\n",
       "    <tr>\n",
       "      <th>...</th>\n",
       "      <td>...</td>\n",
       "      <td>...</td>\n",
       "      <td>...</td>\n",
       "      <td>...</td>\n",
       "    </tr>\n",
       "    <tr>\n",
       "      <th>100</th>\n",
       "      <td>0.013343</td>\n",
       "      <td>(Sardines)</td>\n",
       "      <td>1</td>\n",
       "      <td>928</td>\n",
       "    </tr>\n",
       "    <tr>\n",
       "      <th>34</th>\n",
       "      <td>0.013271</td>\n",
       "      <td>(Sauces)</td>\n",
       "      <td>1</td>\n",
       "      <td>923</td>\n",
       "    </tr>\n",
       "    <tr>\n",
       "      <th>83</th>\n",
       "      <td>0.013156</td>\n",
       "      <td>(Fashion Magazines)</td>\n",
       "      <td>1</td>\n",
       "      <td>915</td>\n",
       "    </tr>\n",
       "    <tr>\n",
       "      <th>95</th>\n",
       "      <td>0.012998</td>\n",
       "      <td>(Pancakes)</td>\n",
       "      <td>1</td>\n",
       "      <td>904</td>\n",
       "    </tr>\n",
       "    <tr>\n",
       "      <th>99</th>\n",
       "      <td>0.012869</td>\n",
       "      <td>(Fresh Fish)</td>\n",
       "      <td>1</td>\n",
       "      <td>895</td>\n",
       "    </tr>\n",
       "  </tbody>\n",
       "</table>\n",
       "<p>102 rows × 4 columns</p>\n",
       "</div>"
      ],
      "text/plain": [
       "      support             itemsets  length  num_transactions\n",
       "2    0.284174   (Fresh Vegetables)       1             19764\n",
       "29   0.175229        (Fresh Fruit)       1             12187\n",
       "0    0.120059               (Soup)       1              8350\n",
       "5    0.117802             (Cheese)       1              8193\n",
       "32   0.117212        (Dried Fruit)       1              8152\n",
       "..        ...                  ...     ...               ...\n",
       "100  0.013343           (Sardines)       1               928\n",
       "34   0.013271             (Sauces)       1               923\n",
       "83   0.013156  (Fashion Magazines)       1               915\n",
       "95   0.012998           (Pancakes)       1               904\n",
       "99   0.012869         (Fresh Fish)       1               895\n",
       "\n",
       "[102 rows x 4 columns]"
      ]
     },
     "execution_count": 256,
     "metadata": {},
     "output_type": "execute_result"
    }
   ],
   "source": [
    "frequent_itemsets_fpg.query(f'length == 1 & support > {Y}')"
   ]
  },
  {
   "cell_type": "code",
   "execution_count": 257,
   "metadata": {},
   "outputs": [
    {
     "data": {
      "text/html": [
       "<div>\n",
       "<style scoped>\n",
       "    .dataframe tbody tr th:only-of-type {\n",
       "        vertical-align: middle;\n",
       "    }\n",
       "\n",
       "    .dataframe tbody tr th {\n",
       "        vertical-align: top;\n",
       "    }\n",
       "\n",
       "    .dataframe thead th {\n",
       "        text-align: right;\n",
       "    }\n",
       "</style>\n",
       "<table border=\"1\" class=\"dataframe\">\n",
       "  <thead>\n",
       "    <tr style=\"text-align: right;\">\n",
       "      <th></th>\n",
       "      <th>support</th>\n",
       "      <th>itemsets</th>\n",
       "      <th>length</th>\n",
       "      <th>num_transactions</th>\n",
       "    </tr>\n",
       "  </thead>\n",
       "  <tbody>\n",
       "    <tr>\n",
       "      <th>211</th>\n",
       "      <td>0.050914</td>\n",
       "      <td>(Fresh Fruit, Fresh Vegetables)</td>\n",
       "      <td>2</td>\n",
       "      <td>3541</td>\n",
       "    </tr>\n",
       "    <tr>\n",
       "      <th>102</th>\n",
       "      <td>0.035443</td>\n",
       "      <td>(Soup, Fresh Vegetables)</td>\n",
       "      <td>2</td>\n",
       "      <td>2465</td>\n",
       "    </tr>\n",
       "    <tr>\n",
       "      <th>223</th>\n",
       "      <td>0.035227</td>\n",
       "      <td>(Dried Fruit, Fresh Vegetables)</td>\n",
       "      <td>2</td>\n",
       "      <td>2450</td>\n",
       "    </tr>\n",
       "    <tr>\n",
       "      <th>122</th>\n",
       "      <td>0.031144</td>\n",
       "      <td>(Cheese, Fresh Vegetables)</td>\n",
       "      <td>2</td>\n",
       "      <td>2166</td>\n",
       "    </tr>\n",
       "    <tr>\n",
       "      <th>129</th>\n",
       "      <td>0.027721</td>\n",
       "      <td>(Cookies, Fresh Vegetables)</td>\n",
       "      <td>2</td>\n",
       "      <td>1928</td>\n",
       "    </tr>\n",
       "    <tr>\n",
       "      <th>...</th>\n",
       "      <td>...</td>\n",
       "      <td>...</td>\n",
       "      <td>...</td>\n",
       "      <td>...</td>\n",
       "    </tr>\n",
       "    <tr>\n",
       "      <th>207</th>\n",
       "      <td>0.007031</td>\n",
       "      <td>(Bologna, Fresh Fruit)</td>\n",
       "      <td>2</td>\n",
       "      <td>489</td>\n",
       "    </tr>\n",
       "    <tr>\n",
       "      <th>113</th>\n",
       "      <td>0.007031</td>\n",
       "      <td>(Cookies, Milk)</td>\n",
       "      <td>2</td>\n",
       "      <td>489</td>\n",
       "    </tr>\n",
       "    <tr>\n",
       "      <th>358</th>\n",
       "      <td>0.007017</td>\n",
       "      <td>(Wine, Cheese)</td>\n",
       "      <td>2</td>\n",
       "      <td>488</td>\n",
       "    </tr>\n",
       "    <tr>\n",
       "      <th>261</th>\n",
       "      <td>0.007002</td>\n",
       "      <td>(Soda, Dried Fruit)</td>\n",
       "      <td>2</td>\n",
       "      <td>487</td>\n",
       "    </tr>\n",
       "    <tr>\n",
       "      <th>182</th>\n",
       "      <td>0.007002</td>\n",
       "      <td>(Fresh Fruit, Spices)</td>\n",
       "      <td>2</td>\n",
       "      <td>487</td>\n",
       "    </tr>\n",
       "  </tbody>\n",
       "</table>\n",
       "<p>159 rows × 4 columns</p>\n",
       "</div>"
      ],
      "text/plain": [
       "      support                         itemsets  length  num_transactions\n",
       "211  0.050914  (Fresh Fruit, Fresh Vegetables)       2              3541\n",
       "102  0.035443         (Soup, Fresh Vegetables)       2              2465\n",
       "223  0.035227  (Dried Fruit, Fresh Vegetables)       2              2450\n",
       "122  0.031144       (Cheese, Fresh Vegetables)       2              2166\n",
       "129  0.027721      (Cookies, Fresh Vegetables)       2              1928\n",
       "..        ...                              ...     ...               ...\n",
       "207  0.007031           (Bologna, Fresh Fruit)       2               489\n",
       "113  0.007031                  (Cookies, Milk)       2               489\n",
       "358  0.007017                   (Wine, Cheese)       2               488\n",
       "261  0.007002              (Soda, Dried Fruit)       2               487\n",
       "182  0.007002            (Fresh Fruit, Spices)       2               487\n",
       "\n",
       "[159 rows x 4 columns]"
      ]
     },
     "execution_count": 257,
     "metadata": {},
     "output_type": "execute_result"
    }
   ],
   "source": [
    "frequent_itemsets_fpg.query(f'length == 2 & support > {Y}')"
   ]
  },
  {
   "cell_type": "code",
   "execution_count": 258,
   "metadata": {},
   "outputs": [
    {
     "data": {
      "text/html": [
       "<div>\n",
       "<style scoped>\n",
       "    .dataframe tbody tr th:only-of-type {\n",
       "        vertical-align: middle;\n",
       "    }\n",
       "\n",
       "    .dataframe tbody tr th {\n",
       "        vertical-align: top;\n",
       "    }\n",
       "\n",
       "    .dataframe thead th {\n",
       "        text-align: right;\n",
       "    }\n",
       "</style>\n",
       "<table border=\"1\" class=\"dataframe\">\n",
       "  <thead>\n",
       "    <tr style=\"text-align: right;\">\n",
       "      <th></th>\n",
       "      <th>support</th>\n",
       "      <th>itemsets</th>\n",
       "      <th>length</th>\n",
       "      <th>num_transactions</th>\n",
       "    </tr>\n",
       "  </thead>\n",
       "  <tbody>\n",
       "    <tr>\n",
       "      <th>104</th>\n",
       "      <td>0.007045</td>\n",
       "      <td>(Soup, Fresh Fruit, Fresh Vegetables)</td>\n",
       "      <td>3</td>\n",
       "      <td>490</td>\n",
       "    </tr>\n",
       "  </tbody>\n",
       "</table>\n",
       "</div>"
      ],
      "text/plain": [
       "      support                               itemsets  length  num_transactions\n",
       "104  0.007045  (Soup, Fresh Fruit, Fresh Vegetables)       3               490"
      ]
     },
     "execution_count": 258,
     "metadata": {},
     "output_type": "execute_result"
    }
   ],
   "source": [
    "frequent_itemsets_fpg.query(f'length == 3 & support > {Y}')"
   ]
  },
  {
   "cell_type": "markdown",
   "metadata": {},
   "source": [
    "### Comments\n",
    "\n",
    "Considering that FP Growth is using a highly compact FP-tree, divide-and-conquer method, it will be faster than Apriori for this larger database.\n",
    "We can observe this by the 10x increase in speed. Both results are the same.\n",
    "\n",
    "About the results, they normally translate the frequency of a certain set of items being bought, and the higher the length of the set, the lower generally is the support. We can see this by having only one example for a length of 3 and more than 100 examples for length of 1 and 2."
   ]
  },
  {
   "cell_type": "markdown",
   "metadata": {},
   "source": [
    "### 1.3. Generate Association Rules from Frequent Itemsets"
   ]
  },
  {
   "cell_type": "markdown",
   "metadata": {},
   "source": [
    "* Generate association rules with a minimum confidence of C%. \n",
    "* Generate association rules with a minimum lift L. \n",
    "* Generate association rules with both confidence >= % and lift >= 1.1.\n",
    "* Change C and L when it makes sense and discuss the results."
   ]
  },
  {
   "cell_type": "code",
   "execution_count": 259,
   "metadata": {},
   "outputs": [],
   "source": [
    "C = 0.3 # Confidence\n",
    "L = 1.1 # Lift"
   ]
  },
  {
   "cell_type": "code",
   "execution_count": 260,
   "metadata": {},
   "outputs": [],
   "source": [
    "rules = association_rules(frequent_itemsets, metric=\"confidence\", min_threshold=0)\n",
    "rules['antecedent_len'] = rules['antecedents'].apply(lambda x: len(x))"
   ]
  },
  {
   "cell_type": "code",
   "execution_count": 261,
   "metadata": {},
   "outputs": [],
   "source": [
    "def generate_fi(rules, length, C, L):\n",
    "    return rules[ (rules['antecedent_len'] >= length) &\n",
    "         (rules['confidence'] >= C) &\n",
    "         (rules['lift'] > L)]"
   ]
  },
  {
   "cell_type": "code",
   "execution_count": 262,
   "metadata": {},
   "outputs": [
    {
     "data": {
      "text/html": [
       "<div>\n",
       "<style scoped>\n",
       "    .dataframe tbody tr th:only-of-type {\n",
       "        vertical-align: middle;\n",
       "    }\n",
       "\n",
       "    .dataframe tbody tr th {\n",
       "        vertical-align: top;\n",
       "    }\n",
       "\n",
       "    .dataframe thead th {\n",
       "        text-align: right;\n",
       "    }\n",
       "</style>\n",
       "<table border=\"1\" class=\"dataframe\">\n",
       "  <thead>\n",
       "    <tr style=\"text-align: right;\">\n",
       "      <th></th>\n",
       "      <th>antecedents</th>\n",
       "      <th>consequents</th>\n",
       "      <th>antecedent support</th>\n",
       "      <th>consequent support</th>\n",
       "      <th>support</th>\n",
       "      <th>confidence</th>\n",
       "      <th>lift</th>\n",
       "      <th>leverage</th>\n",
       "      <th>conviction</th>\n",
       "      <th>antecedent_len</th>\n",
       "    </tr>\n",
       "  </thead>\n",
       "  <tbody>\n",
       "    <tr>\n",
       "      <th>170</th>\n",
       "      <td>(Hamburger)</td>\n",
       "      <td>(Fresh Vegetables)</td>\n",
       "      <td>0.028297</td>\n",
       "      <td>0.284174</td>\n",
       "      <td>0.008943</td>\n",
       "      <td>0.316057</td>\n",
       "      <td>1.112196</td>\n",
       "      <td>0.000902</td>\n",
       "      <td>1.046617</td>\n",
       "      <td>1</td>\n",
       "    </tr>\n",
       "    <tr>\n",
       "      <th>182</th>\n",
       "      <td>(Aspirin)</td>\n",
       "      <td>(Fresh Vegetables)</td>\n",
       "      <td>0.026657</td>\n",
       "      <td>0.284174</td>\n",
       "      <td>0.008598</td>\n",
       "      <td>0.322546</td>\n",
       "      <td>1.135030</td>\n",
       "      <td>0.001023</td>\n",
       "      <td>1.056642</td>\n",
       "      <td>1</td>\n",
       "    </tr>\n",
       "    <tr>\n",
       "      <th>308</th>\n",
       "      <td>(Soup, Fresh Fruit)</td>\n",
       "      <td>(Fresh Vegetables)</td>\n",
       "      <td>0.020748</td>\n",
       "      <td>0.284174</td>\n",
       "      <td>0.007045</td>\n",
       "      <td>0.339570</td>\n",
       "      <td>1.194939</td>\n",
       "      <td>0.001149</td>\n",
       "      <td>1.083880</td>\n",
       "      <td>2</td>\n",
       "    </tr>\n",
       "  </tbody>\n",
       "</table>\n",
       "</div>"
      ],
      "text/plain": [
       "             antecedents         consequents  antecedent support  \\\n",
       "170          (Hamburger)  (Fresh Vegetables)            0.028297   \n",
       "182            (Aspirin)  (Fresh Vegetables)            0.026657   \n",
       "308  (Soup, Fresh Fruit)  (Fresh Vegetables)            0.020748   \n",
       "\n",
       "     consequent support   support  confidence      lift  leverage  conviction  \\\n",
       "170            0.284174  0.008943    0.316057  1.112196  0.000902    1.046617   \n",
       "182            0.284174  0.008598    0.322546  1.135030  0.001023    1.056642   \n",
       "308            0.284174  0.007045    0.339570  1.194939  0.001149    1.083880   \n",
       "\n",
       "     antecedent_len  \n",
       "170               1  \n",
       "182               1  \n",
       "308               2  "
      ]
     },
     "execution_count": 262,
     "metadata": {},
     "output_type": "execute_result"
    }
   ],
   "source": [
    "generate_fi(rules, 1, C, L)"
   ]
  },
  {
   "cell_type": "markdown",
   "metadata": {},
   "source": [
    "### Comments\n",
    "\n",
    "We can consider that anything with a confidence below 0.5 is 'not so confident' but a lift over 1 makes it likely to happen. Therefore the top 3 rules found for this frequent itemsets are the ones above.\n",
    "\n",
    "+ If someone buys an Hamburguer, they buy Fresh Vegetables\n",
    "+ If someone buys Aspirin, they buy Fresh Vegetables\n",
    "+ If someone buys Soup and Fresh Fruit, they buy Fresh Vegetables"
   ]
  },
  {
   "cell_type": "markdown",
   "metadata": {},
   "source": [
    "### 1.4. Take a Look at Maximal Patterns: Compute Maximal Frequent Itemsets"
   ]
  },
  {
   "cell_type": "code",
   "execution_count": 263,
   "metadata": {},
   "outputs": [],
   "source": [
    "# Frequent_itemsets with support >= 0.005\n",
    "\n",
    "maximal_itemsets = frequent_itemsets\n",
    "for row in frequent_itemsets.index:\n",
    "    for comparison_row in frequent_itemsets.index:\n",
    "        if row == comparison_row:\n",
    "            continue\n",
    "        if frequent_itemsets['itemsets'][row].issubset(frequent_itemsets['itemsets'][comparison_row]):\n",
    "            maximal_itemsets = maximal_itemsets.drop([row], axis=0)\n",
    "            break"
   ]
  },
  {
   "cell_type": "code",
   "execution_count": 264,
   "metadata": {},
   "outputs": [
    {
     "data": {
      "text/html": [
       "<div>\n",
       "<style scoped>\n",
       "    .dataframe tbody tr th:only-of-type {\n",
       "        vertical-align: middle;\n",
       "    }\n",
       "\n",
       "    .dataframe tbody tr th {\n",
       "        vertical-align: top;\n",
       "    }\n",
       "\n",
       "    .dataframe thead th {\n",
       "        text-align: right;\n",
       "    }\n",
       "</style>\n",
       "<table border=\"1\" class=\"dataframe\">\n",
       "  <thead>\n",
       "    <tr style=\"text-align: right;\">\n",
       "      <th></th>\n",
       "      <th>support</th>\n",
       "      <th>itemsets</th>\n",
       "      <th>length</th>\n",
       "      <th>num_transactions</th>\n",
       "    </tr>\n",
       "  </thead>\n",
       "  <tbody>\n",
       "    <tr>\n",
       "      <th>235</th>\n",
       "      <td>0.035227</td>\n",
       "      <td>(Dried Fruit, Fresh Vegetables)</td>\n",
       "      <td>2</td>\n",
       "      <td>2450</td>\n",
       "    </tr>\n",
       "    <tr>\n",
       "      <th>318</th>\n",
       "      <td>0.022703</td>\n",
       "      <td>(Paper Wipes, Fresh Vegetables)</td>\n",
       "      <td>2</td>\n",
       "      <td>1579</td>\n",
       "    </tr>\n",
       "    <tr>\n",
       "      <th>120</th>\n",
       "      <td>0.022042</td>\n",
       "      <td>(Canned Vegetables, Fresh Vegetables)</td>\n",
       "      <td>2</td>\n",
       "      <td>1533</td>\n",
       "    </tr>\n",
       "    <tr>\n",
       "      <th>340</th>\n",
       "      <td>0.020432</td>\n",
       "      <td>(Wine, Fresh Vegetables)</td>\n",
       "      <td>2</td>\n",
       "      <td>1421</td>\n",
       "    </tr>\n",
       "    <tr>\n",
       "      <th>316</th>\n",
       "      <td>0.019756</td>\n",
       "      <td>(Nuts, Fresh Vegetables)</td>\n",
       "      <td>2</td>\n",
       "      <td>1374</td>\n",
       "    </tr>\n",
       "    <tr>\n",
       "      <th>...</th>\n",
       "      <td>...</td>\n",
       "      <td>...</td>\n",
       "      <td>...</td>\n",
       "      <td>...</td>\n",
       "    </tr>\n",
       "    <tr>\n",
       "      <th>233</th>\n",
       "      <td>0.005018</td>\n",
       "      <td>(Dried Fruit, French Fries)</td>\n",
       "      <td>2</td>\n",
       "      <td>349</td>\n",
       "    </tr>\n",
       "    <tr>\n",
       "      <th>191</th>\n",
       "      <td>0.005018</td>\n",
       "      <td>(Dips, Cookies)</td>\n",
       "      <td>2</td>\n",
       "      <td>349</td>\n",
       "    </tr>\n",
       "    <tr>\n",
       "      <th>196</th>\n",
       "      <td>0.005018</td>\n",
       "      <td>(Cookies, Frozen Chicken)</td>\n",
       "      <td>2</td>\n",
       "      <td>349</td>\n",
       "    </tr>\n",
       "    <tr>\n",
       "      <th>346</th>\n",
       "      <td>0.005004</td>\n",
       "      <td>(Paper Wipes, Lightbulbs)</td>\n",
       "      <td>2</td>\n",
       "      <td>348</td>\n",
       "    </tr>\n",
       "    <tr>\n",
       "      <th>156</th>\n",
       "      <td>0.005004</td>\n",
       "      <td>(Pasta, Cheese)</td>\n",
       "      <td>2</td>\n",
       "      <td>348</td>\n",
       "    </tr>\n",
       "  </tbody>\n",
       "</table>\n",
       "<p>299 rows × 4 columns</p>\n",
       "</div>"
      ],
      "text/plain": [
       "      support                               itemsets  length  num_transactions\n",
       "235  0.035227        (Dried Fruit, Fresh Vegetables)       2              2450\n",
       "318  0.022703        (Paper Wipes, Fresh Vegetables)       2              1579\n",
       "120  0.022042  (Canned Vegetables, Fresh Vegetables)       2              1533\n",
       "340  0.020432               (Wine, Fresh Vegetables)       2              1421\n",
       "316  0.019756               (Nuts, Fresh Vegetables)       2              1374\n",
       "..        ...                                    ...     ...               ...\n",
       "233  0.005018            (Dried Fruit, French Fries)       2               349\n",
       "191  0.005018                        (Dips, Cookies)       2               349\n",
       "196  0.005018              (Cookies, Frozen Chicken)       2               349\n",
       "346  0.005004              (Paper Wipes, Lightbulbs)       2               348\n",
       "156  0.005004                        (Pasta, Cheese)       2               348\n",
       "\n",
       "[299 rows x 4 columns]"
      ]
     },
     "execution_count": 264,
     "metadata": {},
     "output_type": "execute_result"
    }
   ],
   "source": [
    "maximal_itemsets"
   ]
  },
  {
   "cell_type": "markdown",
   "metadata": {},
   "source": [
    "### Comments\n",
    "\n",
    "There was an option to use FPmax from MLExtend to find the maximal frequent itemsets, but a bug in the code did not allow us to use it. Still, the algorithm is simple enough. Maximal Frequent Itemsets are sets of items that do not have any superset that is also frequent. Out algorithm is not very efficient but still allows us to obtain it.\n",
    "\n",
    "Maximal Patterns show us well supported sets which happen without any other frequent superset. Therefore we can say:\n",
    "\n",
    "        \"Pasta and Cheese is a frequent set, and there is no superset that contains these items and is frequent\""
   ]
  },
  {
   "cell_type": "markdown",
   "metadata": {},
   "source": [
    "### 1.5 Conclusions from Mining Frequent Patterns in All Stores"
   ]
  },
  {
   "cell_type": "markdown",
   "metadata": {},
   "source": [
    "The transactions we have, as we can note, are from supermarkets or grocery stores; We will not be able to see sets of specific items from each store since the support is represented by: `(number of transactions where A is presents)/(all transactions)`. Bigger stores will dominate the dataset in this way.\n",
    "\n",
    "A better approach would be do do an analysis for specific stores, as we will do after.\n",
    "\n",
    "It is interesting to note that buying Dried Fruits and Fresh Vegetables together represents 3% of all transactions, making it fair to say that it is a common thing to happen when people go shopping in comparison with the multitude of possibilities."
   ]
  },
  {
   "cell_type": "markdown",
   "metadata": {},
   "source": [
    "## 2. Mining Frequent Itemsets and Association Rules: Looking for Differences between Stores\n",
    "\n",
    "The 24 stores, whose transactions were analysed in Task 1, are in fact **different types of stores**:\n",
    "* Deluxe Supermarkets: STORE_ID = 8, 12, 13, 17, 19, 21\n",
    "* Gourmet Supermarkets: STORE_ID = 4, 6\n",
    "* Mid-Size Grocerys: STORE_ID = 9, 18, 20, 23\n",
    "* Small Grocerys: STORE_ID = 2, 5, 14, 22\n",
    "* Supermarkets: STORE_ID = 1, 3, 7, 10, 11, 15, 16\n",
    "\n",
    "In this context, in this second task you should compute frequent itemsets and association rules for specific groups of stores, and then compare the store specific results with those obtained when all transactions were analysed independently of the type of store. \n",
    "\n",
    "**The goal is to find similarities and differences in buying patterns according to the types of store. Do popular products change? Are there buying patterns specific to the type of store?**"
   ]
  },
  {
   "cell_type": "markdown",
   "metadata": {},
   "source": [
    "### 2.1. Analyse Deluxe Supermarkets and Gourmet Supermarkets\n",
    "\n",
    "Here you should analyse transactions from **Deluxe Supermarkets (STORE_ID = 8, 12, 13, 17, 19, 21) and Gourmet Supermarkets (STORE_ID = 4, 6) together**."
   ]
  },
  {
   "cell_type": "markdown",
   "metadata": {},
   "source": [
    "#### 2.1.1. Load/Preprocess the Dataset\n",
    "\n",
    "**You might need to change a bit the preprocessing, although most of it should be reused.**"
   ]
  },
  {
   "cell_type": "markdown",
   "metadata": {},
   "source": [
    "**Load the data**"
   ]
  },
  {
   "cell_type": "code",
   "execution_count": 265,
   "metadata": {},
   "outputs": [],
   "source": [
    "preprocessing_2 = False\n",
    "preprocessed_data_21_path = 'data/data_21_preprocessed.npy'"
   ]
  },
  {
   "cell_type": "code",
   "execution_count": 266,
   "metadata": {},
   "outputs": [
    {
     "name": "stdout",
     "output_type": "stream",
     "text": [
      "\n",
      "We have 69549 transactions in this dataset\n"
     ]
    }
   ],
   "source": [
    "itemset = pd.read_csv('./data/Foodmart_2020_PD.csv', delimiter = ';')\n",
    "print(f\"\\nWe have {itemset.shape[0]} transactions in this dataset\")"
   ]
  },
  {
   "cell_type": "markdown",
   "metadata": {},
   "source": [
    "#### Select only the Deluxe Supermarkets and Gourmet Supermarkets"
   ]
  },
  {
   "cell_type": "code",
   "execution_count": 267,
   "metadata": {},
   "outputs": [
    {
     "name": "stdout",
     "output_type": "stream",
     "text": [
      "\n",
      "We have 31251 transactions\n"
     ]
    }
   ],
   "source": [
    "itemset_21 = pd.DataFrame(columns = itemset.columns) # new Itemset\n",
    "for i in [8,12,13,17,19,21,4,6]:\n",
    "    itemset_21 = pd.concat([itemset_21,itemset[itemset['Column1'] == f'STORE_ID={i}']])\n",
    "\n",
    "print(f\"\\nWe have {itemset_21.shape[0]} transactions\")"
   ]
  },
  {
   "cell_type": "markdown",
   "metadata": {},
   "source": [
    "**Processing Data**\n",
    "\n",
    "This includes eliminating the quantities and the column of the store"
   ]
  },
  {
   "cell_type": "code",
   "execution_count": 268,
   "metadata": {},
   "outputs": [],
   "source": [
    "if preprocessing_2 == True:\n",
    "    #remove store column\n",
    "    itemset_21 = itemset_21.loc[:,'Column2':'Column11']\n",
    "    #clear quantities\n",
    "    itemset_21 = itemset_21.applymap(clear_quantities)"
   ]
  },
  {
   "cell_type": "code",
   "execution_count": 269,
   "metadata": {},
   "outputs": [],
   "source": [
    "if preprocessing_2 == True:\n",
    "    \n",
    "    #remove nan values\n",
    "    transactions_cleaned = []\n",
    "    for i, t in enumerate(itemset_21.values):\n",
    "        transaction = []\n",
    "        for v in t:\n",
    "            if isinstance(v,str): transaction.append(v)\n",
    "        transactions_cleaned.append(transaction)\n",
    "        \n",
    "    #save preprocessed data \n",
    "    np.save(preprocessed_data_21_path,np.array(transactions_cleaned))\n",
    "    \n",
    "#load the data\n",
    "else: transactions_cleaned = np.load(preprocessed_data_21_path, allow_pickle = True)"
   ]
  },
  {
   "cell_type": "code",
   "execution_count": 270,
   "metadata": {},
   "outputs": [
    {
     "data": {
      "text/html": [
       "<div>\n",
       "<style scoped>\n",
       "    .dataframe tbody tr th:only-of-type {\n",
       "        vertical-align: middle;\n",
       "    }\n",
       "\n",
       "    .dataframe tbody tr th {\n",
       "        vertical-align: top;\n",
       "    }\n",
       "\n",
       "    .dataframe thead th {\n",
       "        text-align: right;\n",
       "    }\n",
       "</style>\n",
       "<table border=\"1\" class=\"dataframe\">\n",
       "  <thead>\n",
       "    <tr style=\"text-align: right;\">\n",
       "      <th></th>\n",
       "      <th>Acetominifen</th>\n",
       "      <th>Anchovies</th>\n",
       "      <th>Aspirin</th>\n",
       "      <th>Auto Magazines</th>\n",
       "      <th>Bagels</th>\n",
       "      <th>Batteries</th>\n",
       "      <th>Beer</th>\n",
       "      <th>Bologna</th>\n",
       "      <th>Candles</th>\n",
       "      <th>Canned Fruit</th>\n",
       "      <th>...</th>\n",
       "      <th>Sunglasses</th>\n",
       "      <th>TV Dinner</th>\n",
       "      <th>Tofu</th>\n",
       "      <th>Toilet Brushes</th>\n",
       "      <th>Tools</th>\n",
       "      <th>Toothbrushes</th>\n",
       "      <th>Tuna</th>\n",
       "      <th>Waffles</th>\n",
       "      <th>Wine</th>\n",
       "      <th>Yogurt</th>\n",
       "    </tr>\n",
       "  </thead>\n",
       "  <tbody>\n",
       "    <tr>\n",
       "      <th>0</th>\n",
       "      <td>False</td>\n",
       "      <td>False</td>\n",
       "      <td>False</td>\n",
       "      <td>False</td>\n",
       "      <td>False</td>\n",
       "      <td>False</td>\n",
       "      <td>False</td>\n",
       "      <td>False</td>\n",
       "      <td>False</td>\n",
       "      <td>False</td>\n",
       "      <td>...</td>\n",
       "      <td>False</td>\n",
       "      <td>False</td>\n",
       "      <td>False</td>\n",
       "      <td>False</td>\n",
       "      <td>False</td>\n",
       "      <td>False</td>\n",
       "      <td>False</td>\n",
       "      <td>False</td>\n",
       "      <td>False</td>\n",
       "      <td>False</td>\n",
       "    </tr>\n",
       "    <tr>\n",
       "      <th>1</th>\n",
       "      <td>False</td>\n",
       "      <td>False</td>\n",
       "      <td>False</td>\n",
       "      <td>False</td>\n",
       "      <td>False</td>\n",
       "      <td>False</td>\n",
       "      <td>False</td>\n",
       "      <td>False</td>\n",
       "      <td>False</td>\n",
       "      <td>False</td>\n",
       "      <td>...</td>\n",
       "      <td>False</td>\n",
       "      <td>False</td>\n",
       "      <td>False</td>\n",
       "      <td>False</td>\n",
       "      <td>False</td>\n",
       "      <td>False</td>\n",
       "      <td>False</td>\n",
       "      <td>False</td>\n",
       "      <td>False</td>\n",
       "      <td>False</td>\n",
       "    </tr>\n",
       "    <tr>\n",
       "      <th>2</th>\n",
       "      <td>False</td>\n",
       "      <td>False</td>\n",
       "      <td>False</td>\n",
       "      <td>False</td>\n",
       "      <td>False</td>\n",
       "      <td>False</td>\n",
       "      <td>False</td>\n",
       "      <td>False</td>\n",
       "      <td>False</td>\n",
       "      <td>False</td>\n",
       "      <td>...</td>\n",
       "      <td>False</td>\n",
       "      <td>False</td>\n",
       "      <td>False</td>\n",
       "      <td>False</td>\n",
       "      <td>False</td>\n",
       "      <td>False</td>\n",
       "      <td>False</td>\n",
       "      <td>False</td>\n",
       "      <td>False</td>\n",
       "      <td>False</td>\n",
       "    </tr>\n",
       "    <tr>\n",
       "      <th>3</th>\n",
       "      <td>False</td>\n",
       "      <td>False</td>\n",
       "      <td>False</td>\n",
       "      <td>False</td>\n",
       "      <td>False</td>\n",
       "      <td>False</td>\n",
       "      <td>True</td>\n",
       "      <td>False</td>\n",
       "      <td>False</td>\n",
       "      <td>False</td>\n",
       "      <td>...</td>\n",
       "      <td>False</td>\n",
       "      <td>False</td>\n",
       "      <td>False</td>\n",
       "      <td>False</td>\n",
       "      <td>False</td>\n",
       "      <td>False</td>\n",
       "      <td>False</td>\n",
       "      <td>False</td>\n",
       "      <td>False</td>\n",
       "      <td>False</td>\n",
       "    </tr>\n",
       "    <tr>\n",
       "      <th>4</th>\n",
       "      <td>False</td>\n",
       "      <td>False</td>\n",
       "      <td>False</td>\n",
       "      <td>True</td>\n",
       "      <td>False</td>\n",
       "      <td>False</td>\n",
       "      <td>False</td>\n",
       "      <td>False</td>\n",
       "      <td>False</td>\n",
       "      <td>False</td>\n",
       "      <td>...</td>\n",
       "      <td>False</td>\n",
       "      <td>False</td>\n",
       "      <td>False</td>\n",
       "      <td>False</td>\n",
       "      <td>False</td>\n",
       "      <td>False</td>\n",
       "      <td>False</td>\n",
       "      <td>False</td>\n",
       "      <td>False</td>\n",
       "      <td>False</td>\n",
       "    </tr>\n",
       "  </tbody>\n",
       "</table>\n",
       "<p>5 rows × 102 columns</p>\n",
       "</div>"
      ],
      "text/plain": [
       "   Acetominifen  Anchovies  Aspirin  Auto Magazines  Bagels  Batteries   Beer  \\\n",
       "0         False      False    False           False   False      False  False   \n",
       "1         False      False    False           False   False      False  False   \n",
       "2         False      False    False           False   False      False  False   \n",
       "3         False      False    False           False   False      False   True   \n",
       "4         False      False    False            True   False      False  False   \n",
       "\n",
       "   Bologna  Candles  Canned Fruit  ...  Sunglasses  TV Dinner   Tofu  \\\n",
       "0    False    False         False  ...       False      False  False   \n",
       "1    False    False         False  ...       False      False  False   \n",
       "2    False    False         False  ...       False      False  False   \n",
       "3    False    False         False  ...       False      False  False   \n",
       "4    False    False         False  ...       False      False  False   \n",
       "\n",
       "   Toilet Brushes  Tools  Toothbrushes   Tuna  Waffles   Wine  Yogurt  \n",
       "0           False  False         False  False    False  False   False  \n",
       "1           False  False         False  False    False  False   False  \n",
       "2           False  False         False  False    False  False   False  \n",
       "3           False  False         False  False    False  False   False  \n",
       "4           False  False         False  False    False  False   False  \n",
       "\n",
       "[5 rows x 102 columns]"
      ]
     },
     "execution_count": 270,
     "metadata": {},
     "output_type": "execute_result"
    }
   ],
   "source": [
    "te = TransactionEncoder()\n",
    "te_ary = te.fit(transactions_cleaned).transform(transactions_cleaned)\n",
    "df21_te = pd.DataFrame(te_ary, columns=te.columns_)\n",
    "df21_te.head()"
   ]
  },
  {
   "cell_type": "markdown",
   "metadata": {},
   "source": [
    "Compute the most frequent products"
   ]
  },
  {
   "cell_type": "code",
   "execution_count": 271,
   "metadata": {},
   "outputs": [
    {
     "data": {
      "text/html": [
       "<div>\n",
       "<style scoped>\n",
       "    .dataframe tbody tr th:only-of-type {\n",
       "        vertical-align: middle;\n",
       "    }\n",
       "\n",
       "    .dataframe tbody tr th {\n",
       "        vertical-align: top;\n",
       "    }\n",
       "\n",
       "    .dataframe thead th {\n",
       "        text-align: right;\n",
       "    }\n",
       "</style>\n",
       "<table border=\"1\" class=\"dataframe\">\n",
       "  <thead>\n",
       "    <tr style=\"text-align: right;\">\n",
       "      <th></th>\n",
       "      <th>product</th>\n",
       "      <th>support</th>\n",
       "      <th>total</th>\n",
       "    </tr>\n",
       "  </thead>\n",
       "  <tbody>\n",
       "    <tr>\n",
       "      <th>0</th>\n",
       "      <td>Fresh Vegetables</td>\n",
       "      <td>0.130</td>\n",
       "      <td>19764</td>\n",
       "    </tr>\n",
       "    <tr>\n",
       "      <th>1</th>\n",
       "      <td>Fresh Fruit</td>\n",
       "      <td>0.079</td>\n",
       "      <td>12187</td>\n",
       "    </tr>\n",
       "    <tr>\n",
       "      <th>2</th>\n",
       "      <td>Soup</td>\n",
       "      <td>0.055</td>\n",
       "      <td>8350</td>\n",
       "    </tr>\n",
       "    <tr>\n",
       "      <th>3</th>\n",
       "      <td>Dried Fruit</td>\n",
       "      <td>0.054</td>\n",
       "      <td>8193</td>\n",
       "    </tr>\n",
       "    <tr>\n",
       "      <th>4</th>\n",
       "      <td>Cheese</td>\n",
       "      <td>0.053</td>\n",
       "      <td>8152</td>\n",
       "    </tr>\n",
       "  </tbody>\n",
       "</table>\n",
       "</div>"
      ],
      "text/plain": [
       "            product  support  total\n",
       "0  Fresh Vegetables    0.130  19764\n",
       "1       Fresh Fruit    0.079  12187\n",
       "2              Soup    0.055   8350\n",
       "3       Dried Fruit    0.054   8193\n",
       "4            Cheese    0.053   8152"
      ]
     },
     "execution_count": 271,
     "metadata": {},
     "output_type": "execute_result"
    }
   ],
   "source": [
    "df21_products_frequency = pd.DataFrame()\n",
    "for c in df21_te.columns:\n",
    "    df_c = df21_te[c].value_counts().to_frame('count')\n",
    "    total = int(df_c[df_c.index == True]['count']) # Count True values\n",
    "    df21_products_frequency = df21_products_frequency.append({'product':c,'total': total,'support':(total/len(itemset))},ignore_index = True)\n",
    "df21_products_frequency = df21_products_frequency.sort_values('total',ascending = False).reset_index(drop=True)\n",
    "\n",
    "# Making it more presentable\n",
    "df21_products_frequency['support'] = df21_products_frequency['support'].astype('float64').round(3)\n",
    "df21_products_frequency['total'] = df_products_frequency['total'].astype('int64')\n",
    "\n",
    "df21_products_frequency.head()"
   ]
  },
  {
   "cell_type": "markdown",
   "metadata": {},
   "source": [
    "Compute some statistic metrics about the total column"
   ]
  },
  {
   "cell_type": "code",
   "execution_count": 272,
   "metadata": {},
   "outputs": [
    {
     "data": {
      "text/plain": [
       "count      102.000000\n",
       "mean      2834.500000\n",
       "std       2589.666372\n",
       "min        895.000000\n",
       "25%        971.000000\n",
       "50%       1991.000000\n",
       "75%       3747.500000\n",
       "max      19764.000000\n",
       "Name: total, dtype: float64"
      ]
     },
     "execution_count": 272,
     "metadata": {},
     "output_type": "execute_result"
    }
   ],
   "source": [
    "df21_products_frequency.total.describe()"
   ]
  },
  {
   "cell_type": "code",
   "execution_count": 273,
   "metadata": {},
   "outputs": [
    {
     "data": {
      "text/plain": [
       "([0, 1, 2, 3, 4, 5, 6, 7, 8, 9, 10, 11, 12, 13, 14, 15, 16, 17, 18, 19],\n",
       " <a list of 20 Text xticklabel objects>)"
      ]
     },
     "execution_count": 273,
     "metadata": {},
     "output_type": "execute_result"
    },
    {
     "data": {
      "image/png": "[encoded data removed]",
      "text/plain": [
       "<Figure size 1080x360 with 1 Axes>"
      ]
     },
     "metadata": {
      "needs_background": "light"
     },
     "output_type": "display_data"
    }
   ],
   "source": [
    "plt.figure(figsize=(15,5))\n",
    "df_graph = df21_products_frequency.iloc[:20]\n",
    "plt.bar(df_graph['product'],df_graph['total'])\n",
    "plt.xticks(rotation=90)"
   ]
  },
  {
   "cell_type": "markdown",
   "metadata": {},
   "source": [
    "The frequency of most products is very similar to the ones from all stores. We should take in account that the quantity of transactions is half os all transactions, which is a significant part of all transactions."
   ]
  },
  {
   "cell_type": "markdown",
   "metadata": {},
   "source": [
    "#### 2.1.2. Compute Frequent Itemsets"
   ]
  },
  {
   "cell_type": "code",
   "execution_count": 274,
   "metadata": {},
   "outputs": [],
   "source": [
    "X = 0.005\n",
    "Y = 0.007"
   ]
  },
  {
   "cell_type": "code",
   "execution_count": 276,
   "metadata": {},
   "outputs": [],
   "source": [
    "frequent_itemsets21_fpg  = fpgrowth(df21_te, min_support=X, use_colnames=True)\n",
    "frequent_itemsets21_fpg = frequent_itemsets21_fpg.sort_values('support',ascending = False)\n",
    "frequent_itemsets21_fpg['length'] = frequent_itemsets21_fpg['itemsets'].apply(lambda x: len(x))\n",
    "frequent_itemsets21_fpg['num_transactions'] = [round(s*len(itemset_21)) for s in frequent_itemsets21_fpg['support']]"
   ]
  },
  {
   "cell_type": "code",
   "execution_count": 281,
   "metadata": {},
   "outputs": [
    {
     "data": {
      "text/html": [
       "<div>\n",
       "<style scoped>\n",
       "    .dataframe tbody tr th:only-of-type {\n",
       "        vertical-align: middle;\n",
       "    }\n",
       "\n",
       "    .dataframe tbody tr th {\n",
       "        vertical-align: top;\n",
       "    }\n",
       "\n",
       "    .dataframe thead th {\n",
       "        text-align: right;\n",
       "    }\n",
       "</style>\n",
       "<table border=\"1\" class=\"dataframe\">\n",
       "  <thead>\n",
       "    <tr style=\"text-align: right;\">\n",
       "      <th></th>\n",
       "      <th>support</th>\n",
       "      <th>itemsets</th>\n",
       "      <th>length</th>\n",
       "      <th>num_transactions</th>\n",
       "    </tr>\n",
       "  </thead>\n",
       "  <tbody>\n",
       "    <tr>\n",
       "      <th>126</th>\n",
       "      <td>0.051806</td>\n",
       "      <td>(Fresh Fruit, Fresh Vegetables)</td>\n",
       "      <td>2</td>\n",
       "      <td>1619</td>\n",
       "    </tr>\n",
       "    <tr>\n",
       "      <th>164</th>\n",
       "      <td>0.036191</td>\n",
       "      <td>(Soup, Fresh Vegetables)</td>\n",
       "      <td>2</td>\n",
       "      <td>1131</td>\n",
       "    </tr>\n",
       "    <tr>\n",
       "      <th>111</th>\n",
       "      <td>0.035679</td>\n",
       "      <td>(Dried Fruit, Fresh Vegetables)</td>\n",
       "      <td>2</td>\n",
       "      <td>1115</td>\n",
       "    </tr>\n",
       "    <tr>\n",
       "      <th>206</th>\n",
       "      <td>0.031167</td>\n",
       "      <td>(Cheese, Fresh Vegetables)</td>\n",
       "      <td>2</td>\n",
       "      <td>974</td>\n",
       "    </tr>\n",
       "    <tr>\n",
       "      <th>169</th>\n",
       "      <td>0.030015</td>\n",
       "      <td>(Cookies, Fresh Vegetables)</td>\n",
       "      <td>2</td>\n",
       "      <td>938</td>\n",
       "    </tr>\n",
       "    <tr>\n",
       "      <th>...</th>\n",
       "      <td>...</td>\n",
       "      <td>...</td>\n",
       "      <td>...</td>\n",
       "      <td>...</td>\n",
       "    </tr>\n",
       "    <tr>\n",
       "      <th>326</th>\n",
       "      <td>0.007136</td>\n",
       "      <td>(Dried Fruit, Waffles)</td>\n",
       "      <td>2</td>\n",
       "      <td>223</td>\n",
       "    </tr>\n",
       "    <tr>\n",
       "      <th>325</th>\n",
       "      <td>0.007136</td>\n",
       "      <td>(Soup, Waffles)</td>\n",
       "      <td>2</td>\n",
       "      <td>223</td>\n",
       "    </tr>\n",
       "    <tr>\n",
       "      <th>251</th>\n",
       "      <td>0.007136</td>\n",
       "      <td>(Soup, Chocolate Candy)</td>\n",
       "      <td>2</td>\n",
       "      <td>223</td>\n",
       "    </tr>\n",
       "    <tr>\n",
       "      <th>194</th>\n",
       "      <td>0.007040</td>\n",
       "      <td>(Wine, Cheese)</td>\n",
       "      <td>2</td>\n",
       "      <td>220</td>\n",
       "    </tr>\n",
       "    <tr>\n",
       "      <th>218</th>\n",
       "      <td>0.007008</td>\n",
       "      <td>(Canned Vegetables, Wine)</td>\n",
       "      <td>2</td>\n",
       "      <td>219</td>\n",
       "    </tr>\n",
       "  </tbody>\n",
       "</table>\n",
       "<p>155 rows × 4 columns</p>\n",
       "</div>"
      ],
      "text/plain": [
       "      support                         itemsets  length  num_transactions\n",
       "126  0.051806  (Fresh Fruit, Fresh Vegetables)       2              1619\n",
       "164  0.036191         (Soup, Fresh Vegetables)       2              1131\n",
       "111  0.035679  (Dried Fruit, Fresh Vegetables)       2              1115\n",
       "206  0.031167       (Cheese, Fresh Vegetables)       2               974\n",
       "169  0.030015      (Cookies, Fresh Vegetables)       2               938\n",
       "..        ...                              ...     ...               ...\n",
       "326  0.007136           (Dried Fruit, Waffles)       2               223\n",
       "325  0.007136                  (Soup, Waffles)       2               223\n",
       "251  0.007136          (Soup, Chocolate Candy)       2               223\n",
       "194  0.007040                   (Wine, Cheese)       2               220\n",
       "218  0.007008        (Canned Vegetables, Wine)       2               219\n",
       "\n",
       "[155 rows x 4 columns]"
      ]
     },
     "execution_count": 281,
     "metadata": {},
     "output_type": "execute_result"
    }
   ],
   "source": [
    "frequent_itemsets21_fpg.query(f'length == 2 & support > {Y}')"
   ]
  },
  {
   "cell_type": "markdown",
   "metadata": {},
   "source": [
    "#### 2.1.3. Generate Association Rules from Frequent Itemsets"
   ]
  },
  {
   "cell_type": "code",
   "execution_count": 305,
   "metadata": {},
   "outputs": [],
   "source": [
    "C = 0.3 # Confidence\n",
    "L = 1.1 # Lift"
   ]
  },
  {
   "cell_type": "code",
   "execution_count": 296,
   "metadata": {},
   "outputs": [],
   "source": [
    "rules21 = association_rules(frequent_itemsets21_fpg, metric=\"confidence\", min_threshold=0)\n",
    "rules21['antecedent_len'] = rules21['antecedents'].apply(lambda x: len(x))"
   ]
  },
  {
   "cell_type": "code",
   "execution_count": 306,
   "metadata": {},
   "outputs": [
    {
     "data": {
      "text/html": [
       "<div>\n",
       "<style scoped>\n",
       "    .dataframe tbody tr th:only-of-type {\n",
       "        vertical-align: middle;\n",
       "    }\n",
       "\n",
       "    .dataframe tbody tr th {\n",
       "        vertical-align: top;\n",
       "    }\n",
       "\n",
       "    .dataframe thead th {\n",
       "        text-align: right;\n",
       "    }\n",
       "</style>\n",
       "<table border=\"1\" class=\"dataframe\">\n",
       "  <thead>\n",
       "    <tr style=\"text-align: right;\">\n",
       "      <th></th>\n",
       "      <th>antecedents</th>\n",
       "      <th>consequents</th>\n",
       "      <th>antecedent support</th>\n",
       "      <th>consequent support</th>\n",
       "      <th>support</th>\n",
       "      <th>confidence</th>\n",
       "      <th>lift</th>\n",
       "      <th>leverage</th>\n",
       "      <th>conviction</th>\n",
       "      <th>antecedent_len</th>\n",
       "    </tr>\n",
       "  </thead>\n",
       "  <tbody>\n",
       "    <tr>\n",
       "      <th>156</th>\n",
       "      <td>(Hard Candy)</td>\n",
       "      <td>(Fresh Vegetables)</td>\n",
       "      <td>0.028767</td>\n",
       "      <td>0.290071</td>\n",
       "      <td>0.009440</td>\n",
       "      <td>0.328142</td>\n",
       "      <td>1.131250</td>\n",
       "      <td>0.001095</td>\n",
       "      <td>1.056666</td>\n",
       "      <td>1</td>\n",
       "    </tr>\n",
       "    <tr>\n",
       "      <th>166</th>\n",
       "      <td>(Aspirin)</td>\n",
       "      <td>(Fresh Vegetables)</td>\n",
       "      <td>0.027647</td>\n",
       "      <td>0.290071</td>\n",
       "      <td>0.009088</td>\n",
       "      <td>0.328704</td>\n",
       "      <td>1.133185</td>\n",
       "      <td>0.001068</td>\n",
       "      <td>1.057550</td>\n",
       "      <td>1</td>\n",
       "    </tr>\n",
       "    <tr>\n",
       "      <th>168</th>\n",
       "      <td>(Sugar)</td>\n",
       "      <td>(Fresh Vegetables)</td>\n",
       "      <td>0.027423</td>\n",
       "      <td>0.290071</td>\n",
       "      <td>0.009024</td>\n",
       "      <td>0.329055</td>\n",
       "      <td>1.134395</td>\n",
       "      <td>0.001069</td>\n",
       "      <td>1.058103</td>\n",
       "      <td>1</td>\n",
       "    </tr>\n",
       "    <tr>\n",
       "      <th>242</th>\n",
       "      <td>(Soup, Fresh Fruit)</td>\n",
       "      <td>(Fresh Vegetables)</td>\n",
       "      <td>0.022399</td>\n",
       "      <td>0.290071</td>\n",
       "      <td>0.008064</td>\n",
       "      <td>0.360000</td>\n",
       "      <td>1.241077</td>\n",
       "      <td>0.001566</td>\n",
       "      <td>1.109265</td>\n",
       "      <td>2</td>\n",
       "    </tr>\n",
       "    <tr>\n",
       "      <th>490</th>\n",
       "      <td>(Conditioner)</td>\n",
       "      <td>(Fresh Vegetables)</td>\n",
       "      <td>0.013888</td>\n",
       "      <td>0.290071</td>\n",
       "      <td>0.005312</td>\n",
       "      <td>0.382488</td>\n",
       "      <td>1.318604</td>\n",
       "      <td>0.001283</td>\n",
       "      <td>1.149662</td>\n",
       "      <td>1</td>\n",
       "    </tr>\n",
       "    <tr>\n",
       "      <th>500</th>\n",
       "      <td>(Home Magazines)</td>\n",
       "      <td>(Fresh Vegetables)</td>\n",
       "      <td>0.014784</td>\n",
       "      <td>0.290071</td>\n",
       "      <td>0.005248</td>\n",
       "      <td>0.354978</td>\n",
       "      <td>1.223765</td>\n",
       "      <td>0.000960</td>\n",
       "      <td>1.100629</td>\n",
       "      <td>1</td>\n",
       "    </tr>\n",
       "    <tr>\n",
       "      <th>544</th>\n",
       "      <td>(Fresh Fruit, Paper Wipes)</td>\n",
       "      <td>(Fresh Vegetables)</td>\n",
       "      <td>0.015552</td>\n",
       "      <td>0.290071</td>\n",
       "      <td>0.005024</td>\n",
       "      <td>0.323045</td>\n",
       "      <td>1.113678</td>\n",
       "      <td>0.000513</td>\n",
       "      <td>1.048710</td>\n",
       "      <td>2</td>\n",
       "    </tr>\n",
       "  </tbody>\n",
       "</table>\n",
       "</div>"
      ],
      "text/plain": [
       "                    antecedents         consequents  antecedent support  \\\n",
       "156                (Hard Candy)  (Fresh Vegetables)            0.028767   \n",
       "166                   (Aspirin)  (Fresh Vegetables)            0.027647   \n",
       "168                     (Sugar)  (Fresh Vegetables)            0.027423   \n",
       "242         (Soup, Fresh Fruit)  (Fresh Vegetables)            0.022399   \n",
       "490               (Conditioner)  (Fresh Vegetables)            0.013888   \n",
       "500            (Home Magazines)  (Fresh Vegetables)            0.014784   \n",
       "544  (Fresh Fruit, Paper Wipes)  (Fresh Vegetables)            0.015552   \n",
       "\n",
       "     consequent support   support  confidence      lift  leverage  conviction  \\\n",
       "156            0.290071  0.009440    0.328142  1.131250  0.001095    1.056666   \n",
       "166            0.290071  0.009088    0.328704  1.133185  0.001068    1.057550   \n",
       "168            0.290071  0.009024    0.329055  1.134395  0.001069    1.058103   \n",
       "242            0.290071  0.008064    0.360000  1.241077  0.001566    1.109265   \n",
       "490            0.290071  0.005312    0.382488  1.318604  0.001283    1.149662   \n",
       "500            0.290071  0.005248    0.354978  1.223765  0.000960    1.100629   \n",
       "544            0.290071  0.005024    0.323045  1.113678  0.000513    1.048710   \n",
       "\n",
       "     antecedent_len  \n",
       "156               1  \n",
       "166               1  \n",
       "168               1  \n",
       "242               2  \n",
       "490               1  \n",
       "500               1  \n",
       "544               2  "
      ]
     },
     "execution_count": 306,
     "metadata": {},
     "output_type": "execute_result"
    }
   ],
   "source": [
    "generate_fi(rules21, 1, C, L)"
   ]
  },
  {
   "cell_type": "markdown",
   "metadata": {},
   "source": [
    "#### 2.1.4.  Deluxe/Gourmet Supermarkets versus All Stores\n",
    "\n",
    "Discuss the similarities and diferences between the results obtained in task 1. (frequent itemsets and association rules found in transactions from all stores) and those obtained above (frequent itemsets and association rules found in transactions only from Deluxe/Gourmet Supermarkets)."
   ]
  },
  {
   "cell_type": "markdown",
   "metadata": {},
   "source": [
    "There is some difference in the results from the association rules but this is most possibly caused by slight variations in the confidence and lift values which filter more cases in the first task.\n",
    "\n",
    "Overall the difference is insignificant from the general.\n"
   ]
  },
  {
   "cell_type": "markdown",
   "metadata": {},
   "source": [
    "### 2.2. Analyse Small Groceries [For groups of 2 and 3]\n",
    "\n",
    "Here you should analyse **Small Groceries (STORE_ID = 2, 5, 14, 22)**."
   ]
  },
  {
   "cell_type": "markdown",
   "metadata": {},
   "source": [
    "#### 2.2.1.  Load/Preprocess the Dataset\n",
    "\n",
    "**This should be trivial now.**"
   ]
  },
  {
   "cell_type": "code",
   "execution_count": null,
   "metadata": {},
   "outputs": [],
   "source": [
    "# Write code in cells like this\n",
    "# ...."
   ]
  },
  {
   "cell_type": "markdown",
   "metadata": {},
   "source": [
    "Write text in cells like this \n"
   ]
  },
  {
   "cell_type": "markdown",
   "metadata": {},
   "source": [
    "#### 2.2.2. Compute Frequent Itemsets"
   ]
  },
  {
   "cell_type": "code",
   "execution_count": null,
   "metadata": {},
   "outputs": [],
   "source": [
    "# Write code in cells like this\n",
    "# ...."
   ]
  },
  {
   "cell_type": "markdown",
   "metadata": {},
   "source": [
    "Write text in cells like this \n"
   ]
  },
  {
   "cell_type": "markdown",
   "metadata": {},
   "source": [
    "#### 2.2.3. Generate Association Rules from Frequent Itemsets"
   ]
  },
  {
   "cell_type": "code",
   "execution_count": null,
   "metadata": {},
   "outputs": [],
   "source": [
    "# Write code in cells like this\n",
    "# ...."
   ]
  },
  {
   "cell_type": "markdown",
   "metadata": {},
   "source": [
    "Write text in cells like this\n"
   ]
  },
  {
   "cell_type": "markdown",
   "metadata": {},
   "source": [
    "#### 2.2.4 Small Groceries versus All Stores\n",
    "\n",
    "Discuss the similarities and diferences between the results obtained in task 1. (frequent itemsets and association rules found in transactions from all stores) and those obtained above (frequent itemsets and association rules found in transactions only Small Groceries)."
   ]
  },
  {
   "cell_type": "markdown",
   "metadata": {},
   "source": [
    "Write text in cells like this\n"
   ]
  },
  {
   "cell_type": "markdown",
   "metadata": {},
   "source": [
    "### 2.3.  Deluxe/Gourmet Supermarkets versus Small Groceries  [For groups of 2 and 3]\n",
    "\n",
    "Discuss the similarities and diferences between the results obtained in task 2.1. (frequent itemsets and association rules found in transactions only from Deluxe/Gourmet Supermarkets) and those obtained in task 2.2. (frequent itemsets and association rules found in transactions only Small Groceries)."
   ]
  },
  {
   "cell_type": "code",
   "execution_count": null,
   "metadata": {},
   "outputs": [],
   "source": [
    "# Write code in cells like this\n",
    "# ...."
   ]
  },
  {
   "cell_type": "markdown",
   "metadata": {},
   "source": [
    "### 2.4. Analyse Supermarkets [Only for groups of 3]\n",
    "Here you should analyse Supermarkets (STORE_ID = 1, 3, 7, 10, 11, 15, 16).\n",
    "\n",
    "Use subsections as in tasks 2.1 and 2.2.\n",
    "\n"
   ]
  },
  {
   "cell_type": "code",
   "execution_count": null,
   "metadata": {},
   "outputs": [],
   "source": [
    "# Write code in cells like this\n",
    "# ...."
   ]
  },
  {
   "cell_type": "markdown",
   "metadata": {},
   "source": [
    "### 2.5. Deluxe/Gourmet Supermarkets versus Supermarkets [Only for groups of 3]\n",
    "Discuss the similarities and diferences between the results obtained in task 2.1. (frequent itemsets and association rules found in transactions from Deluxe Supermarkets/Gourmet Supermarkets) and the results obtained in task 2.4. (frequent itemsets and association rules found in transactions from Supermarkets).\n",
    "\n",
    "Write text in cells like this"
   ]
  },
  {
   "cell_type": "code",
   "execution_count": null,
   "metadata": {},
   "outputs": [],
   "source": [
    "# Write code in cells like this\n",
    "# ...."
   ]
  }
 ],
 "metadata": {
  "kernelspec": {
   "display_name": "Python 3",
   "language": "python",
   "name": "python3"
  },
  "language_info": {
   "codemirror_mode": {
    "name": "ipython",
    "version": 3
   },
   "file_extension": ".py",
   "mimetype": "text/x-python",
   "name": "python",
   "nbconvert_exporter": "python",
   "pygments_lexer": "ipython3",
   "version": "3.7.3"
  }
 },
 "nbformat": 4,
 "nbformat_minor": 4
}
